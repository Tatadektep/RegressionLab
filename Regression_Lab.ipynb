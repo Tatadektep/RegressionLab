{
 "cells": [
  {
   "cell_type": "markdown",
   "metadata": {},
   "source": [
    "<img src=\"http://imgur.com/1ZcRyrc.png\" style=\"float: left; margin: 20px; height: 55px\">\n",
    "\n",
    "# Simple Linear Regression with Sacramento Real Estate Data\n",
    "\n",
    "---\n",
    "\n",
    "In this lab you will hone your exploratory data analysis (EDA) skills and practice constructing linear regressions on a data set of Sacramento real estate sales.  The data set contains information on qualities of the property, location of the property, and time of sale."
   ]
  },
  {
   "cell_type": "code",
   "execution_count": 1,
   "metadata": {},
   "outputs": [],
   "source": [
    "# Standard imports\n",
    "import numpy as np\n",
    "import pandas as pd\n",
    "import matplotlib.pyplot as plt\n",
    "import seaborn as sns\n",
    "\n",
    "# Modeling imports\n",
    "from sklearn.linear_model import LinearRegression\n",
    "from sklearn import metrics"
   ]
  },
  {
   "cell_type": "code",
   "execution_count": 2,
   "metadata": {},
   "outputs": [],
   "source": [
    "# pip install pandas_profiling"
   ]
  },
  {
   "cell_type": "code",
   "execution_count": 3,
   "metadata": {},
   "outputs": [],
   "source": [
    "# Check panda_profiling libraries for EDA\n",
    "from pandas_profiling import ProfileReport\n"
   ]
  },
  {
   "cell_type": "markdown",
   "metadata": {},
   "source": [
    "### 1. Read in the Sacramento housing data set.\n",
    "\n",
    "The file is stored in the `datasets` subfolder."
   ]
  },
  {
   "cell_type": "code",
   "execution_count": 4,
   "metadata": {},
   "outputs": [],
   "source": [
    "houseprice = pd.read_csv(\"datasets/sacramento_real_estate_transactions.csv\")"
   ]
  },
  {
   "cell_type": "code",
   "execution_count": 5,
   "metadata": {},
   "outputs": [
    {
     "data": {
      "text/html": [
       "<div>\n",
       "<style scoped>\n",
       "    .dataframe tbody tr th:only-of-type {\n",
       "        vertical-align: middle;\n",
       "    }\n",
       "\n",
       "    .dataframe tbody tr th {\n",
       "        vertical-align: top;\n",
       "    }\n",
       "\n",
       "    .dataframe thead th {\n",
       "        text-align: right;\n",
       "    }\n",
       "</style>\n",
       "<table border=\"1\" class=\"dataframe\">\n",
       "  <thead>\n",
       "    <tr style=\"text-align: right;\">\n",
       "      <th></th>\n",
       "      <th>zip</th>\n",
       "      <th>beds</th>\n",
       "      <th>baths</th>\n",
       "      <th>sq__ft</th>\n",
       "      <th>price</th>\n",
       "      <th>latitude</th>\n",
       "      <th>longitude</th>\n",
       "    </tr>\n",
       "  </thead>\n",
       "  <tbody>\n",
       "    <tr>\n",
       "      <th>count</th>\n",
       "      <td>985.000000</td>\n",
       "      <td>985.000000</td>\n",
       "      <td>985.000000</td>\n",
       "      <td>985.000000</td>\n",
       "      <td>985.000000</td>\n",
       "      <td>985.000000</td>\n",
       "      <td>985.000000</td>\n",
       "    </tr>\n",
       "    <tr>\n",
       "      <th>mean</th>\n",
       "      <td>95750.697462</td>\n",
       "      <td>2.911675</td>\n",
       "      <td>1.776650</td>\n",
       "      <td>1312.918782</td>\n",
       "      <td>233715.951269</td>\n",
       "      <td>38.445121</td>\n",
       "      <td>-121.193371</td>\n",
       "    </tr>\n",
       "    <tr>\n",
       "      <th>std</th>\n",
       "      <td>85.176072</td>\n",
       "      <td>1.307932</td>\n",
       "      <td>0.895371</td>\n",
       "      <td>856.123224</td>\n",
       "      <td>139088.818896</td>\n",
       "      <td>5.103637</td>\n",
       "      <td>5.100670</td>\n",
       "    </tr>\n",
       "    <tr>\n",
       "      <th>min</th>\n",
       "      <td>95603.000000</td>\n",
       "      <td>0.000000</td>\n",
       "      <td>0.000000</td>\n",
       "      <td>-984.000000</td>\n",
       "      <td>-210944.000000</td>\n",
       "      <td>-121.503471</td>\n",
       "      <td>-121.551704</td>\n",
       "    </tr>\n",
       "    <tr>\n",
       "      <th>25%</th>\n",
       "      <td>95660.000000</td>\n",
       "      <td>2.000000</td>\n",
       "      <td>1.000000</td>\n",
       "      <td>950.000000</td>\n",
       "      <td>145000.000000</td>\n",
       "      <td>38.482704</td>\n",
       "      <td>-121.446119</td>\n",
       "    </tr>\n",
       "    <tr>\n",
       "      <th>50%</th>\n",
       "      <td>95762.000000</td>\n",
       "      <td>3.000000</td>\n",
       "      <td>2.000000</td>\n",
       "      <td>1304.000000</td>\n",
       "      <td>213750.000000</td>\n",
       "      <td>38.625932</td>\n",
       "      <td>-121.375799</td>\n",
       "    </tr>\n",
       "    <tr>\n",
       "      <th>75%</th>\n",
       "      <td>95828.000000</td>\n",
       "      <td>4.000000</td>\n",
       "      <td>2.000000</td>\n",
       "      <td>1718.000000</td>\n",
       "      <td>300000.000000</td>\n",
       "      <td>38.695589</td>\n",
       "      <td>-121.294893</td>\n",
       "    </tr>\n",
       "    <tr>\n",
       "      <th>max</th>\n",
       "      <td>95864.000000</td>\n",
       "      <td>8.000000</td>\n",
       "      <td>5.000000</td>\n",
       "      <td>5822.000000</td>\n",
       "      <td>884790.000000</td>\n",
       "      <td>39.020808</td>\n",
       "      <td>38.668433</td>\n",
       "    </tr>\n",
       "  </tbody>\n",
       "</table>\n",
       "</div>"
      ],
      "text/plain": [
       "                zip        beds       baths       sq__ft          price  \\\n",
       "count    985.000000  985.000000  985.000000   985.000000     985.000000   \n",
       "mean   95750.697462    2.911675    1.776650  1312.918782  233715.951269   \n",
       "std       85.176072    1.307932    0.895371   856.123224  139088.818896   \n",
       "min    95603.000000    0.000000    0.000000  -984.000000 -210944.000000   \n",
       "25%    95660.000000    2.000000    1.000000   950.000000  145000.000000   \n",
       "50%    95762.000000    3.000000    2.000000  1304.000000  213750.000000   \n",
       "75%    95828.000000    4.000000    2.000000  1718.000000  300000.000000   \n",
       "max    95864.000000    8.000000    5.000000  5822.000000  884790.000000   \n",
       "\n",
       "         latitude   longitude  \n",
       "count  985.000000  985.000000  \n",
       "mean    38.445121 -121.193371  \n",
       "std      5.103637    5.100670  \n",
       "min   -121.503471 -121.551704  \n",
       "25%     38.482704 -121.446119  \n",
       "50%     38.625932 -121.375799  \n",
       "75%     38.695589 -121.294893  \n",
       "max     39.020808   38.668433  "
      ]
     },
     "execution_count": 5,
     "metadata": {},
     "output_type": "execute_result"
    }
   ],
   "source": [
    "houseprice.describe()"
   ]
  },
  {
   "cell_type": "code",
   "execution_count": 6,
   "metadata": {},
   "outputs": [
    {
     "name": "stdout",
     "output_type": "stream",
     "text": [
      "<class 'pandas.core.frame.DataFrame'>\n",
      "RangeIndex: 985 entries, 0 to 984\n",
      "Data columns (total 12 columns):\n",
      " #   Column     Non-Null Count  Dtype  \n",
      "---  ------     --------------  -----  \n",
      " 0   street     985 non-null    object \n",
      " 1   city       985 non-null    object \n",
      " 2   zip        985 non-null    int64  \n",
      " 3   state      985 non-null    object \n",
      " 4   beds       985 non-null    int64  \n",
      " 5   baths      985 non-null    int64  \n",
      " 6   sq__ft     985 non-null    int64  \n",
      " 7   type       985 non-null    object \n",
      " 8   sale_date  985 non-null    object \n",
      " 9   price      985 non-null    int64  \n",
      " 10  latitude   985 non-null    float64\n",
      " 11  longitude  985 non-null    float64\n",
      "dtypes: float64(2), int64(5), object(5)\n",
      "memory usage: 92.5+ KB\n"
     ]
    }
   ],
   "source": [
    "houseprice.info()"
   ]
  },
  {
   "cell_type": "code",
   "execution_count": 7,
   "metadata": {},
   "outputs": [
    {
     "name": "stderr",
     "output_type": "stream",
     "text": [
      "C:\\Users\\Tata\\anaconda3\\lib\\site-packages\\dateutil\\parser\\_parser.py:1207: UnknownTimezoneWarning: tzname EDT identified but not understood.  Pass `tzinfos` argument in order to correctly return a timezone-aware datetime.  In a future version, this will raise an exception.\n",
      "  warnings.warn(\"tzname {tzname} identified but not understood.  \"\n"
     ]
    }
   ],
   "source": [
    "# change to datetime\n",
    "houseprice['sale_date'] = pd.to_datetime(houseprice['sale_date'])"
   ]
  },
  {
   "cell_type": "code",
   "execution_count": 8,
   "metadata": {},
   "outputs": [
    {
     "name": "stdout",
     "output_type": "stream",
     "text": [
      "<class 'pandas.core.frame.DataFrame'>\n",
      "RangeIndex: 985 entries, 0 to 984\n",
      "Data columns (total 12 columns):\n",
      " #   Column     Non-Null Count  Dtype         \n",
      "---  ------     --------------  -----         \n",
      " 0   street     985 non-null    object        \n",
      " 1   city       985 non-null    object        \n",
      " 2   zip        985 non-null    int64         \n",
      " 3   state      985 non-null    object        \n",
      " 4   beds       985 non-null    int64         \n",
      " 5   baths      985 non-null    int64         \n",
      " 6   sq__ft     985 non-null    int64         \n",
      " 7   type       985 non-null    object        \n",
      " 8   sale_date  985 non-null    datetime64[ns]\n",
      " 9   price      985 non-null    int64         \n",
      " 10  latitude   985 non-null    float64       \n",
      " 11  longitude  985 non-null    float64       \n",
      "dtypes: datetime64[ns](1), float64(2), int64(5), object(4)\n",
      "memory usage: 92.5+ KB\n"
     ]
    }
   ],
   "source": [
    "houseprice.info()"
   ]
  },
  {
   "cell_type": "code",
   "execution_count": 9,
   "metadata": {},
   "outputs": [
    {
     "data": {
      "text/plain": [
       "3    413\n",
       "4    258\n",
       "2    133\n",
       "0    108\n",
       "5     59\n",
       "1     10\n",
       "6      3\n",
       "8      1\n",
       "Name: beds, dtype: int64"
      ]
     },
     "execution_count": 9,
     "metadata": {},
     "output_type": "execute_result"
    }
   ],
   "source": [
    "# Check 0 and remove negative value\n",
    "houseprice[\"beds\"].value_counts()"
   ]
  },
  {
   "cell_type": "code",
   "execution_count": 10,
   "metadata": {},
   "outputs": [],
   "source": [
    "houseprice[\"beds\"] = houseprice[\"beds\"]"
   ]
  },
  {
   "cell_type": "code",
   "execution_count": 11,
   "metadata": {},
   "outputs": [
    {
     "data": {
      "text/plain": [
       "2    544\n",
       "1    180\n",
       "3    132\n",
       "0    108\n",
       "4     19\n",
       "5      2\n",
       "Name: baths, dtype: int64"
      ]
     },
     "execution_count": 11,
     "metadata": {},
     "output_type": "execute_result"
    }
   ],
   "source": [
    "houseprice[\"baths\"].value_counts()"
   ]
  },
  {
   "cell_type": "code",
   "execution_count": 12,
   "metadata": {},
   "outputs": [
    {
     "data": {
      "text/html": [
       "<div>\n",
       "<style scoped>\n",
       "    .dataframe tbody tr th:only-of-type {\n",
       "        vertical-align: middle;\n",
       "    }\n",
       "\n",
       "    .dataframe tbody tr th {\n",
       "        vertical-align: top;\n",
       "    }\n",
       "\n",
       "    .dataframe thead th {\n",
       "        text-align: right;\n",
       "    }\n",
       "</style>\n",
       "<table border=\"1\" class=\"dataframe\">\n",
       "  <thead>\n",
       "    <tr style=\"text-align: right;\">\n",
       "      <th></th>\n",
       "      <th>street</th>\n",
       "      <th>city</th>\n",
       "      <th>zip</th>\n",
       "      <th>state</th>\n",
       "      <th>beds</th>\n",
       "      <th>baths</th>\n",
       "      <th>sq__ft</th>\n",
       "      <th>type</th>\n",
       "      <th>sale_date</th>\n",
       "      <th>price</th>\n",
       "      <th>latitude</th>\n",
       "      <th>longitude</th>\n",
       "    </tr>\n",
       "  </thead>\n",
       "  <tbody>\n",
       "    <tr>\n",
       "      <th>703</th>\n",
       "      <td>1900 DANBROOK DR</td>\n",
       "      <td>SACRAMENTO</td>\n",
       "      <td>95835</td>\n",
       "      <td>AC</td>\n",
       "      <td>1</td>\n",
       "      <td>1</td>\n",
       "      <td>-984</td>\n",
       "      <td>Condo</td>\n",
       "      <td>2008-05-16</td>\n",
       "      <td>-210944</td>\n",
       "      <td>-121.503471</td>\n",
       "      <td>38.668433</td>\n",
       "    </tr>\n",
       "  </tbody>\n",
       "</table>\n",
       "</div>"
      ],
      "text/plain": [
       "               street        city    zip state  beds  baths  sq__ft   type  \\\n",
       "703  1900 DANBROOK DR  SACRAMENTO  95835    AC     1      1    -984  Condo   \n",
       "\n",
       "     sale_date   price    latitude  longitude  \n",
       "703 2008-05-16 -210944 -121.503471  38.668433  "
      ]
     },
     "execution_count": 12,
     "metadata": {},
     "output_type": "execute_result"
    }
   ],
   "source": [
    "negative_sq = houseprice[houseprice[\"sq__ft\"]<0]\n",
    "negative_sq"
   ]
  },
  {
   "cell_type": "code",
   "execution_count": 13,
   "metadata": {},
   "outputs": [],
   "source": [
    "# Negative value seem to be a valid data with wrong sign. So, negative sign is removed.\n",
    "houseprice[\"sq__ft\"] = houseprice[\"sq__ft\"] .mask(houseprice[\"sq__ft\"]  < 0, houseprice[\"sq__ft\"].abs())"
   ]
  },
  {
   "cell_type": "code",
   "execution_count": 14,
   "metadata": {},
   "outputs": [
    {
     "data": {
      "text/plain": [
       "0       836\n",
       "1      1167\n",
       "2       796\n",
       "3       852\n",
       "4       797\n",
       "       ... \n",
       "980    2280\n",
       "981    1477\n",
       "982    1216\n",
       "983    1685\n",
       "984    1362\n",
       "Name: sq__ft, Length: 985, dtype: int64"
      ]
     },
     "execution_count": 14,
     "metadata": {},
     "output_type": "execute_result"
    }
   ],
   "source": [
    "houseprice[\"sq__ft\"]"
   ]
  },
  {
   "cell_type": "code",
   "execution_count": 15,
   "metadata": {},
   "outputs": [
    {
     "data": {
      "text/plain": [
       "count     985.000000\n",
       "mean     1314.916751\n",
       "std       853.048243\n",
       "min         0.000000\n",
       "25%       952.000000\n",
       "50%      1304.000000\n",
       "75%      1718.000000\n",
       "max      5822.000000\n",
       "Name: sq__ft, dtype: float64"
      ]
     },
     "execution_count": 15,
     "metadata": {},
     "output_type": "execute_result"
    }
   ],
   "source": [
    "houseprice[\"sq__ft\"].describe()"
   ]
  },
  {
   "cell_type": "code",
   "execution_count": 16,
   "metadata": {},
   "outputs": [
    {
     "data": {
      "text/html": [
       "<div>\n",
       "<style scoped>\n",
       "    .dataframe tbody tr th:only-of-type {\n",
       "        vertical-align: middle;\n",
       "    }\n",
       "\n",
       "    .dataframe tbody tr th {\n",
       "        vertical-align: top;\n",
       "    }\n",
       "\n",
       "    .dataframe thead th {\n",
       "        text-align: right;\n",
       "    }\n",
       "</style>\n",
       "<table border=\"1\" class=\"dataframe\">\n",
       "  <thead>\n",
       "    <tr style=\"text-align: right;\">\n",
       "      <th></th>\n",
       "      <th>street</th>\n",
       "      <th>city</th>\n",
       "      <th>zip</th>\n",
       "      <th>state</th>\n",
       "      <th>beds</th>\n",
       "      <th>baths</th>\n",
       "      <th>sq__ft</th>\n",
       "      <th>type</th>\n",
       "      <th>sale_date</th>\n",
       "      <th>price</th>\n",
       "      <th>latitude</th>\n",
       "      <th>longitude</th>\n",
       "    </tr>\n",
       "  </thead>\n",
       "  <tbody>\n",
       "    <tr>\n",
       "      <th>703</th>\n",
       "      <td>1900 DANBROOK DR</td>\n",
       "      <td>SACRAMENTO</td>\n",
       "      <td>95835</td>\n",
       "      <td>AC</td>\n",
       "      <td>1</td>\n",
       "      <td>1</td>\n",
       "      <td>984</td>\n",
       "      <td>Condo</td>\n",
       "      <td>2008-05-16</td>\n",
       "      <td>-210944</td>\n",
       "      <td>-121.503471</td>\n",
       "      <td>38.668433</td>\n",
       "    </tr>\n",
       "  </tbody>\n",
       "</table>\n",
       "</div>"
      ],
      "text/plain": [
       "               street        city    zip state  beds  baths  sq__ft   type  \\\n",
       "703  1900 DANBROOK DR  SACRAMENTO  95835    AC     1      1     984  Condo   \n",
       "\n",
       "     sale_date   price    latitude  longitude  \n",
       "703 2008-05-16 -210944 -121.503471  38.668433  "
      ]
     },
     "execution_count": 16,
     "metadata": {},
     "output_type": "execute_result"
    }
   ],
   "source": [
    "negative_houseprice = houseprice[houseprice[\"price\"]<0]\n",
    "negative_houseprice"
   ]
  },
  {
   "cell_type": "code",
   "execution_count": 17,
   "metadata": {},
   "outputs": [],
   "source": [
    "# Negative value seem to be a valid data with wrong sign. So, negative sign is removed.\n",
    "houseprice[\"price\"] = houseprice[\"price\"] .mask(houseprice[\"price\"]  < 0, houseprice[\"price\"].abs())"
   ]
  },
  {
   "cell_type": "code",
   "execution_count": 18,
   "metadata": {},
   "outputs": [
    {
     "data": {
      "text/html": [
       "<div>\n",
       "<style scoped>\n",
       "    .dataframe tbody tr th:only-of-type {\n",
       "        vertical-align: middle;\n",
       "    }\n",
       "\n",
       "    .dataframe tbody tr th {\n",
       "        vertical-align: top;\n",
       "    }\n",
       "\n",
       "    .dataframe thead th {\n",
       "        text-align: right;\n",
       "    }\n",
       "</style>\n",
       "<table border=\"1\" class=\"dataframe\">\n",
       "  <thead>\n",
       "    <tr style=\"text-align: right;\">\n",
       "      <th></th>\n",
       "      <th>zip</th>\n",
       "      <th>beds</th>\n",
       "      <th>baths</th>\n",
       "      <th>sq__ft</th>\n",
       "      <th>price</th>\n",
       "      <th>latitude</th>\n",
       "      <th>longitude</th>\n",
       "    </tr>\n",
       "  </thead>\n",
       "  <tbody>\n",
       "    <tr>\n",
       "      <th>count</th>\n",
       "      <td>985.000000</td>\n",
       "      <td>985.000000</td>\n",
       "      <td>985.000000</td>\n",
       "      <td>985.000000</td>\n",
       "      <td>985.000000</td>\n",
       "      <td>985.000000</td>\n",
       "      <td>985.000000</td>\n",
       "    </tr>\n",
       "    <tr>\n",
       "      <th>mean</th>\n",
       "      <td>95750.697462</td>\n",
       "      <td>2.911675</td>\n",
       "      <td>1.776650</td>\n",
       "      <td>1314.916751</td>\n",
       "      <td>234144.263959</td>\n",
       "      <td>38.445121</td>\n",
       "      <td>-121.193371</td>\n",
       "    </tr>\n",
       "    <tr>\n",
       "      <th>std</th>\n",
       "      <td>85.176072</td>\n",
       "      <td>1.307932</td>\n",
       "      <td>0.895371</td>\n",
       "      <td>853.048243</td>\n",
       "      <td>138365.839085</td>\n",
       "      <td>5.103637</td>\n",
       "      <td>5.100670</td>\n",
       "    </tr>\n",
       "    <tr>\n",
       "      <th>min</th>\n",
       "      <td>95603.000000</td>\n",
       "      <td>0.000000</td>\n",
       "      <td>0.000000</td>\n",
       "      <td>0.000000</td>\n",
       "      <td>1551.000000</td>\n",
       "      <td>-121.503471</td>\n",
       "      <td>-121.551704</td>\n",
       "    </tr>\n",
       "    <tr>\n",
       "      <th>25%</th>\n",
       "      <td>95660.000000</td>\n",
       "      <td>2.000000</td>\n",
       "      <td>1.000000</td>\n",
       "      <td>952.000000</td>\n",
       "      <td>145000.000000</td>\n",
       "      <td>38.482704</td>\n",
       "      <td>-121.446119</td>\n",
       "    </tr>\n",
       "    <tr>\n",
       "      <th>50%</th>\n",
       "      <td>95762.000000</td>\n",
       "      <td>3.000000</td>\n",
       "      <td>2.000000</td>\n",
       "      <td>1304.000000</td>\n",
       "      <td>213750.000000</td>\n",
       "      <td>38.625932</td>\n",
       "      <td>-121.375799</td>\n",
       "    </tr>\n",
       "    <tr>\n",
       "      <th>75%</th>\n",
       "      <td>95828.000000</td>\n",
       "      <td>4.000000</td>\n",
       "      <td>2.000000</td>\n",
       "      <td>1718.000000</td>\n",
       "      <td>300000.000000</td>\n",
       "      <td>38.695589</td>\n",
       "      <td>-121.294893</td>\n",
       "    </tr>\n",
       "    <tr>\n",
       "      <th>max</th>\n",
       "      <td>95864.000000</td>\n",
       "      <td>8.000000</td>\n",
       "      <td>5.000000</td>\n",
       "      <td>5822.000000</td>\n",
       "      <td>884790.000000</td>\n",
       "      <td>39.020808</td>\n",
       "      <td>38.668433</td>\n",
       "    </tr>\n",
       "  </tbody>\n",
       "</table>\n",
       "</div>"
      ],
      "text/plain": [
       "                zip        beds       baths       sq__ft          price  \\\n",
       "count    985.000000  985.000000  985.000000   985.000000     985.000000   \n",
       "mean   95750.697462    2.911675    1.776650  1314.916751  234144.263959   \n",
       "std       85.176072    1.307932    0.895371   853.048243  138365.839085   \n",
       "min    95603.000000    0.000000    0.000000     0.000000    1551.000000   \n",
       "25%    95660.000000    2.000000    1.000000   952.000000  145000.000000   \n",
       "50%    95762.000000    3.000000    2.000000  1304.000000  213750.000000   \n",
       "75%    95828.000000    4.000000    2.000000  1718.000000  300000.000000   \n",
       "max    95864.000000    8.000000    5.000000  5822.000000  884790.000000   \n",
       "\n",
       "         latitude   longitude  \n",
       "count  985.000000  985.000000  \n",
       "mean    38.445121 -121.193371  \n",
       "std      5.103637    5.100670  \n",
       "min   -121.503471 -121.551704  \n",
       "25%     38.482704 -121.446119  \n",
       "50%     38.625932 -121.375799  \n",
       "75%     38.695589 -121.294893  \n",
       "max     39.020808   38.668433  "
      ]
     },
     "execution_count": 18,
     "metadata": {},
     "output_type": "execute_result"
    }
   ],
   "source": [
    "houseprice.describe()"
   ]
  },
  {
   "cell_type": "code",
   "execution_count": 19,
   "metadata": {},
   "outputs": [],
   "source": [
    "houseprice[\"missing\"] = ((houseprice[\"beds\"] == 0) | (houseprice[\"baths\"] == 0) | (houseprice[\"sq__ft\"] == 0))\n"
   ]
  },
  {
   "cell_type": "code",
   "execution_count": 20,
   "metadata": {},
   "outputs": [],
   "source": [
    "# houseprice[\"missing\"] = houseprice~((houseprice[\"beds\"] == 0) | (houseprice[\"baths\"] == 0) | (houseprice[\"sq__ft\"] == 0))"
   ]
  },
  {
   "cell_type": "code",
   "execution_count": 21,
   "metadata": {},
   "outputs": [
    {
     "data": {
      "text/plain": [
       "False    814\n",
       "True     171\n",
       "Name: missing, dtype: int64"
      ]
     },
     "execution_count": 21,
     "metadata": {},
     "output_type": "execute_result"
    }
   ],
   "source": [
    "houseprice[\"missing\"].value_counts()"
   ]
  },
  {
   "cell_type": "code",
   "execution_count": 22,
   "metadata": {},
   "outputs": [],
   "source": [
    "# Remove duplicates\n",
    "houseprice = houseprice.drop_duplicates()"
   ]
  },
  {
   "cell_type": "code",
   "execution_count": 23,
   "metadata": {},
   "outputs": [
    {
     "name": "stdout",
     "output_type": "stream",
     "text": [
      "(812, 13)\n",
      "(812, 13)\n",
      "(812, 13)\n"
     ]
    }
   ],
   "source": [
    "# Save original to come back to later \n",
    "houseprice_original = houseprice\n",
    "\n",
    "# Drop house with 0 square feet\n",
    "houseprice = houseprice[houseprice[\"sq__ft\"]>0]\n",
    "print(houseprice.shape)\n",
    "# Drop house with 0 bedroom\n",
    "houseprice = houseprice[houseprice[\"beds\"]>0]\n",
    "print(houseprice.shape)\n",
    "# Drop house with 0 bath\n",
    "houseprice = houseprice[houseprice[\"baths\"]>0]\n",
    "print(houseprice.shape)"
   ]
  },
  {
   "cell_type": "code",
   "execution_count": 24,
   "metadata": {},
   "outputs": [
    {
     "data": {
      "text/html": [
       "<div>\n",
       "<style scoped>\n",
       "    .dataframe tbody tr th:only-of-type {\n",
       "        vertical-align: middle;\n",
       "    }\n",
       "\n",
       "    .dataframe tbody tr th {\n",
       "        vertical-align: top;\n",
       "    }\n",
       "\n",
       "    .dataframe thead th {\n",
       "        text-align: right;\n",
       "    }\n",
       "</style>\n",
       "<table border=\"1\" class=\"dataframe\">\n",
       "  <thead>\n",
       "    <tr style=\"text-align: right;\">\n",
       "      <th></th>\n",
       "      <th>zip</th>\n",
       "      <th>beds</th>\n",
       "      <th>baths</th>\n",
       "      <th>sq__ft</th>\n",
       "      <th>price</th>\n",
       "      <th>latitude</th>\n",
       "      <th>longitude</th>\n",
       "    </tr>\n",
       "  </thead>\n",
       "  <tbody>\n",
       "    <tr>\n",
       "      <th>count</th>\n",
       "      <td>812.000000</td>\n",
       "      <td>812.000000</td>\n",
       "      <td>812.000000</td>\n",
       "      <td>812.000000</td>\n",
       "      <td>812.000000</td>\n",
       "      <td>812.000000</td>\n",
       "      <td>812.000000</td>\n",
       "    </tr>\n",
       "    <tr>\n",
       "      <th>mean</th>\n",
       "      <td>95761.592365</td>\n",
       "      <td>3.245074</td>\n",
       "      <td>1.961823</td>\n",
       "      <td>1592.461823</td>\n",
       "      <td>229723.743842</td>\n",
       "      <td>38.379663</td>\n",
       "      <td>-121.181441</td>\n",
       "    </tr>\n",
       "    <tr>\n",
       "      <th>std</th>\n",
       "      <td>85.281835</td>\n",
       "      <td>0.851654</td>\n",
       "      <td>0.669778</td>\n",
       "      <td>664.036825</td>\n",
       "      <td>119819.020404</td>\n",
       "      <td>5.619137</td>\n",
       "      <td>5.617824</td>\n",
       "    </tr>\n",
       "    <tr>\n",
       "      <th>min</th>\n",
       "      <td>95603.000000</td>\n",
       "      <td>1.000000</td>\n",
       "      <td>1.000000</td>\n",
       "      <td>484.000000</td>\n",
       "      <td>2000.000000</td>\n",
       "      <td>-121.503471</td>\n",
       "      <td>-121.550527</td>\n",
       "    </tr>\n",
       "    <tr>\n",
       "      <th>25%</th>\n",
       "      <td>95670.000000</td>\n",
       "      <td>3.000000</td>\n",
       "      <td>2.000000</td>\n",
       "      <td>1144.000000</td>\n",
       "      <td>148750.000000</td>\n",
       "      <td>38.473653</td>\n",
       "      <td>-121.451463</td>\n",
       "    </tr>\n",
       "    <tr>\n",
       "      <th>50%</th>\n",
       "      <td>95820.000000</td>\n",
       "      <td>3.000000</td>\n",
       "      <td>2.000000</td>\n",
       "      <td>1419.500000</td>\n",
       "      <td>208000.000000</td>\n",
       "      <td>38.591547</td>\n",
       "      <td>-121.404863</td>\n",
       "    </tr>\n",
       "    <tr>\n",
       "      <th>75%</th>\n",
       "      <td>95828.250000</td>\n",
       "      <td>4.000000</td>\n",
       "      <td>2.000000</td>\n",
       "      <td>1852.250000</td>\n",
       "      <td>285000.000000</td>\n",
       "      <td>38.674385</td>\n",
       "      <td>-121.325727</td>\n",
       "    </tr>\n",
       "    <tr>\n",
       "      <th>max</th>\n",
       "      <td>95864.000000</td>\n",
       "      <td>8.000000</td>\n",
       "      <td>5.000000</td>\n",
       "      <td>5822.000000</td>\n",
       "      <td>884790.000000</td>\n",
       "      <td>39.008159</td>\n",
       "      <td>38.668433</td>\n",
       "    </tr>\n",
       "  </tbody>\n",
       "</table>\n",
       "</div>"
      ],
      "text/plain": [
       "                zip        beds       baths       sq__ft          price  \\\n",
       "count    812.000000  812.000000  812.000000   812.000000     812.000000   \n",
       "mean   95761.592365    3.245074    1.961823  1592.461823  229723.743842   \n",
       "std       85.281835    0.851654    0.669778   664.036825  119819.020404   \n",
       "min    95603.000000    1.000000    1.000000   484.000000    2000.000000   \n",
       "25%    95670.000000    3.000000    2.000000  1144.000000  148750.000000   \n",
       "50%    95820.000000    3.000000    2.000000  1419.500000  208000.000000   \n",
       "75%    95828.250000    4.000000    2.000000  1852.250000  285000.000000   \n",
       "max    95864.000000    8.000000    5.000000  5822.000000  884790.000000   \n",
       "\n",
       "         latitude   longitude  \n",
       "count  812.000000  812.000000  \n",
       "mean    38.379663 -121.181441  \n",
       "std      5.619137    5.617824  \n",
       "min   -121.503471 -121.550527  \n",
       "25%     38.473653 -121.451463  \n",
       "50%     38.591547 -121.404863  \n",
       "75%     38.674385 -121.325727  \n",
       "max     39.008159   38.668433  "
      ]
     },
     "execution_count": 24,
     "metadata": {},
     "output_type": "execute_result"
    }
   ],
   "source": [
    "houseprice.describe()"
   ]
  },
  {
   "cell_type": "code",
   "execution_count": 25,
   "metadata": {},
   "outputs": [
    {
     "data": {
      "text/plain": [
       "array(['SACRAMENTO', 'RANCHO CORDOVA', 'RIO LINDA', 'CITRUS HEIGHTS',\n",
       "       'NORTH HIGHLANDS', 'ANTELOPE', 'ELK GROVE', 'ELVERTA', 'GALT',\n",
       "       'CARMICHAEL', 'ORANGEVALE', 'FOLSOM', 'MATHER', 'POLLOCK PINES',\n",
       "       'GOLD RIVER', 'RANCHO MURIETA', 'WILTON', 'GREENWOOD', 'FAIR OAKS',\n",
       "       'PLACERVILLE', 'MEADOW VISTA', 'ROSEVILLE', 'LINCOLN',\n",
       "       'CAMERON PARK', 'ROCKLIN', 'LOOMIS', 'AUBURN', 'EL DORADO HILLS',\n",
       "       'EL DORADO', 'PENRYN', 'GRANITE BAY', 'DIAMOND SPRINGS', 'COOL',\n",
       "       'WALNUT GROVE', 'SLOUGHHOUSE', 'WEST SACRAMENTO'], dtype=object)"
      ]
     },
     "execution_count": 25,
     "metadata": {},
     "output_type": "execute_result"
    }
   ],
   "source": [
    "houseprice[\"city\"].unique()\n",
    "#houseprice[\"city\"].value_counts()"
   ]
  },
  {
   "cell_type": "markdown",
   "metadata": {},
   "source": [
    "### 2. Conduct exploratory data analysis on this data set. \n",
    "\n",
    "If you discover any issues with the data, fix them to the best of your ability. Report any notable findings.\n",
    "\n",
    "_**Note:** Zip codes often have leading zeros — e.g., 02215 = Boston, MA — which will often get knocked off automatically by many software programs like Python or Excel._"
   ]
  },
  {
   "cell_type": "code",
   "execution_count": 26,
   "metadata": {},
   "outputs": [],
   "source": [
    "#houseprice[\"zip\"].value_counts()"
   ]
  },
  {
   "cell_type": "markdown",
   "metadata": {},
   "source": [
    "When you've finished cleaning or have made a good deal of progress cleaning, it's always a good idea to save your work. Use the pandas `to_csv` method to export your cleaned dataset.\n",
    "\n",
    "```python\n",
    "# example -- your dataframe name may be different\n",
    "dataframe.to_csv('./datasets/sacramento_cleaned_dataframe.csv', index=False)\n",
    "\n",
    "```"
   ]
  },
  {
   "cell_type": "code",
   "execution_count": 27,
   "metadata": {},
   "outputs": [],
   "source": [
    "houseprice.to_csv('./datasets/sacramento_cleaned_dataframe.csv', index=False)"
   ]
  },
  {
   "cell_type": "code",
   "execution_count": 28,
   "metadata": {},
   "outputs": [],
   "source": [
    "clean = pd.read_csv(\"datasets/sacramento_cleaned_dataframe.csv\")"
   ]
  },
  {
   "cell_type": "code",
   "execution_count": 29,
   "metadata": {},
   "outputs": [
    {
     "data": {
      "text/html": [
       "<div>\n",
       "<style scoped>\n",
       "    .dataframe tbody tr th:only-of-type {\n",
       "        vertical-align: middle;\n",
       "    }\n",
       "\n",
       "    .dataframe tbody tr th {\n",
       "        vertical-align: top;\n",
       "    }\n",
       "\n",
       "    .dataframe thead th {\n",
       "        text-align: right;\n",
       "    }\n",
       "</style>\n",
       "<table border=\"1\" class=\"dataframe\">\n",
       "  <thead>\n",
       "    <tr style=\"text-align: right;\">\n",
       "      <th></th>\n",
       "      <th>zip</th>\n",
       "      <th>beds</th>\n",
       "      <th>baths</th>\n",
       "      <th>sq__ft</th>\n",
       "      <th>price</th>\n",
       "      <th>latitude</th>\n",
       "      <th>longitude</th>\n",
       "    </tr>\n",
       "  </thead>\n",
       "  <tbody>\n",
       "    <tr>\n",
       "      <th>count</th>\n",
       "      <td>812.000000</td>\n",
       "      <td>812.000000</td>\n",
       "      <td>812.000000</td>\n",
       "      <td>812.000000</td>\n",
       "      <td>812.000000</td>\n",
       "      <td>812.000000</td>\n",
       "      <td>812.000000</td>\n",
       "    </tr>\n",
       "    <tr>\n",
       "      <th>mean</th>\n",
       "      <td>95761.592365</td>\n",
       "      <td>3.245074</td>\n",
       "      <td>1.961823</td>\n",
       "      <td>1592.461823</td>\n",
       "      <td>229723.743842</td>\n",
       "      <td>38.379663</td>\n",
       "      <td>-121.181441</td>\n",
       "    </tr>\n",
       "    <tr>\n",
       "      <th>std</th>\n",
       "      <td>85.281835</td>\n",
       "      <td>0.851654</td>\n",
       "      <td>0.669778</td>\n",
       "      <td>664.036825</td>\n",
       "      <td>119819.020404</td>\n",
       "      <td>5.619137</td>\n",
       "      <td>5.617824</td>\n",
       "    </tr>\n",
       "    <tr>\n",
       "      <th>min</th>\n",
       "      <td>95603.000000</td>\n",
       "      <td>1.000000</td>\n",
       "      <td>1.000000</td>\n",
       "      <td>484.000000</td>\n",
       "      <td>2000.000000</td>\n",
       "      <td>-121.503471</td>\n",
       "      <td>-121.550527</td>\n",
       "    </tr>\n",
       "    <tr>\n",
       "      <th>25%</th>\n",
       "      <td>95670.000000</td>\n",
       "      <td>3.000000</td>\n",
       "      <td>2.000000</td>\n",
       "      <td>1144.000000</td>\n",
       "      <td>148750.000000</td>\n",
       "      <td>38.473653</td>\n",
       "      <td>-121.451463</td>\n",
       "    </tr>\n",
       "    <tr>\n",
       "      <th>50%</th>\n",
       "      <td>95820.000000</td>\n",
       "      <td>3.000000</td>\n",
       "      <td>2.000000</td>\n",
       "      <td>1419.500000</td>\n",
       "      <td>208000.000000</td>\n",
       "      <td>38.591547</td>\n",
       "      <td>-121.404863</td>\n",
       "    </tr>\n",
       "    <tr>\n",
       "      <th>75%</th>\n",
       "      <td>95828.250000</td>\n",
       "      <td>4.000000</td>\n",
       "      <td>2.000000</td>\n",
       "      <td>1852.250000</td>\n",
       "      <td>285000.000000</td>\n",
       "      <td>38.674385</td>\n",
       "      <td>-121.325727</td>\n",
       "    </tr>\n",
       "    <tr>\n",
       "      <th>max</th>\n",
       "      <td>95864.000000</td>\n",
       "      <td>8.000000</td>\n",
       "      <td>5.000000</td>\n",
       "      <td>5822.000000</td>\n",
       "      <td>884790.000000</td>\n",
       "      <td>39.008159</td>\n",
       "      <td>38.668433</td>\n",
       "    </tr>\n",
       "  </tbody>\n",
       "</table>\n",
       "</div>"
      ],
      "text/plain": [
       "                zip        beds       baths       sq__ft          price  \\\n",
       "count    812.000000  812.000000  812.000000   812.000000     812.000000   \n",
       "mean   95761.592365    3.245074    1.961823  1592.461823  229723.743842   \n",
       "std       85.281835    0.851654    0.669778   664.036825  119819.020404   \n",
       "min    95603.000000    1.000000    1.000000   484.000000    2000.000000   \n",
       "25%    95670.000000    3.000000    2.000000  1144.000000  148750.000000   \n",
       "50%    95820.000000    3.000000    2.000000  1419.500000  208000.000000   \n",
       "75%    95828.250000    4.000000    2.000000  1852.250000  285000.000000   \n",
       "max    95864.000000    8.000000    5.000000  5822.000000  884790.000000   \n",
       "\n",
       "         latitude   longitude  \n",
       "count  812.000000  812.000000  \n",
       "mean    38.379663 -121.181441  \n",
       "std      5.619137    5.617824  \n",
       "min   -121.503471 -121.550527  \n",
       "25%     38.473653 -121.451463  \n",
       "50%     38.591547 -121.404863  \n",
       "75%     38.674385 -121.325727  \n",
       "max     39.008159   38.668433  "
      ]
     },
     "execution_count": 29,
     "metadata": {},
     "output_type": "execute_result"
    }
   ],
   "source": [
    "clean.describe()"
   ]
  },
  {
   "cell_type": "code",
   "execution_count": 30,
   "metadata": {},
   "outputs": [
    {
     "data": {
      "image/png": "[encoded data removed]",
      "text/plain": [
       "<Figure size 432x288 with 1 Axes>"
      ]
     },
     "metadata": {
      "needs_background": "light"
     },
     "output_type": "display_data"
    }
   ],
   "source": [
    "# We would need to check the outlier values as the values lies more than 3 standard deviation away from the mean.\n",
    "# Linear models are easily skewed by outliers\n",
    "sns.boxplot(x=clean[\"sq__ft\"]);"
   ]
  },
  {
   "cell_type": "code",
   "execution_count": 31,
   "metadata": {},
   "outputs": [
    {
     "data": {
      "image/png": "[encoded data removed]",
      "text/plain": [
       "<Figure size 432x288 with 1 Axes>"
      ]
     },
     "metadata": {
      "needs_background": "light"
     },
     "output_type": "display_data"
    }
   ],
   "source": [
    "sns.boxplot(x=clean[\"price\"]);"
   ]
  },
  {
   "cell_type": "code",
   "execution_count": 32,
   "metadata": {},
   "outputs": [],
   "source": [
    "# We would remove outliers"
   ]
  },
  {
   "cell_type": "code",
   "execution_count": 33,
   "metadata": {},
   "outputs": [],
   "source": [
    "# Remove sq__ft extreme outliers\n",
    "upperlimit = clean[\"sq__ft\"].mean() + 5*np.std(clean[\"sq__ft\"])\n",
    "remove = clean[clean[\"sq__ft\"]<upperlimit]"
   ]
  },
  {
   "cell_type": "code",
   "execution_count": 34,
   "metadata": {},
   "outputs": [],
   "source": [
    "#upperlimit"
   ]
  },
  {
   "cell_type": "code",
   "execution_count": 35,
   "metadata": {},
   "outputs": [],
   "source": [
    "#clean[\"sq__ft\"].mean()"
   ]
  },
  {
   "cell_type": "code",
   "execution_count": 36,
   "metadata": {},
   "outputs": [
    {
     "data": {
      "text/html": [
       "<div>\n",
       "<style scoped>\n",
       "    .dataframe tbody tr th:only-of-type {\n",
       "        vertical-align: middle;\n",
       "    }\n",
       "\n",
       "    .dataframe tbody tr th {\n",
       "        vertical-align: top;\n",
       "    }\n",
       "\n",
       "    .dataframe thead th {\n",
       "        text-align: right;\n",
       "    }\n",
       "</style>\n",
       "<table border=\"1\" class=\"dataframe\">\n",
       "  <thead>\n",
       "    <tr style=\"text-align: right;\">\n",
       "      <th></th>\n",
       "      <th>zip</th>\n",
       "      <th>beds</th>\n",
       "      <th>baths</th>\n",
       "      <th>sq__ft</th>\n",
       "      <th>price</th>\n",
       "      <th>latitude</th>\n",
       "      <th>longitude</th>\n",
       "    </tr>\n",
       "  </thead>\n",
       "  <tbody>\n",
       "    <tr>\n",
       "      <th>count</th>\n",
       "      <td>811.000000</td>\n",
       "      <td>811.000000</td>\n",
       "      <td>811.000000</td>\n",
       "      <td>811.000000</td>\n",
       "      <td>811.000000</td>\n",
       "      <td>811.000000</td>\n",
       "      <td>811.000000</td>\n",
       "    </tr>\n",
       "    <tr>\n",
       "      <th>mean</th>\n",
       "      <td>95761.689273</td>\n",
       "      <td>3.245376</td>\n",
       "      <td>1.959309</td>\n",
       "      <td>1587.246609</td>\n",
       "      <td>230004.537608</td>\n",
       "      <td>38.379527</td>\n",
       "      <td>-121.181505</td>\n",
       "    </tr>\n",
       "    <tr>\n",
       "      <th>std</th>\n",
       "      <td>85.289715</td>\n",
       "      <td>0.852136</td>\n",
       "      <td>0.666349</td>\n",
       "      <td>647.593138</td>\n",
       "      <td>119625.334075</td>\n",
       "      <td>5.622603</td>\n",
       "      <td>5.621291</td>\n",
       "    </tr>\n",
       "    <tr>\n",
       "      <th>min</th>\n",
       "      <td>95603.000000</td>\n",
       "      <td>1.000000</td>\n",
       "      <td>1.000000</td>\n",
       "      <td>484.000000</td>\n",
       "      <td>30000.000000</td>\n",
       "      <td>-121.503471</td>\n",
       "      <td>-121.550527</td>\n",
       "    </tr>\n",
       "    <tr>\n",
       "      <th>25%</th>\n",
       "      <td>95670.000000</td>\n",
       "      <td>3.000000</td>\n",
       "      <td>2.000000</td>\n",
       "      <td>1144.000000</td>\n",
       "      <td>148875.000000</td>\n",
       "      <td>38.473531</td>\n",
       "      <td>-121.451482</td>\n",
       "    </tr>\n",
       "    <tr>\n",
       "      <th>50%</th>\n",
       "      <td>95820.000000</td>\n",
       "      <td>3.000000</td>\n",
       "      <td>2.000000</td>\n",
       "      <td>1419.000000</td>\n",
       "      <td>208000.000000</td>\n",
       "      <td>38.591618</td>\n",
       "      <td>-121.404999</td>\n",
       "    </tr>\n",
       "    <tr>\n",
       "      <th>75%</th>\n",
       "      <td>95828.500000</td>\n",
       "      <td>4.000000</td>\n",
       "      <td>2.000000</td>\n",
       "      <td>1851.000000</td>\n",
       "      <td>285000.000000</td>\n",
       "      <td>38.674545</td>\n",
       "      <td>-121.325958</td>\n",
       "    </tr>\n",
       "    <tr>\n",
       "      <th>max</th>\n",
       "      <td>95864.000000</td>\n",
       "      <td>8.000000</td>\n",
       "      <td>5.000000</td>\n",
       "      <td>4400.000000</td>\n",
       "      <td>884790.000000</td>\n",
       "      <td>39.008159</td>\n",
       "      <td>38.668433</td>\n",
       "    </tr>\n",
       "  </tbody>\n",
       "</table>\n",
       "</div>"
      ],
      "text/plain": [
       "                zip        beds       baths       sq__ft          price  \\\n",
       "count    811.000000  811.000000  811.000000   811.000000     811.000000   \n",
       "mean   95761.689273    3.245376    1.959309  1587.246609  230004.537608   \n",
       "std       85.289715    0.852136    0.666349   647.593138  119625.334075   \n",
       "min    95603.000000    1.000000    1.000000   484.000000   30000.000000   \n",
       "25%    95670.000000    3.000000    2.000000  1144.000000  148875.000000   \n",
       "50%    95820.000000    3.000000    2.000000  1419.000000  208000.000000   \n",
       "75%    95828.500000    4.000000    2.000000  1851.000000  285000.000000   \n",
       "max    95864.000000    8.000000    5.000000  4400.000000  884790.000000   \n",
       "\n",
       "         latitude   longitude  \n",
       "count  811.000000  811.000000  \n",
       "mean    38.379527 -121.181505  \n",
       "std      5.622603    5.621291  \n",
       "min   -121.503471 -121.550527  \n",
       "25%     38.473531 -121.451482  \n",
       "50%     38.591618 -121.404999  \n",
       "75%     38.674545 -121.325958  \n",
       "max     39.008159   38.668433  "
      ]
     },
     "execution_count": 36,
     "metadata": {},
     "output_type": "execute_result"
    }
   ],
   "source": [
    "remove.describe()"
   ]
  },
  {
   "cell_type": "code",
   "execution_count": 37,
   "metadata": {},
   "outputs": [],
   "source": [
    "# Remove price outliers\n",
    "upperlimit = clean[\"price\"].mean() + 5*np.std(clean[\"price\"])\n",
    "remove = remove[remove[\"price\"]<upperlimit]"
   ]
  },
  {
   "cell_type": "code",
   "execution_count": 38,
   "metadata": {},
   "outputs": [
    {
     "data": {
      "text/plain": [
       "828449.8312880466"
      ]
     },
     "execution_count": 38,
     "metadata": {},
     "output_type": "execute_result"
    }
   ],
   "source": [
    "upperlimit"
   ]
  },
  {
   "cell_type": "code",
   "execution_count": 39,
   "metadata": {},
   "outputs": [
    {
     "data": {
      "text/html": [
       "<div>\n",
       "<style scoped>\n",
       "    .dataframe tbody tr th:only-of-type {\n",
       "        vertical-align: middle;\n",
       "    }\n",
       "\n",
       "    .dataframe tbody tr th {\n",
       "        vertical-align: top;\n",
       "    }\n",
       "\n",
       "    .dataframe thead th {\n",
       "        text-align: right;\n",
       "    }\n",
       "</style>\n",
       "<table border=\"1\" class=\"dataframe\">\n",
       "  <thead>\n",
       "    <tr style=\"text-align: right;\">\n",
       "      <th></th>\n",
       "      <th>zip</th>\n",
       "      <th>beds</th>\n",
       "      <th>baths</th>\n",
       "      <th>sq__ft</th>\n",
       "      <th>price</th>\n",
       "      <th>latitude</th>\n",
       "      <th>longitude</th>\n",
       "    </tr>\n",
       "  </thead>\n",
       "  <tbody>\n",
       "    <tr>\n",
       "      <th>count</th>\n",
       "      <td>809.000000</td>\n",
       "      <td>809.000000</td>\n",
       "      <td>809.000000</td>\n",
       "      <td>809.000000</td>\n",
       "      <td>809.000000</td>\n",
       "      <td>809.000000</td>\n",
       "      <td>809.000000</td>\n",
       "    </tr>\n",
       "    <tr>\n",
       "      <th>mean</th>\n",
       "      <td>95761.912237</td>\n",
       "      <td>3.243511</td>\n",
       "      <td>1.955501</td>\n",
       "      <td>1583.724351</td>\n",
       "      <td>228442.385661</td>\n",
       "      <td>38.378946</td>\n",
       "      <td>-121.181548</td>\n",
       "    </tr>\n",
       "    <tr>\n",
       "      <th>std</th>\n",
       "      <td>85.270237</td>\n",
       "      <td>0.852362</td>\n",
       "      <td>0.662277</td>\n",
       "      <td>640.788014</td>\n",
       "      <td>115557.650065</td>\n",
       "      <td>5.629536</td>\n",
       "      <td>5.628243</td>\n",
       "    </tr>\n",
       "    <tr>\n",
       "      <th>min</th>\n",
       "      <td>95603.000000</td>\n",
       "      <td>1.000000</td>\n",
       "      <td>1.000000</td>\n",
       "      <td>484.000000</td>\n",
       "      <td>30000.000000</td>\n",
       "      <td>-121.503471</td>\n",
       "      <td>-121.550527</td>\n",
       "    </tr>\n",
       "    <tr>\n",
       "      <th>25%</th>\n",
       "      <td>95670.000000</td>\n",
       "      <td>3.000000</td>\n",
       "      <td>2.000000</td>\n",
       "      <td>1144.000000</td>\n",
       "      <td>148750.000000</td>\n",
       "      <td>38.473775</td>\n",
       "      <td>-121.451520</td>\n",
       "    </tr>\n",
       "    <tr>\n",
       "      <th>50%</th>\n",
       "      <td>95820.000000</td>\n",
       "      <td>3.000000</td>\n",
       "      <td>2.000000</td>\n",
       "      <td>1418.000000</td>\n",
       "      <td>208000.000000</td>\n",
       "      <td>38.591618</td>\n",
       "      <td>-121.405912</td>\n",
       "    </tr>\n",
       "    <tr>\n",
       "      <th>75%</th>\n",
       "      <td>95829.000000</td>\n",
       "      <td>4.000000</td>\n",
       "      <td>2.000000</td>\n",
       "      <td>1851.000000</td>\n",
       "      <td>284893.000000</td>\n",
       "      <td>38.674226</td>\n",
       "      <td>-121.326830</td>\n",
       "    </tr>\n",
       "    <tr>\n",
       "      <th>max</th>\n",
       "      <td>95864.000000</td>\n",
       "      <td>8.000000</td>\n",
       "      <td>5.000000</td>\n",
       "      <td>4303.000000</td>\n",
       "      <td>760000.000000</td>\n",
       "      <td>39.008159</td>\n",
       "      <td>38.668433</td>\n",
       "    </tr>\n",
       "  </tbody>\n",
       "</table>\n",
       "</div>"
      ],
      "text/plain": [
       "                zip        beds       baths       sq__ft          price  \\\n",
       "count    809.000000  809.000000  809.000000   809.000000     809.000000   \n",
       "mean   95761.912237    3.243511    1.955501  1583.724351  228442.385661   \n",
       "std       85.270237    0.852362    0.662277   640.788014  115557.650065   \n",
       "min    95603.000000    1.000000    1.000000   484.000000   30000.000000   \n",
       "25%    95670.000000    3.000000    2.000000  1144.000000  148750.000000   \n",
       "50%    95820.000000    3.000000    2.000000  1418.000000  208000.000000   \n",
       "75%    95829.000000    4.000000    2.000000  1851.000000  284893.000000   \n",
       "max    95864.000000    8.000000    5.000000  4303.000000  760000.000000   \n",
       "\n",
       "         latitude   longitude  \n",
       "count  809.000000  809.000000  \n",
       "mean    38.378946 -121.181548  \n",
       "std      5.629536    5.628243  \n",
       "min   -121.503471 -121.550527  \n",
       "25%     38.473775 -121.451520  \n",
       "50%     38.591618 -121.405912  \n",
       "75%     38.674226 -121.326830  \n",
       "max     39.008159   38.668433  "
      ]
     },
     "execution_count": 39,
     "metadata": {},
     "output_type": "execute_result"
    }
   ],
   "source": [
    "remove.describe()"
   ]
  },
  {
   "cell_type": "code",
   "execution_count": 40,
   "metadata": {},
   "outputs": [
    {
     "data": {
      "text/html": [
       "<div>\n",
       "<style scoped>\n",
       "    .dataframe tbody tr th:only-of-type {\n",
       "        vertical-align: middle;\n",
       "    }\n",
       "\n",
       "    .dataframe tbody tr th {\n",
       "        vertical-align: top;\n",
       "    }\n",
       "\n",
       "    .dataframe thead th {\n",
       "        text-align: right;\n",
       "    }\n",
       "</style>\n",
       "<table border=\"1\" class=\"dataframe\">\n",
       "  <thead>\n",
       "    <tr style=\"text-align: right;\">\n",
       "      <th></th>\n",
       "      <th>zip</th>\n",
       "      <th>beds</th>\n",
       "      <th>baths</th>\n",
       "      <th>sq__ft</th>\n",
       "      <th>price</th>\n",
       "      <th>latitude</th>\n",
       "      <th>longitude</th>\n",
       "    </tr>\n",
       "  </thead>\n",
       "  <tbody>\n",
       "    <tr>\n",
       "      <th>count</th>\n",
       "      <td>812.000000</td>\n",
       "      <td>812.000000</td>\n",
       "      <td>812.000000</td>\n",
       "      <td>812.000000</td>\n",
       "      <td>812.000000</td>\n",
       "      <td>812.000000</td>\n",
       "      <td>812.000000</td>\n",
       "    </tr>\n",
       "    <tr>\n",
       "      <th>mean</th>\n",
       "      <td>95761.592365</td>\n",
       "      <td>3.245074</td>\n",
       "      <td>1.961823</td>\n",
       "      <td>1592.461823</td>\n",
       "      <td>229723.743842</td>\n",
       "      <td>38.379663</td>\n",
       "      <td>-121.181441</td>\n",
       "    </tr>\n",
       "    <tr>\n",
       "      <th>std</th>\n",
       "      <td>85.281835</td>\n",
       "      <td>0.851654</td>\n",
       "      <td>0.669778</td>\n",
       "      <td>664.036825</td>\n",
       "      <td>119819.020404</td>\n",
       "      <td>5.619137</td>\n",
       "      <td>5.617824</td>\n",
       "    </tr>\n",
       "    <tr>\n",
       "      <th>min</th>\n",
       "      <td>95603.000000</td>\n",
       "      <td>1.000000</td>\n",
       "      <td>1.000000</td>\n",
       "      <td>484.000000</td>\n",
       "      <td>2000.000000</td>\n",
       "      <td>-121.503471</td>\n",
       "      <td>-121.550527</td>\n",
       "    </tr>\n",
       "    <tr>\n",
       "      <th>25%</th>\n",
       "      <td>95670.000000</td>\n",
       "      <td>3.000000</td>\n",
       "      <td>2.000000</td>\n",
       "      <td>1144.000000</td>\n",
       "      <td>148750.000000</td>\n",
       "      <td>38.473653</td>\n",
       "      <td>-121.451463</td>\n",
       "    </tr>\n",
       "    <tr>\n",
       "      <th>50%</th>\n",
       "      <td>95820.000000</td>\n",
       "      <td>3.000000</td>\n",
       "      <td>2.000000</td>\n",
       "      <td>1419.500000</td>\n",
       "      <td>208000.000000</td>\n",
       "      <td>38.591547</td>\n",
       "      <td>-121.404863</td>\n",
       "    </tr>\n",
       "    <tr>\n",
       "      <th>75%</th>\n",
       "      <td>95828.250000</td>\n",
       "      <td>4.000000</td>\n",
       "      <td>2.000000</td>\n",
       "      <td>1852.250000</td>\n",
       "      <td>285000.000000</td>\n",
       "      <td>38.674385</td>\n",
       "      <td>-121.325727</td>\n",
       "    </tr>\n",
       "    <tr>\n",
       "      <th>max</th>\n",
       "      <td>95864.000000</td>\n",
       "      <td>8.000000</td>\n",
       "      <td>5.000000</td>\n",
       "      <td>5822.000000</td>\n",
       "      <td>884790.000000</td>\n",
       "      <td>39.008159</td>\n",
       "      <td>38.668433</td>\n",
       "    </tr>\n",
       "  </tbody>\n",
       "</table>\n",
       "</div>"
      ],
      "text/plain": [
       "                zip        beds       baths       sq__ft          price  \\\n",
       "count    812.000000  812.000000  812.000000   812.000000     812.000000   \n",
       "mean   95761.592365    3.245074    1.961823  1592.461823  229723.743842   \n",
       "std       85.281835    0.851654    0.669778   664.036825  119819.020404   \n",
       "min    95603.000000    1.000000    1.000000   484.000000    2000.000000   \n",
       "25%    95670.000000    3.000000    2.000000  1144.000000  148750.000000   \n",
       "50%    95820.000000    3.000000    2.000000  1419.500000  208000.000000   \n",
       "75%    95828.250000    4.000000    2.000000  1852.250000  285000.000000   \n",
       "max    95864.000000    8.000000    5.000000  5822.000000  884790.000000   \n",
       "\n",
       "         latitude   longitude  \n",
       "count  812.000000  812.000000  \n",
       "mean    38.379663 -121.181441  \n",
       "std      5.619137    5.617824  \n",
       "min   -121.503471 -121.550527  \n",
       "25%     38.473653 -121.451463  \n",
       "50%     38.591547 -121.404863  \n",
       "75%     38.674385 -121.325727  \n",
       "max     39.008159   38.668433  "
      ]
     },
     "execution_count": 40,
     "metadata": {},
     "output_type": "execute_result"
    }
   ],
   "source": [
    "clean.describe()"
   ]
  },
  {
   "cell_type": "code",
   "execution_count": 41,
   "metadata": {},
   "outputs": [],
   "source": [
    "clean['sale_date'] = pd.to_datetime(clean['sale_date'])"
   ]
  },
  {
   "cell_type": "code",
   "execution_count": 42,
   "metadata": {},
   "outputs": [
    {
     "name": "stdout",
     "output_type": "stream",
     "text": [
      "<class 'pandas.core.frame.DataFrame'>\n",
      "RangeIndex: 812 entries, 0 to 811\n",
      "Data columns (total 13 columns):\n",
      " #   Column     Non-Null Count  Dtype         \n",
      "---  ------     --------------  -----         \n",
      " 0   street     812 non-null    object        \n",
      " 1   city       812 non-null    object        \n",
      " 2   zip        812 non-null    int64         \n",
      " 3   state      812 non-null    object        \n",
      " 4   beds       812 non-null    int64         \n",
      " 5   baths      812 non-null    int64         \n",
      " 6   sq__ft     812 non-null    int64         \n",
      " 7   type       812 non-null    object        \n",
      " 8   sale_date  812 non-null    datetime64[ns]\n",
      " 9   price      812 non-null    int64         \n",
      " 10  latitude   812 non-null    float64       \n",
      " 11  longitude  812 non-null    float64       \n",
      " 12  missing    812 non-null    bool          \n",
      "dtypes: bool(1), datetime64[ns](1), float64(2), int64(5), object(4)\n",
      "memory usage: 77.0+ KB\n"
     ]
    }
   ],
   "source": [
    "clean.info()"
   ]
  },
  {
   "cell_type": "code",
   "execution_count": 43,
   "metadata": {},
   "outputs": [],
   "source": [
    "profile = ProfileReport(clean, title=\"Pandas Profiling Report\")"
   ]
  },
  {
   "cell_type": "code",
   "execution_count": 44,
   "metadata": {},
   "outputs": [],
   "source": [
    "#profile.to_widgets()"
   ]
  },
  {
   "cell_type": "markdown",
   "metadata": {},
   "source": [
    "### 3. Our goal will be to predict price. List variables that you think qualify as predictors of price in an SLR model.\n",
    "\n",
    "For each of the variables you believe should be considered, generate a plot showing the relationship between the independent and dependent variables."
   ]
  },
  {
   "cell_type": "code",
   "execution_count": 45,
   "metadata": {},
   "outputs": [],
   "source": [
    "# We would explore number of bedrooms, bathrooms and square feet"
   ]
  },
  {
   "cell_type": "code",
   "execution_count": 46,
   "metadata": {},
   "outputs": [
    {
     "data": {
      "image/png": "[encoded data removed]",
      "text/plain": [
       "<Figure size 360x360 with 1 Axes>"
      ]
     },
     "metadata": {
      "needs_background": "light"
     },
     "output_type": "display_data"
    }
   ],
   "source": [
    "sns.lmplot(x = \"beds\", y = \"price\", data = clean);"
   ]
  },
  {
   "cell_type": "code",
   "execution_count": 47,
   "metadata": {},
   "outputs": [
    {
     "data": {
      "image/png": "[encoded data removed]",
      "text/plain": [
       "<Figure size 360x360 with 1 Axes>"
      ]
     },
     "metadata": {
      "needs_background": "light"
     },
     "output_type": "display_data"
    }
   ],
   "source": [
    "sns.lmplot(x = \"baths\", y = \"price\", data = clean);"
   ]
  },
  {
   "cell_type": "code",
   "execution_count": 48,
   "metadata": {},
   "outputs": [
    {
     "data": {
      "image/png": "[encoded data removed]",
      "text/plain": [
       "<Figure size 360x360 with 1 Axes>"
      ]
     },
     "metadata": {
      "needs_background": "light"
     },
     "output_type": "display_data"
    }
   ],
   "source": [
    "sns.lmplot(x = \"sq__ft\", y = \"price\", data = clean);"
   ]
  },
  {
   "cell_type": "markdown",
   "metadata": {},
   "source": [
    "### 4. Which variable would be the best predictor of Y in an SLR model? Why?"
   ]
  },
  {
   "cell_type": "code",
   "execution_count": 49,
   "metadata": {},
   "outputs": [],
   "source": [
    "# Number of bedrooms, bathrooms and square feet should be considered.\n",
    "# Square feet would be the best predictor as it looks highly correlated and best fit with sale price.\n",
    "# Moreover,Square feet is more detailed with higher variance than others."
   ]
  },
  {
   "cell_type": "markdown",
   "metadata": {},
   "source": [
    "### 5. Write a function that will take in two lists, `x` and `y`, and return the intercept and slope coefficients that minimize SSE. \n",
    "\n",
    "`y` is the target variable, and `x` is the predictor variable.\n",
    "\n",
    "**Don't use scikit-learn for this**. Instead, use numpy and scipy.\n",
    "\n",
    "The slope and intercept of simple linear regression can be calculated by using certain summary statistics. In particular, we'll need to know:\n",
    "\n",
    "- $\\bar{x}$, the mean of `x`\n",
    "- $\\bar{y}$, the mean of `y`\n",
    "- $s_{x}$, the standard deviation of `x`\n",
    "- $s_{y}$, the standard deviation of `y`\n",
    "- $r_{xy}$, the correlation of `x` and `y`\n",
    "\n",
    "Given these summary statistics, the **coefficient on `X`** (or the slope) can be given by $\\beta_{1} = r_{xy} * \\frac{s_{y}}{s_{x}}$. The **intercept of the model** can be given by $\\beta_{0} = \\bar{y} - \\beta_{1}\\bar{x}$.\n",
    "\n",
    "Your function should take in `x` and `y`, then use the above summary statistics to calculate the slope and intercept.\n",
    "\n",
    "- **Test your function on price and the variable you determined was the best predictor in Problem 4.**\n",
    "- **Report the slope and intercept.**"
   ]
  },
  {
   "cell_type": "code",
   "execution_count": 50,
   "metadata": {},
   "outputs": [
    {
     "name": "stdout",
     "output_type": "stream",
     "text": [
      "[125.05487806]\n",
      "30578.62479426342\n"
     ]
    }
   ],
   "source": [
    "x = clean[[\"sq__ft\"]]\n",
    "y = clean[\"price\"]\n",
    "lr = LinearRegression()\n",
    "lr.fit (x,y)\n",
    "y_preds =lr.predict(x)\n",
    "print(lr.coef_)\n",
    "print(lr.intercept_)"
   ]
  },
  {
   "cell_type": "markdown",
   "metadata": {},
   "source": [
    "### 6. Interpret the intercept and the slope."
   ]
  },
  {
   "cell_type": "code",
   "execution_count": 51,
   "metadata": {},
   "outputs": [
    {
     "name": "stdout",
     "output_type": "stream",
     "text": [
      "The intercept can be interpret as the predicted house price start at 30578.62 for \n",
      "0 square feet house.\n",
      "The intercept can be easier to understand by using 1000 square feet house,\n",
      "the predicted house price start at 155633.5.\n"
     ]
    }
   ],
   "source": [
    "print(f\"The intercept can be interpret as the predicted house price start at {round(lr.intercept_,2)} \\\n",
    "for \\n0 square feet house.\")\n",
    "print(f\"The intercept can be easier to understand by using 1000 square feet house,\\\n",
    "\\nthe predicted house price start at {round(lr.intercept_ + lr.coef_[0]*1000,2)}.\")"
   ]
  },
  {
   "cell_type": "code",
   "execution_count": 52,
   "metadata": {},
   "outputs": [
    {
     "name": "stdout",
     "output_type": "stream",
     "text": [
      "The slope can be interpret as the average house price increased by 125.05 per square feet.\n"
     ]
    }
   ],
   "source": [
    "print(f\"The slope can be interpret as the average house price increased by \\\n",
    "{round(lr.coef_[0],2)} per square feet.\")"
   ]
  },
  {
   "cell_type": "markdown",
   "metadata": {},
   "source": [
    "### 7. Give an example of how this model could be used for prediction and how it could be used for inference. \n",
    "\n",
    "**Be sure to make it clear which example is associated with prediction and which is associated with inference.**"
   ]
  },
  {
   "cell_type": "code",
   "execution_count": 53,
   "metadata": {},
   "outputs": [],
   "source": [
    "# The model can predict house price using square feet as the bigger house tends to have higher price."
   ]
  },
  {
   "cell_type": "markdown",
   "metadata": {},
   "source": [
    "### 8: Using the model you came up with in Problem 5, calculate and plot the residuals."
   ]
  },
  {
   "cell_type": "code",
   "execution_count": 54,
   "metadata": {},
   "outputs": [],
   "source": [
    "# Create residuals (aka errors): (y - y_hat)\n",
    "resids = y - y_preds"
   ]
  },
  {
   "cell_type": "code",
   "execution_count": 55,
   "metadata": {},
   "outputs": [
    {
     "data": {
      "text/plain": [
       "0      -75902.502852\n",
       "1     -108305.667490\n",
       "2      -61242.307730\n",
       "3      -67818.380901\n",
       "4      -48347.362608\n",
       "           ...      \n",
       "807    -83278.746771\n",
       "808     18715.320311\n",
       "809     52354.643485\n",
       "810     -5995.094326\n",
       "811     34834.631288\n",
       "Name: price, Length: 812, dtype: float64"
      ]
     },
     "execution_count": 55,
     "metadata": {},
     "output_type": "execute_result"
    }
   ],
   "source": [
    "resids"
   ]
  },
  {
   "cell_type": "code",
   "execution_count": 56,
   "metadata": {},
   "outputs": [],
   "source": [
    "df = pd.DataFrame({\"y\": y,\"predictions\":y_preds, \"residuals\":resids})\n",
    "#df"
   ]
  },
  {
   "cell_type": "code",
   "execution_count": 57,
   "metadata": {},
   "outputs": [
    {
     "data": {
      "image/png": "[encoded data removed]",
      "text/plain": [
       "<Figure size 432x288 with 1 Axes>"
      ]
     },
     "metadata": {
      "needs_background": "light"
     },
     "output_type": "display_data"
    }
   ],
   "source": [
    "plt.scatter(y_preds, resids, s=1)\n",
    "plt.axhline(0, color=\"orange\");"
   ]
  },
  {
   "cell_type": "markdown",
   "metadata": {},
   "source": [
    "---\n",
    "\n",
    "## Dummy Variables\n",
    "\n",
    "It is important to be cautious with categorical variables, which represent distinct groups or categories, when building a regression. If put in a regression \"as-is,\" categorical variables represented as integers will be treated like *continuous* variables.\n",
    "\n",
    "That is to say, instead of group \"3\" having a different effect on the estimation than group \"1\" it will estimate literally 3 times more than group 1. \n",
    "\n",
    "For example, if occupation category \"1\" represents \"analyst\" and occupation category \"3\" represents \"barista\", and our target variable is salary, if we leave this as a column of integers then barista will always have `beta*3` the effect of analyst.\n",
    "\n",
    "This will almost certainly force the beta coefficient to be something strange and incorrect. Instead, we can re-represent the categories as multiple \"dummy coded\" columns.\n",
    "\n"
   ]
  },
  {
   "cell_type": "markdown",
   "metadata": {},
   "source": [
    "#### A Word of Caution When Creating Dummies\n",
    "\n",
    "Let's touch on precautions we should take when dummy coding.\n",
    "\n",
    "**If you convert a qualitative variable to dummy variables, you want to turn a variable with N categories into N-1 variables.**\n",
    "\n",
    "> **Scenario 1:** Suppose we're working with the variable \"sex\" or \"gender\" with values \"M\" and \"F\". \n",
    "\n",
    "You should include in your model only one variable for \"sex = F\" which takes on 1 if sex is female and 0 if sex is not female! Rather than saying \"a one unit change in X,\" the coefficient associated with \"sex = F\" is interpreted as the average change in Y when sex = F relative to when sex = M.\n",
    "\n",
    "| Female | Male | \n",
    "|-------|------|\n",
    "| 0 | 1 | \n",
    "| 1 | 0 |\n",
    "| 0 | 1 |\n",
    "| 1 | 0 |\n",
    "| 1 | 0 |\n",
    "_As we can see a 1 in the female column indicates a 0 in the male column. And so, we have two columns stating the same information in different ways._\n",
    "\n",
    "> Scenario 2: Suppose we're modeling revenue at a bar for each of the days of the week. We have a column with strings identifying which day of the week this observation occurred in.\n",
    "\n",
    "We might include six of the days as their own variables: \"Monday\", \"Tuesday\", \"Wednesday\", \"Thursday\", \"Friday\", \"Saturday\". **But not all 7 days.**  \n",
    "\n",
    "|Monday | Tuesday | Wednesday | Thursday | Friday | Saturday | \n",
    "|-------|---------|-----------|----------|--------|----------|\n",
    "| 1     | 0       |0          |      0   |0       | 0        | \n",
    "| 0     | 1       |0          |      0   |0       | 0        | \n",
    "| 0     | 0       |1          |      0   |0       | 0        | \n",
    "| 0     | 0       |0          |      1   |0       | 0        | \n",
    "| 0     | 0       |0          |      0   |1       | 0        | \n",
    "| 0     | 0       |0          |      0   |0       | 1        | \n",
    "| 0     | 0       |0          |      0   |0       | 0        | \n",
    "\n",
    "_As humans we can infer from the last row that if its is not Monday, Tuesday, Wednesday, Thursday, Friday or Saturday, it must be Sunday. Models work the same way._\n",
    "\n",
    "The coefficient for Monday is then interpreted as the average change in revenue when \"day = Monday\" relative to \"day = Sunday.\" The coefficient for Tuesday is interpreted as the average change in revenue when \"day = Tuesday\" relative to \"day = Sunday\" and so on.\n",
    "\n",
    "The category you leave out, which the other columns are *relative to*, is often referred to as the **reference category**.\n",
    "\n",
    "### 9. Use the `pd.get_dummies` function to convert the `type` column into dummy-coded variables."
   ]
  },
  {
   "cell_type": "code",
   "execution_count": 58,
   "metadata": {},
   "outputs": [
    {
     "name": "stdout",
     "output_type": "stream",
     "text": [
      "<class 'pandas.core.frame.DataFrame'>\n",
      "RangeIndex: 812 entries, 0 to 811\n",
      "Data columns (total 13 columns):\n",
      " #   Column     Non-Null Count  Dtype         \n",
      "---  ------     --------------  -----         \n",
      " 0   street     812 non-null    object        \n",
      " 1   city       812 non-null    object        \n",
      " 2   zip        812 non-null    int64         \n",
      " 3   state      812 non-null    object        \n",
      " 4   beds       812 non-null    int64         \n",
      " 5   baths      812 non-null    int64         \n",
      " 6   sq__ft     812 non-null    int64         \n",
      " 7   type       812 non-null    object        \n",
      " 8   sale_date  812 non-null    datetime64[ns]\n",
      " 9   price      812 non-null    int64         \n",
      " 10  latitude   812 non-null    float64       \n",
      " 11  longitude  812 non-null    float64       \n",
      " 12  missing    812 non-null    bool          \n",
      "dtypes: bool(1), datetime64[ns](1), float64(2), int64(5), object(4)\n",
      "memory usage: 77.0+ KB\n"
     ]
    }
   ],
   "source": [
    "clean.info()"
   ]
  },
  {
   "cell_type": "code",
   "execution_count": 59,
   "metadata": {},
   "outputs": [
    {
     "data": {
      "text/plain": [
       "street               object\n",
       "city                 object\n",
       "zip                   int64\n",
       "state                object\n",
       "beds                  int64\n",
       "baths                 int64\n",
       "sq__ft                int64\n",
       "type                 object\n",
       "sale_date    datetime64[ns]\n",
       "price                 int64\n",
       "latitude            float64\n",
       "longitude           float64\n",
       "missing                bool\n",
       "dtype: object"
      ]
     },
     "execution_count": 59,
     "metadata": {},
     "output_type": "execute_result"
    }
   ],
   "source": [
    "clean.dtypes"
   ]
  },
  {
   "cell_type": "code",
   "execution_count": 60,
   "metadata": {},
   "outputs": [],
   "source": [
    "clean[\"day\"] = clean[\"sale_date\"].dt.day"
   ]
  },
  {
   "cell_type": "code",
   "execution_count": 61,
   "metadata": {},
   "outputs": [],
   "source": [
    "clean[\"month\"] = clean[\"sale_date\"].dt.month"
   ]
  },
  {
   "cell_type": "code",
   "execution_count": 62,
   "metadata": {},
   "outputs": [
    {
     "data": {
      "text/html": [
       "<div>\n",
       "<style scoped>\n",
       "    .dataframe tbody tr th:only-of-type {\n",
       "        vertical-align: middle;\n",
       "    }\n",
       "\n",
       "    .dataframe tbody tr th {\n",
       "        vertical-align: top;\n",
       "    }\n",
       "\n",
       "    .dataframe thead th {\n",
       "        text-align: right;\n",
       "    }\n",
       "</style>\n",
       "<table border=\"1\" class=\"dataframe\">\n",
       "  <thead>\n",
       "    <tr style=\"text-align: right;\">\n",
       "      <th></th>\n",
       "      <th>street</th>\n",
       "      <th>city</th>\n",
       "      <th>zip</th>\n",
       "      <th>state</th>\n",
       "      <th>beds</th>\n",
       "      <th>baths</th>\n",
       "      <th>sq__ft</th>\n",
       "      <th>type</th>\n",
       "      <th>sale_date</th>\n",
       "      <th>price</th>\n",
       "      <th>latitude</th>\n",
       "      <th>longitude</th>\n",
       "      <th>missing</th>\n",
       "      <th>day</th>\n",
       "      <th>month</th>\n",
       "    </tr>\n",
       "  </thead>\n",
       "  <tbody>\n",
       "    <tr>\n",
       "      <th>0</th>\n",
       "      <td>3526 HIGH ST</td>\n",
       "      <td>SACRAMENTO</td>\n",
       "      <td>95838</td>\n",
       "      <td>CA</td>\n",
       "      <td>2</td>\n",
       "      <td>1</td>\n",
       "      <td>836</td>\n",
       "      <td>Residential</td>\n",
       "      <td>2008-05-21</td>\n",
       "      <td>59222</td>\n",
       "      <td>38.631913</td>\n",
       "      <td>-121.434879</td>\n",
       "      <td>False</td>\n",
       "      <td>21</td>\n",
       "      <td>5</td>\n",
       "    </tr>\n",
       "    <tr>\n",
       "      <th>1</th>\n",
       "      <td>51 OMAHA CT</td>\n",
       "      <td>SACRAMENTO</td>\n",
       "      <td>95823</td>\n",
       "      <td>CA</td>\n",
       "      <td>3</td>\n",
       "      <td>1</td>\n",
       "      <td>1167</td>\n",
       "      <td>Residential</td>\n",
       "      <td>2008-05-21</td>\n",
       "      <td>68212</td>\n",
       "      <td>38.478902</td>\n",
       "      <td>-121.431028</td>\n",
       "      <td>False</td>\n",
       "      <td>21</td>\n",
       "      <td>5</td>\n",
       "    </tr>\n",
       "    <tr>\n",
       "      <th>2</th>\n",
       "      <td>2796 BRANCH ST</td>\n",
       "      <td>SACRAMENTO</td>\n",
       "      <td>95815</td>\n",
       "      <td>CA</td>\n",
       "      <td>2</td>\n",
       "      <td>1</td>\n",
       "      <td>796</td>\n",
       "      <td>Residential</td>\n",
       "      <td>2008-05-21</td>\n",
       "      <td>68880</td>\n",
       "      <td>38.618305</td>\n",
       "      <td>-121.443839</td>\n",
       "      <td>False</td>\n",
       "      <td>21</td>\n",
       "      <td>5</td>\n",
       "    </tr>\n",
       "    <tr>\n",
       "      <th>3</th>\n",
       "      <td>2805 JANETTE WAY</td>\n",
       "      <td>SACRAMENTO</td>\n",
       "      <td>95815</td>\n",
       "      <td>CA</td>\n",
       "      <td>2</td>\n",
       "      <td>1</td>\n",
       "      <td>852</td>\n",
       "      <td>Residential</td>\n",
       "      <td>2008-05-21</td>\n",
       "      <td>69307</td>\n",
       "      <td>38.616835</td>\n",
       "      <td>-121.439146</td>\n",
       "      <td>False</td>\n",
       "      <td>21</td>\n",
       "      <td>5</td>\n",
       "    </tr>\n",
       "    <tr>\n",
       "      <th>4</th>\n",
       "      <td>6001 MCMAHON DR</td>\n",
       "      <td>SACRAMENTO</td>\n",
       "      <td>95824</td>\n",
       "      <td>CA</td>\n",
       "      <td>2</td>\n",
       "      <td>1</td>\n",
       "      <td>797</td>\n",
       "      <td>Residential</td>\n",
       "      <td>2008-05-21</td>\n",
       "      <td>81900</td>\n",
       "      <td>38.519470</td>\n",
       "      <td>-121.435768</td>\n",
       "      <td>False</td>\n",
       "      <td>21</td>\n",
       "      <td>5</td>\n",
       "    </tr>\n",
       "  </tbody>\n",
       "</table>\n",
       "</div>"
      ],
      "text/plain": [
       "             street        city    zip state  beds  baths  sq__ft  \\\n",
       "0      3526 HIGH ST  SACRAMENTO  95838    CA     2      1     836   \n",
       "1       51 OMAHA CT  SACRAMENTO  95823    CA     3      1    1167   \n",
       "2    2796 BRANCH ST  SACRAMENTO  95815    CA     2      1     796   \n",
       "3  2805 JANETTE WAY  SACRAMENTO  95815    CA     2      1     852   \n",
       "4   6001 MCMAHON DR  SACRAMENTO  95824    CA     2      1     797   \n",
       "\n",
       "          type  sale_date  price   latitude   longitude  missing  day  month  \n",
       "0  Residential 2008-05-21  59222  38.631913 -121.434879    False   21      5  \n",
       "1  Residential 2008-05-21  68212  38.478902 -121.431028    False   21      5  \n",
       "2  Residential 2008-05-21  68880  38.618305 -121.443839    False   21      5  \n",
       "3  Residential 2008-05-21  69307  38.616835 -121.439146    False   21      5  \n",
       "4  Residential 2008-05-21  81900  38.519470 -121.435768    False   21      5  "
      ]
     },
     "execution_count": 62,
     "metadata": {},
     "output_type": "execute_result"
    }
   ],
   "source": [
    "clean.head()"
   ]
  },
  {
   "cell_type": "code",
   "execution_count": 63,
   "metadata": {},
   "outputs": [
    {
     "data": {
      "text/html": [
       "<div>\n",
       "<style scoped>\n",
       "    .dataframe tbody tr th:only-of-type {\n",
       "        vertical-align: middle;\n",
       "    }\n",
       "\n",
       "    .dataframe tbody tr th {\n",
       "        vertical-align: top;\n",
       "    }\n",
       "\n",
       "    .dataframe thead th {\n",
       "        text-align: right;\n",
       "    }\n",
       "</style>\n",
       "<table border=\"1\" class=\"dataframe\">\n",
       "  <thead>\n",
       "    <tr style=\"text-align: right;\">\n",
       "      <th></th>\n",
       "      <th>zip</th>\n",
       "      <th>beds</th>\n",
       "      <th>baths</th>\n",
       "      <th>sq__ft</th>\n",
       "      <th>price</th>\n",
       "      <th>latitude</th>\n",
       "      <th>longitude</th>\n",
       "      <th>day</th>\n",
       "      <th>month</th>\n",
       "    </tr>\n",
       "  </thead>\n",
       "  <tbody>\n",
       "    <tr>\n",
       "      <th>count</th>\n",
       "      <td>812.000000</td>\n",
       "      <td>812.000000</td>\n",
       "      <td>812.000000</td>\n",
       "      <td>812.000000</td>\n",
       "      <td>812.000000</td>\n",
       "      <td>812.000000</td>\n",
       "      <td>812.000000</td>\n",
       "      <td>812.000000</td>\n",
       "      <td>812.0</td>\n",
       "    </tr>\n",
       "    <tr>\n",
       "      <th>mean</th>\n",
       "      <td>95761.592365</td>\n",
       "      <td>3.245074</td>\n",
       "      <td>1.961823</td>\n",
       "      <td>1592.461823</td>\n",
       "      <td>229723.743842</td>\n",
       "      <td>38.379663</td>\n",
       "      <td>-121.181441</td>\n",
       "      <td>18.204433</td>\n",
       "      <td>5.0</td>\n",
       "    </tr>\n",
       "    <tr>\n",
       "      <th>std</th>\n",
       "      <td>85.281835</td>\n",
       "      <td>0.851654</td>\n",
       "      <td>0.669778</td>\n",
       "      <td>664.036825</td>\n",
       "      <td>119819.020404</td>\n",
       "      <td>5.619137</td>\n",
       "      <td>5.617824</td>\n",
       "      <td>2.194058</td>\n",
       "      <td>0.0</td>\n",
       "    </tr>\n",
       "    <tr>\n",
       "      <th>min</th>\n",
       "      <td>95603.000000</td>\n",
       "      <td>1.000000</td>\n",
       "      <td>1.000000</td>\n",
       "      <td>484.000000</td>\n",
       "      <td>2000.000000</td>\n",
       "      <td>-121.503471</td>\n",
       "      <td>-121.550527</td>\n",
       "      <td>15.000000</td>\n",
       "      <td>5.0</td>\n",
       "    </tr>\n",
       "    <tr>\n",
       "      <th>25%</th>\n",
       "      <td>95670.000000</td>\n",
       "      <td>3.000000</td>\n",
       "      <td>2.000000</td>\n",
       "      <td>1144.000000</td>\n",
       "      <td>148750.000000</td>\n",
       "      <td>38.473653</td>\n",
       "      <td>-121.451463</td>\n",
       "      <td>16.000000</td>\n",
       "      <td>5.0</td>\n",
       "    </tr>\n",
       "    <tr>\n",
       "      <th>50%</th>\n",
       "      <td>95820.000000</td>\n",
       "      <td>3.000000</td>\n",
       "      <td>2.000000</td>\n",
       "      <td>1419.500000</td>\n",
       "      <td>208000.000000</td>\n",
       "      <td>38.591547</td>\n",
       "      <td>-121.404863</td>\n",
       "      <td>19.000000</td>\n",
       "      <td>5.0</td>\n",
       "    </tr>\n",
       "    <tr>\n",
       "      <th>75%</th>\n",
       "      <td>95828.250000</td>\n",
       "      <td>4.000000</td>\n",
       "      <td>2.000000</td>\n",
       "      <td>1852.250000</td>\n",
       "      <td>285000.000000</td>\n",
       "      <td>38.674385</td>\n",
       "      <td>-121.325727</td>\n",
       "      <td>20.000000</td>\n",
       "      <td>5.0</td>\n",
       "    </tr>\n",
       "    <tr>\n",
       "      <th>max</th>\n",
       "      <td>95864.000000</td>\n",
       "      <td>8.000000</td>\n",
       "      <td>5.000000</td>\n",
       "      <td>5822.000000</td>\n",
       "      <td>884790.000000</td>\n",
       "      <td>39.008159</td>\n",
       "      <td>38.668433</td>\n",
       "      <td>21.000000</td>\n",
       "      <td>5.0</td>\n",
       "    </tr>\n",
       "  </tbody>\n",
       "</table>\n",
       "</div>"
      ],
      "text/plain": [
       "                zip        beds       baths       sq__ft          price  \\\n",
       "count    812.000000  812.000000  812.000000   812.000000     812.000000   \n",
       "mean   95761.592365    3.245074    1.961823  1592.461823  229723.743842   \n",
       "std       85.281835    0.851654    0.669778   664.036825  119819.020404   \n",
       "min    95603.000000    1.000000    1.000000   484.000000    2000.000000   \n",
       "25%    95670.000000    3.000000    2.000000  1144.000000  148750.000000   \n",
       "50%    95820.000000    3.000000    2.000000  1419.500000  208000.000000   \n",
       "75%    95828.250000    4.000000    2.000000  1852.250000  285000.000000   \n",
       "max    95864.000000    8.000000    5.000000  5822.000000  884790.000000   \n",
       "\n",
       "         latitude   longitude         day  month  \n",
       "count  812.000000  812.000000  812.000000  812.0  \n",
       "mean    38.379663 -121.181441   18.204433    5.0  \n",
       "std      5.619137    5.617824    2.194058    0.0  \n",
       "min   -121.503471 -121.550527   15.000000    5.0  \n",
       "25%     38.473653 -121.451463   16.000000    5.0  \n",
       "50%     38.591547 -121.404863   19.000000    5.0  \n",
       "75%     38.674385 -121.325727   20.000000    5.0  \n",
       "max     39.008159   38.668433   21.000000    5.0  "
      ]
     },
     "execution_count": 63,
     "metadata": {},
     "output_type": "execute_result"
    }
   ],
   "source": [
    "clean.describe()"
   ]
  },
  {
   "cell_type": "code",
   "execution_count": 64,
   "metadata": {},
   "outputs": [
    {
     "data": {
      "text/html": [
       "<div>\n",
       "<style scoped>\n",
       "    .dataframe tbody tr th:only-of-type {\n",
       "        vertical-align: middle;\n",
       "    }\n",
       "\n",
       "    .dataframe tbody tr th {\n",
       "        vertical-align: top;\n",
       "    }\n",
       "\n",
       "    .dataframe thead th {\n",
       "        text-align: right;\n",
       "    }\n",
       "</style>\n",
       "<table border=\"1\" class=\"dataframe\">\n",
       "  <thead>\n",
       "    <tr style=\"text-align: right;\">\n",
       "      <th></th>\n",
       "      <th>street</th>\n",
       "      <th>city</th>\n",
       "      <th>zip</th>\n",
       "      <th>state</th>\n",
       "      <th>beds</th>\n",
       "      <th>baths</th>\n",
       "      <th>sq__ft</th>\n",
       "      <th>type</th>\n",
       "      <th>sale_date</th>\n",
       "      <th>price</th>\n",
       "      <th>latitude</th>\n",
       "      <th>longitude</th>\n",
       "      <th>missing</th>\n",
       "      <th>day</th>\n",
       "      <th>month</th>\n",
       "    </tr>\n",
       "  </thead>\n",
       "  <tbody>\n",
       "    <tr>\n",
       "      <th>0</th>\n",
       "      <td>3526 HIGH ST</td>\n",
       "      <td>SACRAMENTO</td>\n",
       "      <td>95838</td>\n",
       "      <td>CA</td>\n",
       "      <td>2</td>\n",
       "      <td>1</td>\n",
       "      <td>836</td>\n",
       "      <td>Residential</td>\n",
       "      <td>2008-05-21</td>\n",
       "      <td>59222</td>\n",
       "      <td>38.631913</td>\n",
       "      <td>-121.434879</td>\n",
       "      <td>False</td>\n",
       "      <td>21</td>\n",
       "      <td>5</td>\n",
       "    </tr>\n",
       "    <tr>\n",
       "      <th>1</th>\n",
       "      <td>51 OMAHA CT</td>\n",
       "      <td>SACRAMENTO</td>\n",
       "      <td>95823</td>\n",
       "      <td>CA</td>\n",
       "      <td>3</td>\n",
       "      <td>1</td>\n",
       "      <td>1167</td>\n",
       "      <td>Residential</td>\n",
       "      <td>2008-05-21</td>\n",
       "      <td>68212</td>\n",
       "      <td>38.478902</td>\n",
       "      <td>-121.431028</td>\n",
       "      <td>False</td>\n",
       "      <td>21</td>\n",
       "      <td>5</td>\n",
       "    </tr>\n",
       "    <tr>\n",
       "      <th>2</th>\n",
       "      <td>2796 BRANCH ST</td>\n",
       "      <td>SACRAMENTO</td>\n",
       "      <td>95815</td>\n",
       "      <td>CA</td>\n",
       "      <td>2</td>\n",
       "      <td>1</td>\n",
       "      <td>796</td>\n",
       "      <td>Residential</td>\n",
       "      <td>2008-05-21</td>\n",
       "      <td>68880</td>\n",
       "      <td>38.618305</td>\n",
       "      <td>-121.443839</td>\n",
       "      <td>False</td>\n",
       "      <td>21</td>\n",
       "      <td>5</td>\n",
       "    </tr>\n",
       "    <tr>\n",
       "      <th>3</th>\n",
       "      <td>2805 JANETTE WAY</td>\n",
       "      <td>SACRAMENTO</td>\n",
       "      <td>95815</td>\n",
       "      <td>CA</td>\n",
       "      <td>2</td>\n",
       "      <td>1</td>\n",
       "      <td>852</td>\n",
       "      <td>Residential</td>\n",
       "      <td>2008-05-21</td>\n",
       "      <td>69307</td>\n",
       "      <td>38.616835</td>\n",
       "      <td>-121.439146</td>\n",
       "      <td>False</td>\n",
       "      <td>21</td>\n",
       "      <td>5</td>\n",
       "    </tr>\n",
       "    <tr>\n",
       "      <th>4</th>\n",
       "      <td>6001 MCMAHON DR</td>\n",
       "      <td>SACRAMENTO</td>\n",
       "      <td>95824</td>\n",
       "      <td>CA</td>\n",
       "      <td>2</td>\n",
       "      <td>1</td>\n",
       "      <td>797</td>\n",
       "      <td>Residential</td>\n",
       "      <td>2008-05-21</td>\n",
       "      <td>81900</td>\n",
       "      <td>38.519470</td>\n",
       "      <td>-121.435768</td>\n",
       "      <td>False</td>\n",
       "      <td>21</td>\n",
       "      <td>5</td>\n",
       "    </tr>\n",
       "  </tbody>\n",
       "</table>\n",
       "</div>"
      ],
      "text/plain": [
       "             street        city    zip state  beds  baths  sq__ft  \\\n",
       "0      3526 HIGH ST  SACRAMENTO  95838    CA     2      1     836   \n",
       "1       51 OMAHA CT  SACRAMENTO  95823    CA     3      1    1167   \n",
       "2    2796 BRANCH ST  SACRAMENTO  95815    CA     2      1     796   \n",
       "3  2805 JANETTE WAY  SACRAMENTO  95815    CA     2      1     852   \n",
       "4   6001 MCMAHON DR  SACRAMENTO  95824    CA     2      1     797   \n",
       "\n",
       "          type  sale_date  price   latitude   longitude  missing  day  month  \n",
       "0  Residential 2008-05-21  59222  38.631913 -121.434879    False   21      5  \n",
       "1  Residential 2008-05-21  68212  38.478902 -121.431028    False   21      5  \n",
       "2  Residential 2008-05-21  68880  38.618305 -121.443839    False   21      5  \n",
       "3  Residential 2008-05-21  69307  38.616835 -121.439146    False   21      5  \n",
       "4  Residential 2008-05-21  81900  38.519470 -121.435768    False   21      5  "
      ]
     },
     "execution_count": 64,
     "metadata": {},
     "output_type": "execute_result"
    }
   ],
   "source": [
    "clean.head()"
   ]
  },
  {
   "cell_type": "code",
   "execution_count": 65,
   "metadata": {},
   "outputs": [],
   "source": [
    "dummy = pd.get_dummies(clean, columns=[\"type\",\"city\"])"
   ]
  },
  {
   "cell_type": "code",
   "execution_count": 66,
   "metadata": {},
   "outputs": [
    {
     "data": {
      "text/plain": [
       "Index(['street', 'city', 'zip', 'state', 'beds', 'baths', 'sq__ft', 'type',\n",
       "       'sale_date', 'price', 'latitude', 'longitude', 'missing', 'day',\n",
       "       'month'],\n",
       "      dtype='object')"
      ]
     },
     "execution_count": 66,
     "metadata": {},
     "output_type": "execute_result"
    }
   ],
   "source": [
    "clean.columns"
   ]
  },
  {
   "cell_type": "code",
   "execution_count": 67,
   "metadata": {},
   "outputs": [
    {
     "data": {
      "text/plain": [
       "(812, 15)"
      ]
     },
     "execution_count": 67,
     "metadata": {},
     "output_type": "execute_result"
    }
   ],
   "source": [
    "clean.shape"
   ]
  },
  {
   "cell_type": "code",
   "execution_count": 68,
   "metadata": {},
   "outputs": [],
   "source": [
    "#clean.corr()"
   ]
  },
  {
   "cell_type": "markdown",
   "metadata": {},
   "source": [
    "### 10. Check the dummy columns you've created. Do they all make sense?\n",
    "\n",
    "Use `.head()` on the new dataframe you've created. Depending on how you cleaned the data earlier in this notebook, there may be a dummy column that needs to be removed. Check that all the columns you've created make sense, and if any of the columns seem to be errors, drop them. If there don't appear to be any errors, then move on to the next step!"
   ]
  },
  {
   "cell_type": "code",
   "execution_count": 69,
   "metadata": {},
   "outputs": [],
   "source": [
    "# Day & Month does not make sense as the variations between them is too narrow. Not enough distinction\n",
    "clean = clean.drop(columns = [\"missing\", \"latitude\", \"longitude\"],axis = 1)"
   ]
  },
  {
   "cell_type": "code",
   "execution_count": 70,
   "metadata": {},
   "outputs": [
    {
     "data": {
      "text/html": [
       "<div>\n",
       "<style scoped>\n",
       "    .dataframe tbody tr th:only-of-type {\n",
       "        vertical-align: middle;\n",
       "    }\n",
       "\n",
       "    .dataframe tbody tr th {\n",
       "        vertical-align: top;\n",
       "    }\n",
       "\n",
       "    .dataframe thead th {\n",
       "        text-align: right;\n",
       "    }\n",
       "</style>\n",
       "<table border=\"1\" class=\"dataframe\">\n",
       "  <thead>\n",
       "    <tr style=\"text-align: right;\">\n",
       "      <th></th>\n",
       "      <th>zip</th>\n",
       "      <th>beds</th>\n",
       "      <th>baths</th>\n",
       "      <th>sq__ft</th>\n",
       "      <th>price</th>\n",
       "      <th>day</th>\n",
       "      <th>month</th>\n",
       "    </tr>\n",
       "  </thead>\n",
       "  <tbody>\n",
       "    <tr>\n",
       "      <th>count</th>\n",
       "      <td>812.000000</td>\n",
       "      <td>812.000000</td>\n",
       "      <td>812.000000</td>\n",
       "      <td>812.000000</td>\n",
       "      <td>812.000000</td>\n",
       "      <td>812.000000</td>\n",
       "      <td>812.0</td>\n",
       "    </tr>\n",
       "    <tr>\n",
       "      <th>mean</th>\n",
       "      <td>95761.592365</td>\n",
       "      <td>3.245074</td>\n",
       "      <td>1.961823</td>\n",
       "      <td>1592.461823</td>\n",
       "      <td>229723.743842</td>\n",
       "      <td>18.204433</td>\n",
       "      <td>5.0</td>\n",
       "    </tr>\n",
       "    <tr>\n",
       "      <th>std</th>\n",
       "      <td>85.281835</td>\n",
       "      <td>0.851654</td>\n",
       "      <td>0.669778</td>\n",
       "      <td>664.036825</td>\n",
       "      <td>119819.020404</td>\n",
       "      <td>2.194058</td>\n",
       "      <td>0.0</td>\n",
       "    </tr>\n",
       "    <tr>\n",
       "      <th>min</th>\n",
       "      <td>95603.000000</td>\n",
       "      <td>1.000000</td>\n",
       "      <td>1.000000</td>\n",
       "      <td>484.000000</td>\n",
       "      <td>2000.000000</td>\n",
       "      <td>15.000000</td>\n",
       "      <td>5.0</td>\n",
       "    </tr>\n",
       "    <tr>\n",
       "      <th>25%</th>\n",
       "      <td>95670.000000</td>\n",
       "      <td>3.000000</td>\n",
       "      <td>2.000000</td>\n",
       "      <td>1144.000000</td>\n",
       "      <td>148750.000000</td>\n",
       "      <td>16.000000</td>\n",
       "      <td>5.0</td>\n",
       "    </tr>\n",
       "    <tr>\n",
       "      <th>50%</th>\n",
       "      <td>95820.000000</td>\n",
       "      <td>3.000000</td>\n",
       "      <td>2.000000</td>\n",
       "      <td>1419.500000</td>\n",
       "      <td>208000.000000</td>\n",
       "      <td>19.000000</td>\n",
       "      <td>5.0</td>\n",
       "    </tr>\n",
       "    <tr>\n",
       "      <th>75%</th>\n",
       "      <td>95828.250000</td>\n",
       "      <td>4.000000</td>\n",
       "      <td>2.000000</td>\n",
       "      <td>1852.250000</td>\n",
       "      <td>285000.000000</td>\n",
       "      <td>20.000000</td>\n",
       "      <td>5.0</td>\n",
       "    </tr>\n",
       "    <tr>\n",
       "      <th>max</th>\n",
       "      <td>95864.000000</td>\n",
       "      <td>8.000000</td>\n",
       "      <td>5.000000</td>\n",
       "      <td>5822.000000</td>\n",
       "      <td>884790.000000</td>\n",
       "      <td>21.000000</td>\n",
       "      <td>5.0</td>\n",
       "    </tr>\n",
       "  </tbody>\n",
       "</table>\n",
       "</div>"
      ],
      "text/plain": [
       "                zip        beds       baths       sq__ft          price  \\\n",
       "count    812.000000  812.000000  812.000000   812.000000     812.000000   \n",
       "mean   95761.592365    3.245074    1.961823  1592.461823  229723.743842   \n",
       "std       85.281835    0.851654    0.669778   664.036825  119819.020404   \n",
       "min    95603.000000    1.000000    1.000000   484.000000    2000.000000   \n",
       "25%    95670.000000    3.000000    2.000000  1144.000000  148750.000000   \n",
       "50%    95820.000000    3.000000    2.000000  1419.500000  208000.000000   \n",
       "75%    95828.250000    4.000000    2.000000  1852.250000  285000.000000   \n",
       "max    95864.000000    8.000000    5.000000  5822.000000  884790.000000   \n",
       "\n",
       "              day  month  \n",
       "count  812.000000  812.0  \n",
       "mean    18.204433    5.0  \n",
       "std      2.194058    0.0  \n",
       "min     15.000000    5.0  \n",
       "25%     16.000000    5.0  \n",
       "50%     19.000000    5.0  \n",
       "75%     20.000000    5.0  \n",
       "max     21.000000    5.0  "
      ]
     },
     "execution_count": 70,
     "metadata": {},
     "output_type": "execute_result"
    }
   ],
   "source": [
    "clean.describe()"
   ]
  },
  {
   "cell_type": "code",
   "execution_count": 71,
   "metadata": {},
   "outputs": [
    {
     "data": {
      "text/plain": [
       "(812, 12)"
      ]
     },
     "execution_count": 71,
     "metadata": {},
     "output_type": "execute_result"
    }
   ],
   "source": [
    "clean.shape"
   ]
  },
  {
   "cell_type": "markdown",
   "metadata": {},
   "source": [
    "### 11. Build what you think may be the best MLR model predicting `price`. \n",
    "\n",
    "Choose at least three variables, and build a model that uses them to predict price. At least one of the variables you choose should be a dummy-coded variable. (This can be one we created before or a new one.) \n",
    "\n",
    "You may need to load in the scikit-learn API:\n",
    "\n",
    "```python\n",
    "from sklearn.linear_model import LinearRegression\n",
    "\n",
    "model = LinearRegression()\n",
    "```"
   ]
  },
  {
   "cell_type": "code",
   "execution_count": 72,
   "metadata": {},
   "outputs": [
    {
     "data": {
      "text/plain": [
       "Index(['street', 'city', 'zip', 'state', 'beds', 'baths', 'sq__ft', 'type',\n",
       "       'sale_date', 'price', 'day', 'month'],\n",
       "      dtype='object')"
      ]
     },
     "execution_count": 72,
     "metadata": {},
     "output_type": "execute_result"
    }
   ],
   "source": [
    "clean.columns"
   ]
  },
  {
   "cell_type": "code",
   "execution_count": 73,
   "metadata": {},
   "outputs": [
    {
     "data": {
      "text/plain": [
       "street               object\n",
       "city                 object\n",
       "zip                   int64\n",
       "state                object\n",
       "beds                  int64\n",
       "baths                 int64\n",
       "sq__ft                int64\n",
       "type                 object\n",
       "sale_date    datetime64[ns]\n",
       "price                 int64\n",
       "day                   int64\n",
       "month                 int64\n",
       "dtype: object"
      ]
     },
     "execution_count": 73,
     "metadata": {},
     "output_type": "execute_result"
    }
   ],
   "source": [
    "clean.dtypes"
   ]
  },
  {
   "cell_type": "code",
   "execution_count": 74,
   "metadata": {},
   "outputs": [
    {
     "data": {
      "text/html": [
       "<div>\n",
       "<style scoped>\n",
       "    .dataframe tbody tr th:only-of-type {\n",
       "        vertical-align: middle;\n",
       "    }\n",
       "\n",
       "    .dataframe tbody tr th {\n",
       "        vertical-align: top;\n",
       "    }\n",
       "\n",
       "    .dataframe thead th {\n",
       "        text-align: right;\n",
       "    }\n",
       "</style>\n",
       "<table border=\"1\" class=\"dataframe\">\n",
       "  <thead>\n",
       "    <tr style=\"text-align: right;\">\n",
       "      <th></th>\n",
       "      <th>street</th>\n",
       "      <th>city</th>\n",
       "      <th>zip</th>\n",
       "      <th>state</th>\n",
       "      <th>beds</th>\n",
       "      <th>baths</th>\n",
       "      <th>sq__ft</th>\n",
       "      <th>type</th>\n",
       "      <th>sale_date</th>\n",
       "      <th>price</th>\n",
       "      <th>day</th>\n",
       "      <th>month</th>\n",
       "    </tr>\n",
       "  </thead>\n",
       "  <tbody>\n",
       "    <tr>\n",
       "      <th>0</th>\n",
       "      <td>3526 HIGH ST</td>\n",
       "      <td>SACRAMENTO</td>\n",
       "      <td>95838</td>\n",
       "      <td>CA</td>\n",
       "      <td>2</td>\n",
       "      <td>1</td>\n",
       "      <td>836</td>\n",
       "      <td>Residential</td>\n",
       "      <td>2008-05-21</td>\n",
       "      <td>59222</td>\n",
       "      <td>21</td>\n",
       "      <td>5</td>\n",
       "    </tr>\n",
       "    <tr>\n",
       "      <th>1</th>\n",
       "      <td>51 OMAHA CT</td>\n",
       "      <td>SACRAMENTO</td>\n",
       "      <td>95823</td>\n",
       "      <td>CA</td>\n",
       "      <td>3</td>\n",
       "      <td>1</td>\n",
       "      <td>1167</td>\n",
       "      <td>Residential</td>\n",
       "      <td>2008-05-21</td>\n",
       "      <td>68212</td>\n",
       "      <td>21</td>\n",
       "      <td>5</td>\n",
       "    </tr>\n",
       "    <tr>\n",
       "      <th>2</th>\n",
       "      <td>2796 BRANCH ST</td>\n",
       "      <td>SACRAMENTO</td>\n",
       "      <td>95815</td>\n",
       "      <td>CA</td>\n",
       "      <td>2</td>\n",
       "      <td>1</td>\n",
       "      <td>796</td>\n",
       "      <td>Residential</td>\n",
       "      <td>2008-05-21</td>\n",
       "      <td>68880</td>\n",
       "      <td>21</td>\n",
       "      <td>5</td>\n",
       "    </tr>\n",
       "    <tr>\n",
       "      <th>3</th>\n",
       "      <td>2805 JANETTE WAY</td>\n",
       "      <td>SACRAMENTO</td>\n",
       "      <td>95815</td>\n",
       "      <td>CA</td>\n",
       "      <td>2</td>\n",
       "      <td>1</td>\n",
       "      <td>852</td>\n",
       "      <td>Residential</td>\n",
       "      <td>2008-05-21</td>\n",
       "      <td>69307</td>\n",
       "      <td>21</td>\n",
       "      <td>5</td>\n",
       "    </tr>\n",
       "    <tr>\n",
       "      <th>4</th>\n",
       "      <td>6001 MCMAHON DR</td>\n",
       "      <td>SACRAMENTO</td>\n",
       "      <td>95824</td>\n",
       "      <td>CA</td>\n",
       "      <td>2</td>\n",
       "      <td>1</td>\n",
       "      <td>797</td>\n",
       "      <td>Residential</td>\n",
       "      <td>2008-05-21</td>\n",
       "      <td>81900</td>\n",
       "      <td>21</td>\n",
       "      <td>5</td>\n",
       "    </tr>\n",
       "  </tbody>\n",
       "</table>\n",
       "</div>"
      ],
      "text/plain": [
       "             street        city    zip state  beds  baths  sq__ft  \\\n",
       "0      3526 HIGH ST  SACRAMENTO  95838    CA     2      1     836   \n",
       "1       51 OMAHA CT  SACRAMENTO  95823    CA     3      1    1167   \n",
       "2    2796 BRANCH ST  SACRAMENTO  95815    CA     2      1     796   \n",
       "3  2805 JANETTE WAY  SACRAMENTO  95815    CA     2      1     852   \n",
       "4   6001 MCMAHON DR  SACRAMENTO  95824    CA     2      1     797   \n",
       "\n",
       "          type  sale_date  price  day  month  \n",
       "0  Residential 2008-05-21  59222   21      5  \n",
       "1  Residential 2008-05-21  68212   21      5  \n",
       "2  Residential 2008-05-21  68880   21      5  \n",
       "3  Residential 2008-05-21  69307   21      5  \n",
       "4  Residential 2008-05-21  81900   21      5  "
      ]
     },
     "execution_count": 74,
     "metadata": {},
     "output_type": "execute_result"
    }
   ],
   "source": [
    "clean.head()"
   ]
  },
  {
   "cell_type": "code",
   "execution_count": 75,
   "metadata": {},
   "outputs": [],
   "source": [
    "X_var = [\"sq__ft\",\"beds\",\"baths\"] # Features\n",
    "X = clean[X_var]\n",
    "#X = pd.get_dummies(X, columns=[\"type\",\"city\"]) # Change dummy columns\n",
    "y = clean[\"price\"]"
   ]
  },
  {
   "cell_type": "code",
   "execution_count": 76,
   "metadata": {},
   "outputs": [
    {
     "data": {
      "text/html": [
       "<div>\n",
       "<style scoped>\n",
       "    .dataframe tbody tr th:only-of-type {\n",
       "        vertical-align: middle;\n",
       "    }\n",
       "\n",
       "    .dataframe tbody tr th {\n",
       "        vertical-align: top;\n",
       "    }\n",
       "\n",
       "    .dataframe thead th {\n",
       "        text-align: right;\n",
       "    }\n",
       "</style>\n",
       "<table border=\"1\" class=\"dataframe\">\n",
       "  <thead>\n",
       "    <tr style=\"text-align: right;\">\n",
       "      <th></th>\n",
       "      <th>sq__ft</th>\n",
       "      <th>beds</th>\n",
       "      <th>baths</th>\n",
       "    </tr>\n",
       "  </thead>\n",
       "  <tbody>\n",
       "    <tr>\n",
       "      <th>0</th>\n",
       "      <td>836</td>\n",
       "      <td>2</td>\n",
       "      <td>1</td>\n",
       "    </tr>\n",
       "    <tr>\n",
       "      <th>1</th>\n",
       "      <td>1167</td>\n",
       "      <td>3</td>\n",
       "      <td>1</td>\n",
       "    </tr>\n",
       "    <tr>\n",
       "      <th>2</th>\n",
       "      <td>796</td>\n",
       "      <td>2</td>\n",
       "      <td>1</td>\n",
       "    </tr>\n",
       "    <tr>\n",
       "      <th>3</th>\n",
       "      <td>852</td>\n",
       "      <td>2</td>\n",
       "      <td>1</td>\n",
       "    </tr>\n",
       "    <tr>\n",
       "      <th>4</th>\n",
       "      <td>797</td>\n",
       "      <td>2</td>\n",
       "      <td>1</td>\n",
       "    </tr>\n",
       "    <tr>\n",
       "      <th>...</th>\n",
       "      <td>...</td>\n",
       "      <td>...</td>\n",
       "      <td>...</td>\n",
       "    </tr>\n",
       "    <tr>\n",
       "      <th>807</th>\n",
       "      <td>2280</td>\n",
       "      <td>4</td>\n",
       "      <td>3</td>\n",
       "    </tr>\n",
       "    <tr>\n",
       "      <th>808</th>\n",
       "      <td>1477</td>\n",
       "      <td>3</td>\n",
       "      <td>2</td>\n",
       "    </tr>\n",
       "    <tr>\n",
       "      <th>809</th>\n",
       "      <td>1216</td>\n",
       "      <td>3</td>\n",
       "      <td>2</td>\n",
       "    </tr>\n",
       "    <tr>\n",
       "      <th>810</th>\n",
       "      <td>1685</td>\n",
       "      <td>4</td>\n",
       "      <td>2</td>\n",
       "    </tr>\n",
       "    <tr>\n",
       "      <th>811</th>\n",
       "      <td>1362</td>\n",
       "      <td>3</td>\n",
       "      <td>2</td>\n",
       "    </tr>\n",
       "  </tbody>\n",
       "</table>\n",
       "<p>812 rows × 3 columns</p>\n",
       "</div>"
      ],
      "text/plain": [
       "     sq__ft  beds  baths\n",
       "0       836     2      1\n",
       "1      1167     3      1\n",
       "2       796     2      1\n",
       "3       852     2      1\n",
       "4       797     2      1\n",
       "..      ...   ...    ...\n",
       "807    2280     4      3\n",
       "808    1477     3      2\n",
       "809    1216     3      2\n",
       "810    1685     4      2\n",
       "811    1362     3      2\n",
       "\n",
       "[812 rows x 3 columns]"
      ]
     },
     "execution_count": 76,
     "metadata": {},
     "output_type": "execute_result"
    }
   ],
   "source": [
    "X"
   ]
  },
  {
   "cell_type": "code",
   "execution_count": 77,
   "metadata": {},
   "outputs": [
    {
     "data": {
      "text/plain": [
       "Index(['sq__ft', 'beds', 'baths'], dtype='object')"
      ]
     },
     "execution_count": 77,
     "metadata": {},
     "output_type": "execute_result"
    }
   ],
   "source": [
    "X.columns"
   ]
  },
  {
   "cell_type": "code",
   "execution_count": 78,
   "metadata": {},
   "outputs": [
    {
     "data": {
      "text/plain": [
       "(812, 3)"
      ]
     },
     "execution_count": 78,
     "metadata": {},
     "output_type": "execute_result"
    }
   ],
   "source": [
    "X.shape"
   ]
  },
  {
   "cell_type": "code",
   "execution_count": 79,
   "metadata": {},
   "outputs": [],
   "source": [
    "#clean.describe()"
   ]
  },
  {
   "cell_type": "code",
   "execution_count": 80,
   "metadata": {},
   "outputs": [
    {
     "data": {
      "text/plain": [
       "LinearRegression()"
      ]
     },
     "execution_count": 80,
     "metadata": {},
     "output_type": "execute_result"
    }
   ],
   "source": [
    "# Train Model\n",
    "lr = LinearRegression()\n",
    "lr.fit(X,y)"
   ]
  },
  {
   "cell_type": "code",
   "execution_count": 81,
   "metadata": {},
   "outputs": [
    {
     "data": {
      "text/plain": [
       "0.4838389493845556"
      ]
     },
     "execution_count": 81,
     "metadata": {},
     "output_type": "execute_result"
    }
   ],
   "source": [
    "lr.score(X,y)"
   ]
  },
  {
   "cell_type": "code",
   "execution_count": 82,
   "metadata": {},
   "outputs": [],
   "source": [
    "y_preds = lr.predict(X)"
   ]
  },
  {
   "cell_type": "code",
   "execution_count": 83,
   "metadata": {},
   "outputs": [
    {
     "name": "stdout",
     "output_type": "stream",
     "text": [
      "MAE is : 59746.415270085956\n",
      "MSE is : 7401190520.97024\n",
      "RMSE is : 86030.17215471697\n"
     ]
    }
   ],
   "source": [
    "# Just using absolute values (trimming off - signs)\n",
    "print(f\"MAE is : {metrics.mean_absolute_error(y,y_preds)}\")\n",
    "print(f\"MSE is : {metrics.mean_squared_error(y,y_preds)}\")\n",
    "\n",
    "# RMSE is often used because it's easier to explain as it's in\n",
    "# the units of your y or target variable\n",
    "print(f\"RMSE is : {metrics.mean_squared_error(y,y_preds, squared=False)}\")"
   ]
  },
  {
   "cell_type": "code",
   "execution_count": 84,
   "metadata": {},
   "outputs": [],
   "source": [
    "X = clean[[\"sq__ft\"]]\n",
    "y = clean[\"price\"]"
   ]
  },
  {
   "cell_type": "code",
   "execution_count": 85,
   "metadata": {},
   "outputs": [
    {
     "data": {
      "text/plain": [
       "LinearRegression()"
      ]
     },
     "execution_count": 85,
     "metadata": {},
     "output_type": "execute_result"
    }
   ],
   "source": [
    "# Train Model of only square feet\n",
    "lr = LinearRegression()\n",
    "lr.fit(X,y)"
   ]
  },
  {
   "cell_type": "code",
   "execution_count": 86,
   "metadata": {},
   "outputs": [
    {
     "data": {
      "text/plain": [
       "0.4803237636121088"
      ]
     },
     "execution_count": 86,
     "metadata": {},
     "output_type": "execute_result"
    }
   ],
   "source": [
    "lr.score(X,y) # R squared = 0.48"
   ]
  },
  {
   "cell_type": "code",
   "execution_count": 87,
   "metadata": {},
   "outputs": [],
   "source": [
    "y_preds = lr.predict(X)"
   ]
  },
  {
   "cell_type": "code",
   "execution_count": 88,
   "metadata": {},
   "outputs": [],
   "source": [
    "#y_preds"
   ]
  },
  {
   "cell_type": "code",
   "execution_count": 89,
   "metadata": {},
   "outputs": [
    {
     "name": "stdout",
     "output_type": "stream",
     "text": [
      "MAE is : 60294.7404036104\n",
      "MSE is : 7451594478.392951\n",
      "RMSE is : 86322.61857933267\n"
     ]
    }
   ],
   "source": [
    "# Just using absolute values (trimming off - signs)\n",
    "print(f\"MAE is : {metrics.mean_absolute_error(y,y_preds)}\")\n",
    "print(f\"MSE is : {metrics.mean_squared_error(y,y_preds)}\")\n",
    "\n",
    "# RMSE is often used because it's easier to explain as it's in\n",
    "# the units of your y or target variable\n",
    "print(f\"RMSE is : {metrics.mean_squared_error(y,y_preds, squared=False)}\")"
   ]
  },
  {
   "cell_type": "code",
   "execution_count": 90,
   "metadata": {},
   "outputs": [],
   "source": [
    "def features_test(features):\n",
    "    X_var = features # Features\n",
    "    X = clean[X_var]\n",
    "    X = pd.get_dummies(X, drop_first = False) # Change dummy columns\n",
    "    y = clean[\"price\"]\n",
    "    lr = LinearRegression()\n",
    "    lr.fit(X,y)\n",
    "    print(f\"R Squared is : {lr.score(X,y)}\")\n",
    "    y_preds = lr.predict(X)\n",
    "    print(f\"MAE is : {metrics.mean_absolute_error(y,y_preds)}\")\n",
    "    print(f\"MSE is : {metrics.mean_squared_error(y,y_preds)}\")\n",
    "    print(f\"RMSE is : {metrics.mean_squared_error(y,y_preds, squared=False)}\")\n"
   ]
  },
  {
   "cell_type": "code",
   "execution_count": 91,
   "metadata": {},
   "outputs": [
    {
     "name": "stdout",
     "output_type": "stream",
     "text": [
      "R Squared is : 0.4907564737817076\n",
      "MAE is : 59157.18274411169\n",
      "MSE is : 7302000712.022557\n",
      "RMSE is : 85451.7449325791\n"
     ]
    }
   ],
   "source": [
    "features_test([\"sq__ft\",\"beds\",\"baths\",\"type\"])"
   ]
  },
  {
   "cell_type": "code",
   "execution_count": 92,
   "metadata": {},
   "outputs": [],
   "source": [
    "# This is the best simple model from logical reason and variable in this data.\n",
    "X_var = [\"sq__ft\",\"beds\",\"baths\",'type','city'] # Features\n",
    "X = clean[X_var]\n",
    "X = pd.get_dummies(X, columns=[\"type\",\"city\"]) # Change dummy columns\n",
    "y = clean[\"price\"]"
   ]
  },
  {
   "cell_type": "code",
   "execution_count": 93,
   "metadata": {},
   "outputs": [
    {
     "data": {
      "text/plain": [
       "LinearRegression()"
      ]
     },
     "execution_count": 93,
     "metadata": {},
     "output_type": "execute_result"
    }
   ],
   "source": [
    "lralls = LinearRegression()\n",
    "lralls.fit(X,y)"
   ]
  },
  {
   "cell_type": "code",
   "execution_count": 94,
   "metadata": {},
   "outputs": [
    {
     "data": {
      "text/plain": [
       "0.676186705974785"
      ]
     },
     "execution_count": 94,
     "metadata": {},
     "output_type": "execute_result"
    }
   ],
   "source": [
    "lralls.score(X,y) # R squared = 0.676"
   ]
  },
  {
   "cell_type": "code",
   "execution_count": 95,
   "metadata": {},
   "outputs": [
    {
     "name": "stdout",
     "output_type": "stream",
     "text": [
      "R Squared is : 0.676186705974785\n",
      "MAE is : 48718.15467322798\n",
      "MSE is : 4643131982.636002\n",
      "RMSE is : 68140.53112968817\n"
     ]
    }
   ],
   "source": [
    "features_test(X_var)"
   ]
  },
  {
   "cell_type": "code",
   "execution_count": 96,
   "metadata": {},
   "outputs": [],
   "source": [
    "# We would remove outlier to improve the model.\n",
    "X_var = [\"sq__ft\",\"beds\",\"baths\",'type','city'] # Features\n",
    "X2 = remove[X_var]\n",
    "X2 = pd.get_dummies(X2, columns=[\"type\",\"city\"]) # Change dummy columns\n",
    "y2 = remove[\"price\"]"
   ]
  },
  {
   "cell_type": "code",
   "execution_count": 97,
   "metadata": {},
   "outputs": [
    {
     "data": {
      "text/plain": [
       "LinearRegression()"
      ]
     },
     "execution_count": 97,
     "metadata": {},
     "output_type": "execute_result"
    }
   ],
   "source": [
    "lr2 = LinearRegression()\n",
    "lr2.fit(X2,y2)"
   ]
  },
  {
   "cell_type": "code",
   "execution_count": 98,
   "metadata": {},
   "outputs": [
    {
     "data": {
      "text/plain": [
       "0.6641295216548366"
      ]
     },
     "execution_count": 98,
     "metadata": {},
     "output_type": "execute_result"
    }
   ],
   "source": [
    "lr2.score(X2,y2) # R squared = 0.48"
   ]
  },
  {
   "cell_type": "code",
   "execution_count": 99,
   "metadata": {},
   "outputs": [],
   "source": [
    "y_preds2 = lr2.predict(X2)"
   ]
  },
  {
   "cell_type": "code",
   "execution_count": 100,
   "metadata": {},
   "outputs": [
    {
     "name": "stdout",
     "output_type": "stream",
     "text": [
      "R Squared is : 0.676186705974785\n",
      "MAE is : 48718.15467322798\n",
      "MSE is : 4643131982.636002\n",
      "RMSE is : 68140.53112968817\n"
     ]
    }
   ],
   "source": [
    "features_test(X_var)"
   ]
  },
  {
   "cell_type": "code",
   "execution_count": 101,
   "metadata": {},
   "outputs": [],
   "source": [
    "# Train Test Split\n",
    "#X_train, X_test, y_train, y_test = train_test_split(X, y, random_state=42) \n",
    "# set test_size to 0.7 for 70:30 split"
   ]
  },
  {
   "cell_type": "code",
   "execution_count": 102,
   "metadata": {},
   "outputs": [],
   "source": [
    "#cross_val_score(lr2, X, y)"
   ]
  },
  {
   "cell_type": "markdown",
   "metadata": {},
   "source": [
    "### 12. Plot the true price vs the predicted price to evaluate your MLR visually.\n",
    "\n",
    "You can use matplotlib or seaborn."
   ]
  },
  {
   "cell_type": "code",
   "execution_count": 103,
   "metadata": {},
   "outputs": [
    {
     "data": {
      "image/png": "[encoded data removed]",
      "text/plain": [
       "<Figure size 576x360 with 1 Axes>"
      ]
     },
     "metadata": {
      "needs_background": "light"
     },
     "output_type": "display_data"
    }
   ],
   "source": [
    "plt.figure(figsize = (8, 5))\n",
    "plt.scatter(clean[\"sq__ft\"],clean[\"price\"], s=1)\n",
    "plt.plot(clean[\"sq__ft\"], y_preds, color = \"orange\");\n",
    "\n",
    "plt.axhline(clean[\"price\"].mean(), color = 'grey')\n",
    "plt.xlabel('Square feet')\n",
    "plt.ylabel('Price')\n",
    "plt.title('Mean in grey, OLS regression in orange');"
   ]
  },
  {
   "cell_type": "code",
   "execution_count": 104,
   "metadata": {},
   "outputs": [
    {
     "data": {
      "image/png": "[encoded data removed]",
      "text/plain": [
       "<Figure size 576x360 with 1 Axes>"
      ]
     },
     "metadata": {
      "needs_background": "light"
     },
     "output_type": "display_data"
    }
   ],
   "source": [
    "residuals = y - y_preds\n",
    "np.std(residuals)\n",
    "\n",
    "plt.figure(figsize = (8, 5))\n",
    "plt.scatter(y_preds,residuals)\n",
    "plt.axhline(0,color=\"orange\")\n",
    "plt.axhline(np.std(residuals),color=\"orange\")\n",
    "plt.axhline(-np.std(residuals),color=\"orange\");"
   ]
  },
  {
   "cell_type": "code",
   "execution_count": 105,
   "metadata": {},
   "outputs": [
    {
     "data": {
      "image/png": "[encoded data removed]",
      "text/plain": [
       "<Figure size 576x360 with 1 Axes>"
      ]
     },
     "metadata": {
      "needs_background": "light"
     },
     "output_type": "display_data"
    }
   ],
   "source": [
    "# Model without outliers\n",
    "\n",
    "residuals2 = y2 - y_preds2\n",
    "np.std(residuals2)\n",
    "\n",
    "plt.figure(figsize = (8, 5))\n",
    "plt.scatter(y_preds2,residuals2)\n",
    "plt.axhline(0,color=\"orange\")\n",
    "plt.axhline(np.std(residuals),color=\"orange\")\n",
    "plt.axhline(-np.std(residuals),color=\"orange\");"
   ]
  },
  {
   "cell_type": "code",
   "execution_count": 122,
   "metadata": {},
   "outputs": [
    {
     "data": {
      "image/png": "[encoded data removed]",
      "text/plain": [
       "<Figure size 432x288 with 1 Axes>"
      ]
     },
     "metadata": {
      "needs_background": "light"
     },
     "output_type": "display_data"
    }
   ],
   "source": [
    "plt.hist(residuals2, bins=50);"
   ]
  },
  {
   "cell_type": "code",
   "execution_count": 123,
   "metadata": {},
   "outputs": [
    {
     "data": {
      "text/plain": [
       "1.4986274366300496"
      ]
     },
     "execution_count": 123,
     "metadata": {},
     "output_type": "execute_result"
    }
   ],
   "source": [
    "pd.Series(residuals2).skew()"
   ]
  },
  {
   "cell_type": "markdown",
   "metadata": {},
   "source": [
    "### 13. List the five assumptions for an MLR model. \n",
    "\n",
    "Indicate which ones are the same as the assumptions for an SLR model. "
   ]
  },
  {
   "cell_type": "markdown",
   "metadata": {},
   "source": [
    "1. Linearity -> Linear relationship\n",
    "2. Independence (of observations) - Independence challenges are often time-series based\n",
    "3. Normality -> Normality of error\n",
    "4. Equal Variance -> The residual (errors) is random.\n",
    "5. **Multicollinearity -> No High correlation between the features (independent variables).** This only applies for the MLR model as MLR have multiple features."
   ]
  },
  {
   "cell_type": "markdown",
   "metadata": {},
   "source": [
    "### 14. Pick at least two assumptions and explain whether or not you believe them to be met for your model, and explain why."
   ]
  },
  {
   "cell_type": "markdown",
   "metadata": {},
   "source": [
    "1. Linearity is met because the variables have a linear relationship with the price. (Check lmplot in section 3.)\n",
    "2. The equal variance is not met as there are likely higher positive variance on average and the variance is cluster. Hence, further investigation on the cluster, edge cases and outliers."
   ]
  },
  {
   "cell_type": "markdown",
   "metadata": {},
   "source": [
    "### 15. [Bonus] Generate a table showing the point estimates, standard errors, t-scores, p-values, and 95% confidence intervals for the model you built. \n",
    "\n",
    "**Write a few sentences interpreting some of the output.**\n",
    "\n",
    "> **Hint:** scikit-learn does not have this functionality built in, but statsmodels does in the `summary` method.  To fit the statsmodels model use something like the following.  There is one big caveat here, however!  `statsmodels.OLS` does _not_ add an intercept to your model, so you will need to do this explicitly by adding a column filled with the number 1 to your X matrix\n",
    "\n",
    "```python\n",
    "import statsmodels.api as sm\n",
    "\n",
    "# The Default here is Linear Regression (ordinary least squares regression OLS)\n",
    "model = sm.OLS(y,X).fit()\n",
    "```"
   ]
  },
  {
   "cell_type": "code",
   "execution_count": 106,
   "metadata": {},
   "outputs": [],
   "source": [
    "import statsmodels.api as sm\n",
    "ols = sm.OLS(y, X).fit()"
   ]
  },
  {
   "cell_type": "code",
   "execution_count": 107,
   "metadata": {},
   "outputs": [
    {
     "data": {
      "text/html": [
       "<table class=\"simpletable\">\n",
       "<caption>OLS Regression Results</caption>\n",
       "<tr>\n",
       "  <th>Dep. Variable:</th>          <td>price</td>      <th>  R-squared:         </th> <td>   0.676</td> \n",
       "</tr>\n",
       "<tr>\n",
       "  <th>Model:</th>                   <td>OLS</td>       <th>  Adj. R-squared:    </th> <td>   0.659</td> \n",
       "</tr>\n",
       "<tr>\n",
       "  <th>Method:</th>             <td>Least Squares</td>  <th>  F-statistic:       </th> <td>   40.25</td> \n",
       "</tr>\n",
       "<tr>\n",
       "  <th>Date:</th>             <td>Sun, 18 Sep 2022</td> <th>  Prob (F-statistic):</th> <td>1.82e-160</td>\n",
       "</tr>\n",
       "<tr>\n",
       "  <th>Time:</th>                 <td>23:07:55</td>     <th>  Log-Likelihood:    </th> <td> -10189.</td> \n",
       "</tr>\n",
       "<tr>\n",
       "  <th>No. Observations:</th>      <td>   812</td>      <th>  AIC:               </th> <td>2.046e+04</td>\n",
       "</tr>\n",
       "<tr>\n",
       "  <th>Df Residuals:</th>          <td>   771</td>      <th>  BIC:               </th> <td>2.065e+04</td>\n",
       "</tr>\n",
       "<tr>\n",
       "  <th>Df Model:</th>              <td>    40</td>      <th>                     </th>     <td> </td>    \n",
       "</tr>\n",
       "<tr>\n",
       "  <th>Covariance Type:</th>      <td>nonrobust</td>    <th>                     </th>     <td> </td>    \n",
       "</tr>\n",
       "</table>\n",
       "<table class=\"simpletable\">\n",
       "<tr>\n",
       "            <td></td>              <th>coef</th>     <th>std err</th>      <th>t</th>      <th>P>|t|</th>  <th>[0.025</th>    <th>0.975]</th>  \n",
       "</tr>\n",
       "<tr>\n",
       "  <th>sq__ft</th>               <td>  135.1101</td> <td>    6.956</td> <td>   19.424</td> <td> 0.000</td> <td>  121.456</td> <td>  148.764</td>\n",
       "</tr>\n",
       "<tr>\n",
       "  <th>beds</th>                 <td>-2.136e+04</td> <td> 4698.955</td> <td>   -4.545</td> <td> 0.000</td> <td>-3.06e+04</td> <td>-1.21e+04</td>\n",
       "</tr>\n",
       "<tr>\n",
       "  <th>baths</th>                <td> 3700.3620</td> <td> 5884.407</td> <td>    0.629</td> <td> 0.530</td> <td>-7850.998</td> <td> 1.53e+04</td>\n",
       "</tr>\n",
       "<tr>\n",
       "  <th>type_Condo</th>           <td> 6.555e+04</td> <td> 1.41e+04</td> <td>    4.646</td> <td> 0.000</td> <td> 3.79e+04</td> <td> 9.32e+04</td>\n",
       "</tr>\n",
       "<tr>\n",
       "  <th>type_Multi-Family</th>    <td> 6.604e+04</td> <td> 2.55e+04</td> <td>    2.594</td> <td> 0.010</td> <td> 1.61e+04</td> <td> 1.16e+05</td>\n",
       "</tr>\n",
       "<tr>\n",
       "  <th>type_Residential</th>     <td> 1.085e+05</td> <td> 1.23e+04</td> <td>    8.802</td> <td> 0.000</td> <td> 8.43e+04</td> <td> 1.33e+05</td>\n",
       "</tr>\n",
       "<tr>\n",
       "  <th>city_ANTELOPE</th>        <td>-4.304e+04</td> <td>  1.4e+04</td> <td>   -3.084</td> <td> 0.002</td> <td>-7.04e+04</td> <td>-1.56e+04</td>\n",
       "</tr>\n",
       "<tr>\n",
       "  <th>city_AUBURN</th>          <td> 8.774e+04</td> <td> 4.06e+04</td> <td>    2.161</td> <td> 0.031</td> <td> 8045.244</td> <td> 1.67e+05</td>\n",
       "</tr>\n",
       "<tr>\n",
       "  <th>city_CAMERON PARK</th>    <td> 7.474e+04</td> <td> 6.85e+04</td> <td>    1.091</td> <td> 0.276</td> <td>-5.97e+04</td> <td> 2.09e+05</td>\n",
       "</tr>\n",
       "<tr>\n",
       "  <th>city_CARMICHAEL</th>      <td> 4.204e+04</td> <td> 1.69e+04</td> <td>    2.495</td> <td> 0.013</td> <td> 8956.195</td> <td> 7.51e+04</td>\n",
       "</tr>\n",
       "<tr>\n",
       "  <th>city_CITRUS HEIGHTS</th>  <td>-3.261e+04</td> <td>  1.4e+04</td> <td>   -2.324</td> <td> 0.020</td> <td>-6.02e+04</td> <td>-5059.064</td>\n",
       "</tr>\n",
       "<tr>\n",
       "  <th>city_COOL</th>            <td> 5.126e+04</td> <td> 6.85e+04</td> <td>    0.748</td> <td> 0.455</td> <td>-8.32e+04</td> <td> 1.86e+05</td>\n",
       "</tr>\n",
       "<tr>\n",
       "  <th>city_DIAMOND SPRINGS</th> <td>-1.149e+04</td> <td> 6.86e+04</td> <td>   -0.168</td> <td> 0.867</td> <td>-1.46e+05</td> <td> 1.23e+05</td>\n",
       "</tr>\n",
       "<tr>\n",
       "  <th>city_EL DORADO</th>       <td> 6324.6844</td> <td> 4.87e+04</td> <td>    0.130</td> <td> 0.897</td> <td>-8.93e+04</td> <td> 1.02e+05</td>\n",
       "</tr>\n",
       "<tr>\n",
       "  <th>city_EL DORADO HILLS</th> <td> 1.997e+04</td> <td>    4e+04</td> <td>    0.499</td> <td> 0.618</td> <td>-5.86e+04</td> <td> 9.86e+04</td>\n",
       "</tr>\n",
       "<tr>\n",
       "  <th>city_ELK GROVE</th>       <td>-3.449e+04</td> <td> 9863.951</td> <td>   -3.496</td> <td> 0.000</td> <td>-5.39e+04</td> <td>-1.51e+04</td>\n",
       "</tr>\n",
       "<tr>\n",
       "  <th>city_ELVERTA</th>         <td>-8.141e+04</td> <td>  3.5e+04</td> <td>   -2.324</td> <td> 0.020</td> <td> -1.5e+05</td> <td>-1.26e+04</td>\n",
       "</tr>\n",
       "<tr>\n",
       "  <th>city_FAIR OAKS</th>       <td> 3.214e+04</td> <td> 2.38e+04</td> <td>    1.352</td> <td> 0.177</td> <td>-1.45e+04</td> <td> 7.88e+04</td>\n",
       "</tr>\n",
       "<tr>\n",
       "  <th>city_FOLSOM</th>          <td> 7.924e+04</td> <td> 1.91e+04</td> <td>    4.150</td> <td> 0.000</td> <td> 4.18e+04</td> <td> 1.17e+05</td>\n",
       "</tr>\n",
       "<tr>\n",
       "  <th>city_GALT</th>            <td>-3.196e+04</td> <td>  1.7e+04</td> <td>   -1.880</td> <td> 0.060</td> <td>-6.53e+04</td> <td> 1410.539</td>\n",
       "</tr>\n",
       "<tr>\n",
       "  <th>city_GOLD RIVER</th>      <td>   3.1e+04</td> <td>    4e+04</td> <td>    0.774</td> <td> 0.439</td> <td>-4.76e+04</td> <td>  1.1e+05</td>\n",
       "</tr>\n",
       "<tr>\n",
       "  <th>city_GRANITE BAY</th>     <td> 2.569e+05</td> <td> 4.04e+04</td> <td>    6.361</td> <td> 0.000</td> <td> 1.78e+05</td> <td> 3.36e+05</td>\n",
       "</tr>\n",
       "<tr>\n",
       "  <th>city_GREENWOOD</th>       <td> -4.14e+04</td> <td> 6.89e+04</td> <td>   -0.601</td> <td> 0.548</td> <td>-1.77e+05</td> <td> 9.38e+04</td>\n",
       "</tr>\n",
       "<tr>\n",
       "  <th>city_LINCOLN</th>         <td>-3071.2631</td> <td> 2.88e+04</td> <td>   -0.107</td> <td> 0.915</td> <td>-5.95e+04</td> <td> 5.34e+04</td>\n",
       "</tr>\n",
       "<tr>\n",
       "  <th>city_LOOMIS</th>          <td> 3.334e+05</td> <td> 4.94e+04</td> <td>    6.746</td> <td> 0.000</td> <td> 2.36e+05</td> <td>  4.3e+05</td>\n",
       "</tr>\n",
       "<tr>\n",
       "  <th>city_MATHER</th>          <td>-9.687e+04</td> <td> 6.85e+04</td> <td>   -1.414</td> <td> 0.158</td> <td>-2.31e+05</td> <td> 3.76e+04</td>\n",
       "</tr>\n",
       "<tr>\n",
       "  <th>city_MEADOW VISTA</th>    <td> 1.753e+04</td> <td> 6.86e+04</td> <td>    0.255</td> <td> 0.799</td> <td>-1.17e+05</td> <td> 1.52e+05</td>\n",
       "</tr>\n",
       "<tr>\n",
       "  <th>city_NORTH HIGHLANDS</th> <td>-6.904e+04</td> <td> 1.68e+04</td> <td>   -4.101</td> <td> 0.000</td> <td>-1.02e+05</td> <td> -3.6e+04</td>\n",
       "</tr>\n",
       "<tr>\n",
       "  <th>city_ORANGEVALE</th>      <td> 1.247e+04</td> <td> 2.18e+04</td> <td>    0.572</td> <td> 0.567</td> <td>-3.03e+04</td> <td> 5.52e+04</td>\n",
       "</tr>\n",
       "<tr>\n",
       "  <th>city_PENRYN</th>          <td> 2.765e+05</td> <td> 6.85e+04</td> <td>    4.033</td> <td> 0.000</td> <td> 1.42e+05</td> <td> 4.11e+05</td>\n",
       "</tr>\n",
       "<tr>\n",
       "  <th>city_PLACERVILLE</th>     <td>  1.26e+05</td> <td> 3.13e+04</td> <td>    4.023</td> <td> 0.000</td> <td> 6.45e+04</td> <td> 1.87e+05</td>\n",
       "</tr>\n",
       "<tr>\n",
       "  <th>city_POLLOCK PINES</th>   <td> 3110.4401</td> <td>    4e+04</td> <td>    0.078</td> <td> 0.938</td> <td>-7.54e+04</td> <td> 8.16e+04</td>\n",
       "</tr>\n",
       "<tr>\n",
       "  <th>city_RANCHO CORDOVA</th>  <td>-4.799e+04</td> <td> 1.66e+04</td> <td>   -2.895</td> <td> 0.004</td> <td>-8.05e+04</td> <td>-1.54e+04</td>\n",
       "</tr>\n",
       "<tr>\n",
       "  <th>city_RANCHO MURIETA</th>  <td>-3.496e+04</td> <td>  4.9e+04</td> <td>   -0.713</td> <td> 0.476</td> <td>-1.31e+05</td> <td> 6.12e+04</td>\n",
       "</tr>\n",
       "<tr>\n",
       "  <th>city_RIO LINDA</th>       <td>-3.191e+04</td> <td> 2.11e+04</td> <td>   -1.514</td> <td> 0.130</td> <td>-7.33e+04</td> <td> 9457.538</td>\n",
       "</tr>\n",
       "<tr>\n",
       "  <th>city_ROCKLIN</th>         <td> 3.964e+04</td> <td> 2.51e+04</td> <td>    1.579</td> <td> 0.115</td> <td>-9647.213</td> <td> 8.89e+04</td>\n",
       "</tr>\n",
       "<tr>\n",
       "  <th>city_ROSEVILLE</th>       <td> 1.234e+04</td> <td> 1.47e+04</td> <td>    0.840</td> <td> 0.401</td> <td>-1.65e+04</td> <td> 4.12e+04</td>\n",
       "</tr>\n",
       "<tr>\n",
       "  <th>city_SACRAMENTO</th>      <td>-4.514e+04</td> <td> 8010.710</td> <td>   -5.635</td> <td> 0.000</td> <td>-6.09e+04</td> <td>-2.94e+04</td>\n",
       "</tr>\n",
       "<tr>\n",
       "  <th>city_SLOUGHHOUSE</th>     <td>-8.439e+05</td> <td> 7.29e+04</td> <td>  -11.579</td> <td> 0.000</td> <td>-9.87e+05</td> <td>-7.01e+05</td>\n",
       "</tr>\n",
       "<tr>\n",
       "  <th>city_WALNUT GROVE</th>    <td> 9.848e+04</td> <td> 6.87e+04</td> <td>    1.434</td> <td> 0.152</td> <td>-3.63e+04</td> <td> 2.33e+05</td>\n",
       "</tr>\n",
       "<tr>\n",
       "  <th>city_WEST SACRAMENTO</th> <td>-4.197e+04</td> <td> 6.86e+04</td> <td>   -0.612</td> <td> 0.541</td> <td>-1.77e+05</td> <td> 9.27e+04</td>\n",
       "</tr>\n",
       "<tr>\n",
       "  <th>city_WILTON</th>          <td> 1.306e+05</td> <td> 3.59e+04</td> <td>    3.642</td> <td> 0.000</td> <td> 6.02e+04</td> <td> 2.01e+05</td>\n",
       "</tr>\n",
       "</table>\n",
       "<table class=\"simpletable\">\n",
       "<tr>\n",
       "  <th>Omnibus:</th>       <td>256.220</td> <th>  Durbin-Watson:     </th> <td>   1.383</td> \n",
       "</tr>\n",
       "<tr>\n",
       "  <th>Prob(Omnibus):</th> <td> 0.000</td>  <th>  Jarque-Bera (JB):  </th> <td>1079.879</td> \n",
       "</tr>\n",
       "<tr>\n",
       "  <th>Skew:</th>          <td> 1.416</td>  <th>  Prob(JB):          </th> <td>3.22e-235</td>\n",
       "</tr>\n",
       "<tr>\n",
       "  <th>Kurtosis:</th>      <td> 7.889</td>  <th>  Cond. No.          </th> <td>4.17e+19</td> \n",
       "</tr>\n",
       "</table><br/><br/>Notes:<br/>[1] Standard Errors assume that the covariance matrix of the errors is correctly specified.<br/>[2] The smallest eigenvalue is 1.39e-30. This might indicate that there are<br/>strong multicollinearity problems or that the design matrix is singular."
      ],
      "text/plain": [
       "<class 'statsmodels.iolib.summary.Summary'>\n",
       "\"\"\"\n",
       "                            OLS Regression Results                            \n",
       "==============================================================================\n",
       "Dep. Variable:                  price   R-squared:                       0.676\n",
       "Model:                            OLS   Adj. R-squared:                  0.659\n",
       "Method:                 Least Squares   F-statistic:                     40.25\n",
       "Date:                Sun, 18 Sep 2022   Prob (F-statistic):          1.82e-160\n",
       "Time:                        23:07:55   Log-Likelihood:                -10189.\n",
       "No. Observations:                 812   AIC:                         2.046e+04\n",
       "Df Residuals:                     771   BIC:                         2.065e+04\n",
       "Df Model:                          40                                         \n",
       "Covariance Type:            nonrobust                                         \n",
       "========================================================================================\n",
       "                           coef    std err          t      P>|t|      [0.025      0.975]\n",
       "----------------------------------------------------------------------------------------\n",
       "sq__ft                 135.1101      6.956     19.424      0.000     121.456     148.764\n",
       "beds                 -2.136e+04   4698.955     -4.545      0.000   -3.06e+04   -1.21e+04\n",
       "baths                 3700.3620   5884.407      0.629      0.530   -7850.998    1.53e+04\n",
       "type_Condo            6.555e+04   1.41e+04      4.646      0.000    3.79e+04    9.32e+04\n",
       "type_Multi-Family     6.604e+04   2.55e+04      2.594      0.010    1.61e+04    1.16e+05\n",
       "type_Residential      1.085e+05   1.23e+04      8.802      0.000    8.43e+04    1.33e+05\n",
       "city_ANTELOPE        -4.304e+04    1.4e+04     -3.084      0.002   -7.04e+04   -1.56e+04\n",
       "city_AUBURN           8.774e+04   4.06e+04      2.161      0.031    8045.244    1.67e+05\n",
       "city_CAMERON PARK     7.474e+04   6.85e+04      1.091      0.276   -5.97e+04    2.09e+05\n",
       "city_CARMICHAEL       4.204e+04   1.69e+04      2.495      0.013    8956.195    7.51e+04\n",
       "city_CITRUS HEIGHTS  -3.261e+04    1.4e+04     -2.324      0.020   -6.02e+04   -5059.064\n",
       "city_COOL             5.126e+04   6.85e+04      0.748      0.455   -8.32e+04    1.86e+05\n",
       "city_DIAMOND SPRINGS -1.149e+04   6.86e+04     -0.168      0.867   -1.46e+05    1.23e+05\n",
       "city_EL DORADO        6324.6844   4.87e+04      0.130      0.897   -8.93e+04    1.02e+05\n",
       "city_EL DORADO HILLS  1.997e+04      4e+04      0.499      0.618   -5.86e+04    9.86e+04\n",
       "city_ELK GROVE       -3.449e+04   9863.951     -3.496      0.000   -5.39e+04   -1.51e+04\n",
       "city_ELVERTA         -8.141e+04    3.5e+04     -2.324      0.020    -1.5e+05   -1.26e+04\n",
       "city_FAIR OAKS        3.214e+04   2.38e+04      1.352      0.177   -1.45e+04    7.88e+04\n",
       "city_FOLSOM           7.924e+04   1.91e+04      4.150      0.000    4.18e+04    1.17e+05\n",
       "city_GALT            -3.196e+04    1.7e+04     -1.880      0.060   -6.53e+04    1410.539\n",
       "city_GOLD RIVER         3.1e+04      4e+04      0.774      0.439   -4.76e+04     1.1e+05\n",
       "city_GRANITE BAY      2.569e+05   4.04e+04      6.361      0.000    1.78e+05    3.36e+05\n",
       "city_GREENWOOD        -4.14e+04   6.89e+04     -0.601      0.548   -1.77e+05    9.38e+04\n",
       "city_LINCOLN         -3071.2631   2.88e+04     -0.107      0.915   -5.95e+04    5.34e+04\n",
       "city_LOOMIS           3.334e+05   4.94e+04      6.746      0.000    2.36e+05     4.3e+05\n",
       "city_MATHER          -9.687e+04   6.85e+04     -1.414      0.158   -2.31e+05    3.76e+04\n",
       "city_MEADOW VISTA     1.753e+04   6.86e+04      0.255      0.799   -1.17e+05    1.52e+05\n",
       "city_NORTH HIGHLANDS -6.904e+04   1.68e+04     -4.101      0.000   -1.02e+05    -3.6e+04\n",
       "city_ORANGEVALE       1.247e+04   2.18e+04      0.572      0.567   -3.03e+04    5.52e+04\n",
       "city_PENRYN           2.765e+05   6.85e+04      4.033      0.000    1.42e+05    4.11e+05\n",
       "city_PLACERVILLE       1.26e+05   3.13e+04      4.023      0.000    6.45e+04    1.87e+05\n",
       "city_POLLOCK PINES    3110.4401      4e+04      0.078      0.938   -7.54e+04    8.16e+04\n",
       "city_RANCHO CORDOVA  -4.799e+04   1.66e+04     -2.895      0.004   -8.05e+04   -1.54e+04\n",
       "city_RANCHO MURIETA  -3.496e+04    4.9e+04     -0.713      0.476   -1.31e+05    6.12e+04\n",
       "city_RIO LINDA       -3.191e+04   2.11e+04     -1.514      0.130   -7.33e+04    9457.538\n",
       "city_ROCKLIN          3.964e+04   2.51e+04      1.579      0.115   -9647.213    8.89e+04\n",
       "city_ROSEVILLE        1.234e+04   1.47e+04      0.840      0.401   -1.65e+04    4.12e+04\n",
       "city_SACRAMENTO      -4.514e+04   8010.710     -5.635      0.000   -6.09e+04   -2.94e+04\n",
       "city_SLOUGHHOUSE     -8.439e+05   7.29e+04    -11.579      0.000   -9.87e+05   -7.01e+05\n",
       "city_WALNUT GROVE     9.848e+04   6.87e+04      1.434      0.152   -3.63e+04    2.33e+05\n",
       "city_WEST SACRAMENTO -4.197e+04   6.86e+04     -0.612      0.541   -1.77e+05    9.27e+04\n",
       "city_WILTON           1.306e+05   3.59e+04      3.642      0.000    6.02e+04    2.01e+05\n",
       "==============================================================================\n",
       "Omnibus:                      256.220   Durbin-Watson:                   1.383\n",
       "Prob(Omnibus):                  0.000   Jarque-Bera (JB):             1079.879\n",
       "Skew:                           1.416   Prob(JB):                    3.22e-235\n",
       "Kurtosis:                       7.889   Cond. No.                     4.17e+19\n",
       "==============================================================================\n",
       "\n",
       "Notes:\n",
       "[1] Standard Errors assume that the covariance matrix of the errors is correctly specified.\n",
       "[2] The smallest eigenvalue is 1.39e-30. This might indicate that there are\n",
       "strong multicollinearity problems or that the design matrix is singular.\n",
       "\"\"\""
      ]
     },
     "execution_count": 107,
     "metadata": {},
     "output_type": "execute_result"
    }
   ],
   "source": [
    "ols.summary()"
   ]
  },
  {
   "cell_type": "markdown",
   "metadata": {},
   "source": [
    "### 16. Regression Metrics\n",
    "\n",
    "Implement a function called `r2_adj()` that will calculate $R^2_{adj}$ for a model. "
   ]
  },
  {
   "cell_type": "code",
   "execution_count": 108,
   "metadata": {},
   "outputs": [],
   "source": [
    "def r2_adj(y,y_preds):\n",
    "    return metrics.r2_score(y,y_preds)"
   ]
  },
  {
   "cell_type": "code",
   "execution_count": 109,
   "metadata": {},
   "outputs": [
    {
     "data": {
      "text/plain": [
       "0.4803237636121088"
      ]
     },
     "execution_count": 109,
     "metadata": {},
     "output_type": "execute_result"
    }
   ],
   "source": [
    "r2_adj(y,y_preds)"
   ]
  },
  {
   "cell_type": "markdown",
   "metadata": {},
   "source": [
    "### 17. Metrics, metrics, everywhere...\n",
    "\n",
    "Calculate and interpret at least three regression metrics. How well does your model perform?"
   ]
  },
  {
   "cell_type": "code",
   "execution_count": 110,
   "metadata": {},
   "outputs": [
    {
     "data": {
      "text/html": [
       "<table class=\"simpletable\">\n",
       "<caption>OLS Regression Results</caption>\n",
       "<tr>\n",
       "  <th>Dep. Variable:</th>          <td>price</td>      <th>  R-squared:         </th> <td>   0.491</td> \n",
       "</tr>\n",
       "<tr>\n",
       "  <th>Model:</th>                   <td>OLS</td>       <th>  Adj. R-squared:    </th> <td>   0.488</td> \n",
       "</tr>\n",
       "<tr>\n",
       "  <th>Method:</th>             <td>Least Squares</td>  <th>  F-statistic:       </th> <td>   155.3</td> \n",
       "</tr>\n",
       "<tr>\n",
       "  <th>Date:</th>             <td>Sun, 18 Sep 2022</td> <th>  Prob (F-statistic):</th> <td>1.64e-115</td>\n",
       "</tr>\n",
       "<tr>\n",
       "  <th>Time:</th>                 <td>23:07:55</td>     <th>  Log-Likelihood:    </th> <td> -10373.</td> \n",
       "</tr>\n",
       "<tr>\n",
       "  <th>No. Observations:</th>      <td>   812</td>      <th>  AIC:               </th> <td>2.076e+04</td>\n",
       "</tr>\n",
       "<tr>\n",
       "  <th>Df Residuals:</th>          <td>   806</td>      <th>  BIC:               </th> <td>2.079e+04</td>\n",
       "</tr>\n",
       "<tr>\n",
       "  <th>Df Model:</th>              <td>     5</td>      <th>                     </th>     <td> </td>    \n",
       "</tr>\n",
       "<tr>\n",
       "  <th>Covariance Type:</th>      <td>nonrobust</td>    <th>                     </th>     <td> </td>    \n",
       "</tr>\n",
       "</table>\n",
       "<table class=\"simpletable\">\n",
       "<tr>\n",
       "          <td></td>             <th>coef</th>     <th>std err</th>      <th>t</th>      <th>P>|t|</th>  <th>[0.025</th>    <th>0.975]</th>  \n",
       "</tr>\n",
       "<tr>\n",
       "  <th>const</th>             <td> 2.283e+04</td> <td> 1.55e+04</td> <td>    1.472</td> <td> 0.141</td> <td>-7618.618</td> <td> 5.33e+04</td>\n",
       "</tr>\n",
       "<tr>\n",
       "  <th>sq__ft</th>            <td>  130.8241</td> <td>    7.345</td> <td>   17.810</td> <td> 0.000</td> <td>  116.406</td> <td>  145.242</td>\n",
       "</tr>\n",
       "<tr>\n",
       "  <th>beds</th>              <td>-1.456e+04</td> <td> 5470.263</td> <td>   -2.661</td> <td> 0.008</td> <td>-2.53e+04</td> <td>-3818.286</td>\n",
       "</tr>\n",
       "<tr>\n",
       "  <th>baths</th>             <td> 7972.7413</td> <td> 6956.143</td> <td>    1.146</td> <td> 0.252</td> <td>-5681.552</td> <td> 2.16e+04</td>\n",
       "</tr>\n",
       "<tr>\n",
       "  <th>type_Multi-Family</th> <td>-2.567e+04</td> <td> 2.93e+04</td> <td>   -0.876</td> <td> 0.381</td> <td>-8.32e+04</td> <td> 3.19e+04</td>\n",
       "</tr>\n",
       "<tr>\n",
       "  <th>type_Residential</th>  <td> 3.278e+04</td> <td> 1.47e+04</td> <td>    2.236</td> <td> 0.026</td> <td> 3999.885</td> <td> 6.16e+04</td>\n",
       "</tr>\n",
       "</table>\n",
       "<table class=\"simpletable\">\n",
       "<tr>\n",
       "  <th>Omnibus:</th>       <td>215.318</td> <th>  Durbin-Watson:     </th> <td>   1.147</td>\n",
       "</tr>\n",
       "<tr>\n",
       "  <th>Prob(Omnibus):</th> <td> 0.000</td>  <th>  Jarque-Bera (JB):  </th> <td>6800.490</td>\n",
       "</tr>\n",
       "<tr>\n",
       "  <th>Skew:</th>          <td> 0.501</td>  <th>  Prob(JB):          </th> <td>    0.00</td>\n",
       "</tr>\n",
       "<tr>\n",
       "  <th>Kurtosis:</th>      <td>17.142</td>  <th>  Cond. No.          </th> <td>1.77e+04</td>\n",
       "</tr>\n",
       "</table><br/><br/>Notes:<br/>[1] Standard Errors assume that the covariance matrix of the errors is correctly specified.<br/>[2] The condition number is large, 1.77e+04. This might indicate that there are<br/>strong multicollinearity or other numerical problems."
      ],
      "text/plain": [
       "<class 'statsmodels.iolib.summary.Summary'>\n",
       "\"\"\"\n",
       "                            OLS Regression Results                            \n",
       "==============================================================================\n",
       "Dep. Variable:                  price   R-squared:                       0.491\n",
       "Model:                            OLS   Adj. R-squared:                  0.488\n",
       "Method:                 Least Squares   F-statistic:                     155.3\n",
       "Date:                Sun, 18 Sep 2022   Prob (F-statistic):          1.64e-115\n",
       "Time:                        23:07:55   Log-Likelihood:                -10373.\n",
       "No. Observations:                 812   AIC:                         2.076e+04\n",
       "Df Residuals:                     806   BIC:                         2.079e+04\n",
       "Df Model:                           5                                         \n",
       "Covariance Type:            nonrobust                                         \n",
       "=====================================================================================\n",
       "                        coef    std err          t      P>|t|      [0.025      0.975]\n",
       "-------------------------------------------------------------------------------------\n",
       "const              2.283e+04   1.55e+04      1.472      0.141   -7618.618    5.33e+04\n",
       "sq__ft              130.8241      7.345     17.810      0.000     116.406     145.242\n",
       "beds              -1.456e+04   5470.263     -2.661      0.008   -2.53e+04   -3818.286\n",
       "baths              7972.7413   6956.143      1.146      0.252   -5681.552    2.16e+04\n",
       "type_Multi-Family -2.567e+04   2.93e+04     -0.876      0.381   -8.32e+04    3.19e+04\n",
       "type_Residential   3.278e+04   1.47e+04      2.236      0.026    3999.885    6.16e+04\n",
       "==============================================================================\n",
       "Omnibus:                      215.318   Durbin-Watson:                   1.147\n",
       "Prob(Omnibus):                  0.000   Jarque-Bera (JB):             6800.490\n",
       "Skew:                           0.501   Prob(JB):                         0.00\n",
       "Kurtosis:                      17.142   Cond. No.                     1.77e+04\n",
       "==============================================================================\n",
       "\n",
       "Notes:\n",
       "[1] Standard Errors assume that the covariance matrix of the errors is correctly specified.\n",
       "[2] The condition number is large, 1.77e+04. This might indicate that there are\n",
       "strong multicollinearity or other numerical problems.\n",
       "\"\"\""
      ]
     },
     "execution_count": 110,
     "metadata": {},
     "output_type": "execute_result"
    }
   ],
   "source": [
    "X = clean[['sq__ft', 'beds', 'baths', 'type']]\n",
    "X = sm.add_constant(X)\n",
    "y = clean['price']\n",
    "dummy = pd.get_dummies(X, drop_first=True)\n",
    "\n",
    "ols = sm.OLS(y, dummy).fit()\n",
    "ols.summary()"
   ]
  },
  {
   "cell_type": "markdown",
   "metadata": {},
   "source": [
    "### 18. Model Iteration\n",
    "\n",
    "Adjust your model by adding or removing a variable. Then calculate the same regression metrics as you used in question 17. Has your model performance increased or decreased?"
   ]
  },
  {
   "cell_type": "code",
   "execution_count": 111,
   "metadata": {},
   "outputs": [
    {
     "data": {
      "text/html": [
       "<div>\n",
       "<style scoped>\n",
       "    .dataframe tbody tr th:only-of-type {\n",
       "        vertical-align: middle;\n",
       "    }\n",
       "\n",
       "    .dataframe tbody tr th {\n",
       "        vertical-align: top;\n",
       "    }\n",
       "\n",
       "    .dataframe thead th {\n",
       "        text-align: right;\n",
       "    }\n",
       "</style>\n",
       "<table border=\"1\" class=\"dataframe\">\n",
       "  <thead>\n",
       "    <tr style=\"text-align: right;\">\n",
       "      <th></th>\n",
       "      <th>zip</th>\n",
       "      <th>beds</th>\n",
       "      <th>baths</th>\n",
       "      <th>sq__ft</th>\n",
       "      <th>price</th>\n",
       "      <th>day</th>\n",
       "      <th>month</th>\n",
       "    </tr>\n",
       "  </thead>\n",
       "  <tbody>\n",
       "    <tr>\n",
       "      <th>count</th>\n",
       "      <td>812.000000</td>\n",
       "      <td>812.000000</td>\n",
       "      <td>812.000000</td>\n",
       "      <td>812.000000</td>\n",
       "      <td>812.000000</td>\n",
       "      <td>812.000000</td>\n",
       "      <td>812.0</td>\n",
       "    </tr>\n",
       "    <tr>\n",
       "      <th>mean</th>\n",
       "      <td>95761.592365</td>\n",
       "      <td>3.245074</td>\n",
       "      <td>1.961823</td>\n",
       "      <td>1592.461823</td>\n",
       "      <td>229723.743842</td>\n",
       "      <td>18.204433</td>\n",
       "      <td>5.0</td>\n",
       "    </tr>\n",
       "    <tr>\n",
       "      <th>std</th>\n",
       "      <td>85.281835</td>\n",
       "      <td>0.851654</td>\n",
       "      <td>0.669778</td>\n",
       "      <td>664.036825</td>\n",
       "      <td>119819.020404</td>\n",
       "      <td>2.194058</td>\n",
       "      <td>0.0</td>\n",
       "    </tr>\n",
       "    <tr>\n",
       "      <th>min</th>\n",
       "      <td>95603.000000</td>\n",
       "      <td>1.000000</td>\n",
       "      <td>1.000000</td>\n",
       "      <td>484.000000</td>\n",
       "      <td>2000.000000</td>\n",
       "      <td>15.000000</td>\n",
       "      <td>5.0</td>\n",
       "    </tr>\n",
       "    <tr>\n",
       "      <th>25%</th>\n",
       "      <td>95670.000000</td>\n",
       "      <td>3.000000</td>\n",
       "      <td>2.000000</td>\n",
       "      <td>1144.000000</td>\n",
       "      <td>148750.000000</td>\n",
       "      <td>16.000000</td>\n",
       "      <td>5.0</td>\n",
       "    </tr>\n",
       "    <tr>\n",
       "      <th>50%</th>\n",
       "      <td>95820.000000</td>\n",
       "      <td>3.000000</td>\n",
       "      <td>2.000000</td>\n",
       "      <td>1419.500000</td>\n",
       "      <td>208000.000000</td>\n",
       "      <td>19.000000</td>\n",
       "      <td>5.0</td>\n",
       "    </tr>\n",
       "    <tr>\n",
       "      <th>75%</th>\n",
       "      <td>95828.250000</td>\n",
       "      <td>4.000000</td>\n",
       "      <td>2.000000</td>\n",
       "      <td>1852.250000</td>\n",
       "      <td>285000.000000</td>\n",
       "      <td>20.000000</td>\n",
       "      <td>5.0</td>\n",
       "    </tr>\n",
       "    <tr>\n",
       "      <th>max</th>\n",
       "      <td>95864.000000</td>\n",
       "      <td>8.000000</td>\n",
       "      <td>5.000000</td>\n",
       "      <td>5822.000000</td>\n",
       "      <td>884790.000000</td>\n",
       "      <td>21.000000</td>\n",
       "      <td>5.0</td>\n",
       "    </tr>\n",
       "  </tbody>\n",
       "</table>\n",
       "</div>"
      ],
      "text/plain": [
       "                zip        beds       baths       sq__ft          price  \\\n",
       "count    812.000000  812.000000  812.000000   812.000000     812.000000   \n",
       "mean   95761.592365    3.245074    1.961823  1592.461823  229723.743842   \n",
       "std       85.281835    0.851654    0.669778   664.036825  119819.020404   \n",
       "min    95603.000000    1.000000    1.000000   484.000000    2000.000000   \n",
       "25%    95670.000000    3.000000    2.000000  1144.000000  148750.000000   \n",
       "50%    95820.000000    3.000000    2.000000  1419.500000  208000.000000   \n",
       "75%    95828.250000    4.000000    2.000000  1852.250000  285000.000000   \n",
       "max    95864.000000    8.000000    5.000000  5822.000000  884790.000000   \n",
       "\n",
       "              day  month  \n",
       "count  812.000000  812.0  \n",
       "mean    18.204433    5.0  \n",
       "std      2.194058    0.0  \n",
       "min     15.000000    5.0  \n",
       "25%     16.000000    5.0  \n",
       "50%     19.000000    5.0  \n",
       "75%     20.000000    5.0  \n",
       "max     21.000000    5.0  "
      ]
     },
     "execution_count": 111,
     "metadata": {},
     "output_type": "execute_result"
    }
   ],
   "source": [
    "clean.describe()"
   ]
  },
  {
   "cell_type": "code",
   "execution_count": 112,
   "metadata": {},
   "outputs": [
    {
     "data": {
      "text/plain": [
       "Index(['street', 'city', 'zip', 'state', 'beds', 'baths', 'sq__ft', 'type',\n",
       "       'sale_date', 'price', 'day', 'month'],\n",
       "      dtype='object')"
      ]
     },
     "execution_count": 112,
     "metadata": {},
     "output_type": "execute_result"
    }
   ],
   "source": [
    "clean.columns"
   ]
  },
  {
   "cell_type": "code",
   "execution_count": 113,
   "metadata": {},
   "outputs": [
    {
     "data": {
      "text/plain": [
       "Index(['sq__ft', 'beds', 'baths', 'type_Condo', 'type_Multi-Family',\n",
       "       'type_Residential', 'city_ANTELOPE', 'city_AUBURN', 'city_CAMERON PARK',\n",
       "       'city_CARMICHAEL', 'city_CITRUS HEIGHTS', 'city_COOL',\n",
       "       'city_DIAMOND SPRINGS', 'city_EL DORADO', 'city_EL DORADO HILLS',\n",
       "       'city_ELK GROVE', 'city_ELVERTA', 'city_FAIR OAKS', 'city_FOLSOM',\n",
       "       'city_GALT', 'city_GOLD RIVER', 'city_GRANITE BAY', 'city_GREENWOOD',\n",
       "       'city_LINCOLN', 'city_LOOMIS', 'city_MATHER', 'city_MEADOW VISTA',\n",
       "       'city_NORTH HIGHLANDS', 'city_ORANGEVALE', 'city_PENRYN',\n",
       "       'city_PLACERVILLE', 'city_POLLOCK PINES', 'city_RANCHO CORDOVA',\n",
       "       'city_RANCHO MURIETA', 'city_RIO LINDA', 'city_ROCKLIN',\n",
       "       'city_ROSEVILLE', 'city_SACRAMENTO', 'city_WALNUT GROVE',\n",
       "       'city_WEST SACRAMENTO', 'city_WILTON'],\n",
       "      dtype='object')"
      ]
     },
     "execution_count": 113,
     "metadata": {},
     "output_type": "execute_result"
    }
   ],
   "source": [
    "X2.columns"
   ]
  },
  {
   "cell_type": "code",
   "execution_count": 114,
   "metadata": {},
   "outputs": [
    {
     "data": {
      "text/html": [
       "<table class=\"simpletable\">\n",
       "<caption>OLS Regression Results</caption>\n",
       "<tr>\n",
       "  <th>Dep. Variable:</th>          <td>price</td>      <th>  R-squared:         </th> <td>   0.484</td> \n",
       "</tr>\n",
       "<tr>\n",
       "  <th>Model:</th>                   <td>OLS</td>       <th>  Adj. R-squared:    </th> <td>   0.482</td> \n",
       "</tr>\n",
       "<tr>\n",
       "  <th>Method:</th>             <td>Least Squares</td>  <th>  F-statistic:       </th> <td>   252.5</td> \n",
       "</tr>\n",
       "<tr>\n",
       "  <th>Date:</th>             <td>Sun, 18 Sep 2022</td> <th>  Prob (F-statistic):</th> <td>1.46e-115</td>\n",
       "</tr>\n",
       "<tr>\n",
       "  <th>Time:</th>                 <td>23:07:56</td>     <th>  Log-Likelihood:    </th> <td> -10378.</td> \n",
       "</tr>\n",
       "<tr>\n",
       "  <th>No. Observations:</th>      <td>   812</td>      <th>  AIC:               </th> <td>2.076e+04</td>\n",
       "</tr>\n",
       "<tr>\n",
       "  <th>Df Residuals:</th>          <td>   808</td>      <th>  BIC:               </th> <td>2.078e+04</td>\n",
       "</tr>\n",
       "<tr>\n",
       "  <th>Df Model:</th>              <td>     3</td>      <th>                     </th>     <td> </td>    \n",
       "</tr>\n",
       "<tr>\n",
       "  <th>Covariance Type:</th>      <td>nonrobust</td>    <th>                     </th>     <td> </td>    \n",
       "</tr>\n",
       "</table>\n",
       "<table class=\"simpletable\">\n",
       "<tr>\n",
       "     <td></td>       <th>coef</th>     <th>std err</th>      <th>t</th>      <th>P>|t|</th>  <th>[0.025</th>    <th>0.975]</th>  \n",
       "</tr>\n",
       "<tr>\n",
       "  <th>const</th>  <td> 4.925e+04</td> <td> 1.23e+04</td> <td>    4.017</td> <td> 0.000</td> <td> 2.52e+04</td> <td> 7.33e+04</td>\n",
       "</tr>\n",
       "<tr>\n",
       "  <th>sq__ft</th> <td>  132.6894</td> <td>    7.312</td> <td>   18.148</td> <td> 0.000</td> <td>  118.338</td> <td>  147.041</td>\n",
       "</tr>\n",
       "<tr>\n",
       "  <th>beds</th>   <td>-1.219e+04</td> <td> 5196.924</td> <td>   -2.345</td> <td> 0.019</td> <td>-2.24e+04</td> <td>-1984.634</td>\n",
       "</tr>\n",
       "<tr>\n",
       "  <th>baths</th>  <td> 4440.9968</td> <td> 6880.589</td> <td>    0.645</td> <td> 0.519</td> <td>-9064.941</td> <td> 1.79e+04</td>\n",
       "</tr>\n",
       "</table>\n",
       "<table class=\"simpletable\">\n",
       "<tr>\n",
       "  <th>Omnibus:</th>       <td>214.388</td> <th>  Durbin-Watson:     </th> <td>   1.145</td>\n",
       "</tr>\n",
       "<tr>\n",
       "  <th>Prob(Omnibus):</th> <td> 0.000</td>  <th>  Jarque-Bera (JB):  </th> <td>6483.120</td>\n",
       "</tr>\n",
       "<tr>\n",
       "  <th>Skew:</th>          <td> 0.512</td>  <th>  Prob(JB):          </th> <td>    0.00</td>\n",
       "</tr>\n",
       "<tr>\n",
       "  <th>Kurtosis:</th>      <td>16.805</td>  <th>  Cond. No.          </th> <td>7.31e+03</td>\n",
       "</tr>\n",
       "</table><br/><br/>Notes:<br/>[1] Standard Errors assume that the covariance matrix of the errors is correctly specified.<br/>[2] The condition number is large, 7.31e+03. This might indicate that there are<br/>strong multicollinearity or other numerical problems."
      ],
      "text/plain": [
       "<class 'statsmodels.iolib.summary.Summary'>\n",
       "\"\"\"\n",
       "                            OLS Regression Results                            \n",
       "==============================================================================\n",
       "Dep. Variable:                  price   R-squared:                       0.484\n",
       "Model:                            OLS   Adj. R-squared:                  0.482\n",
       "Method:                 Least Squares   F-statistic:                     252.5\n",
       "Date:                Sun, 18 Sep 2022   Prob (F-statistic):          1.46e-115\n",
       "Time:                        23:07:56   Log-Likelihood:                -10378.\n",
       "No. Observations:                 812   AIC:                         2.076e+04\n",
       "Df Residuals:                     808   BIC:                         2.078e+04\n",
       "Df Model:                           3                                         \n",
       "Covariance Type:            nonrobust                                         \n",
       "==============================================================================\n",
       "                 coef    std err          t      P>|t|      [0.025      0.975]\n",
       "------------------------------------------------------------------------------\n",
       "const       4.925e+04   1.23e+04      4.017      0.000    2.52e+04    7.33e+04\n",
       "sq__ft       132.6894      7.312     18.148      0.000     118.338     147.041\n",
       "beds       -1.219e+04   5196.924     -2.345      0.019   -2.24e+04   -1984.634\n",
       "baths       4440.9968   6880.589      0.645      0.519   -9064.941    1.79e+04\n",
       "==============================================================================\n",
       "Omnibus:                      214.388   Durbin-Watson:                   1.145\n",
       "Prob(Omnibus):                  0.000   Jarque-Bera (JB):             6483.120\n",
       "Skew:                           0.512   Prob(JB):                         0.00\n",
       "Kurtosis:                      16.805   Cond. No.                     7.31e+03\n",
       "==============================================================================\n",
       "\n",
       "Notes:\n",
       "[1] Standard Errors assume that the covariance matrix of the errors is correctly specified.\n",
       "[2] The condition number is large, 7.31e+03. This might indicate that there are\n",
       "strong multicollinearity or other numerical problems.\n",
       "\"\"\""
      ]
     },
     "execution_count": 114,
     "metadata": {},
     "output_type": "execute_result"
    }
   ],
   "source": [
    "# Drop Type\n",
    "X_vars = clean[['sq__ft', 'beds', 'baths']]\n",
    "X_vars = sm.add_constant(X_vars)\n",
    "y = clean['price']\n",
    "dummy = pd.get_dummies(X_vars, drop_first=True)\n",
    "ols2 = sm.OLS(y, dummy).fit()\n",
    "ols2.summary()"
   ]
  },
  {
   "cell_type": "code",
   "execution_count": 115,
   "metadata": {},
   "outputs": [
    {
     "data": {
      "text/html": [
       "<div>\n",
       "<style scoped>\n",
       "    .dataframe tbody tr th:only-of-type {\n",
       "        vertical-align: middle;\n",
       "    }\n",
       "\n",
       "    .dataframe tbody tr th {\n",
       "        vertical-align: top;\n",
       "    }\n",
       "\n",
       "    .dataframe thead th {\n",
       "        text-align: right;\n",
       "    }\n",
       "</style>\n",
       "<table border=\"1\" class=\"dataframe\">\n",
       "  <thead>\n",
       "    <tr style=\"text-align: right;\">\n",
       "      <th></th>\n",
       "      <th>street</th>\n",
       "      <th>city</th>\n",
       "      <th>zip</th>\n",
       "      <th>state</th>\n",
       "      <th>beds</th>\n",
       "      <th>baths</th>\n",
       "      <th>sq__ft</th>\n",
       "      <th>type</th>\n",
       "      <th>sale_date</th>\n",
       "      <th>price</th>\n",
       "      <th>day</th>\n",
       "      <th>month</th>\n",
       "    </tr>\n",
       "  </thead>\n",
       "  <tbody>\n",
       "    <tr>\n",
       "      <th>0</th>\n",
       "      <td>3526 HIGH ST</td>\n",
       "      <td>SACRAMENTO</td>\n",
       "      <td>95838</td>\n",
       "      <td>CA</td>\n",
       "      <td>2</td>\n",
       "      <td>1</td>\n",
       "      <td>836</td>\n",
       "      <td>Residential</td>\n",
       "      <td>2008-05-21</td>\n",
       "      <td>59222</td>\n",
       "      <td>21</td>\n",
       "      <td>5</td>\n",
       "    </tr>\n",
       "    <tr>\n",
       "      <th>1</th>\n",
       "      <td>51 OMAHA CT</td>\n",
       "      <td>SACRAMENTO</td>\n",
       "      <td>95823</td>\n",
       "      <td>CA</td>\n",
       "      <td>3</td>\n",
       "      <td>1</td>\n",
       "      <td>1167</td>\n",
       "      <td>Residential</td>\n",
       "      <td>2008-05-21</td>\n",
       "      <td>68212</td>\n",
       "      <td>21</td>\n",
       "      <td>5</td>\n",
       "    </tr>\n",
       "    <tr>\n",
       "      <th>2</th>\n",
       "      <td>2796 BRANCH ST</td>\n",
       "      <td>SACRAMENTO</td>\n",
       "      <td>95815</td>\n",
       "      <td>CA</td>\n",
       "      <td>2</td>\n",
       "      <td>1</td>\n",
       "      <td>796</td>\n",
       "      <td>Residential</td>\n",
       "      <td>2008-05-21</td>\n",
       "      <td>68880</td>\n",
       "      <td>21</td>\n",
       "      <td>5</td>\n",
       "    </tr>\n",
       "    <tr>\n",
       "      <th>3</th>\n",
       "      <td>2805 JANETTE WAY</td>\n",
       "      <td>SACRAMENTO</td>\n",
       "      <td>95815</td>\n",
       "      <td>CA</td>\n",
       "      <td>2</td>\n",
       "      <td>1</td>\n",
       "      <td>852</td>\n",
       "      <td>Residential</td>\n",
       "      <td>2008-05-21</td>\n",
       "      <td>69307</td>\n",
       "      <td>21</td>\n",
       "      <td>5</td>\n",
       "    </tr>\n",
       "    <tr>\n",
       "      <th>4</th>\n",
       "      <td>6001 MCMAHON DR</td>\n",
       "      <td>SACRAMENTO</td>\n",
       "      <td>95824</td>\n",
       "      <td>CA</td>\n",
       "      <td>2</td>\n",
       "      <td>1</td>\n",
       "      <td>797</td>\n",
       "      <td>Residential</td>\n",
       "      <td>2008-05-21</td>\n",
       "      <td>81900</td>\n",
       "      <td>21</td>\n",
       "      <td>5</td>\n",
       "    </tr>\n",
       "    <tr>\n",
       "      <th>...</th>\n",
       "      <td>...</td>\n",
       "      <td>...</td>\n",
       "      <td>...</td>\n",
       "      <td>...</td>\n",
       "      <td>...</td>\n",
       "      <td>...</td>\n",
       "      <td>...</td>\n",
       "      <td>...</td>\n",
       "      <td>...</td>\n",
       "      <td>...</td>\n",
       "      <td>...</td>\n",
       "      <td>...</td>\n",
       "    </tr>\n",
       "    <tr>\n",
       "      <th>807</th>\n",
       "      <td>9169 GARLINGTON CT</td>\n",
       "      <td>SACRAMENTO</td>\n",
       "      <td>95829</td>\n",
       "      <td>CA</td>\n",
       "      <td>4</td>\n",
       "      <td>3</td>\n",
       "      <td>2280</td>\n",
       "      <td>Residential</td>\n",
       "      <td>2008-05-15</td>\n",
       "      <td>232425</td>\n",
       "      <td>15</td>\n",
       "      <td>5</td>\n",
       "    </tr>\n",
       "    <tr>\n",
       "      <th>808</th>\n",
       "      <td>6932 RUSKUT WAY</td>\n",
       "      <td>SACRAMENTO</td>\n",
       "      <td>95823</td>\n",
       "      <td>CA</td>\n",
       "      <td>3</td>\n",
       "      <td>2</td>\n",
       "      <td>1477</td>\n",
       "      <td>Residential</td>\n",
       "      <td>2008-05-15</td>\n",
       "      <td>234000</td>\n",
       "      <td>15</td>\n",
       "      <td>5</td>\n",
       "    </tr>\n",
       "    <tr>\n",
       "      <th>809</th>\n",
       "      <td>7933 DAFFODIL WAY</td>\n",
       "      <td>CITRUS HEIGHTS</td>\n",
       "      <td>95610</td>\n",
       "      <td>CA</td>\n",
       "      <td>3</td>\n",
       "      <td>2</td>\n",
       "      <td>1216</td>\n",
       "      <td>Residential</td>\n",
       "      <td>2008-05-15</td>\n",
       "      <td>235000</td>\n",
       "      <td>15</td>\n",
       "      <td>5</td>\n",
       "    </tr>\n",
       "    <tr>\n",
       "      <th>810</th>\n",
       "      <td>8304 RED FOX WAY</td>\n",
       "      <td>ELK GROVE</td>\n",
       "      <td>95758</td>\n",
       "      <td>CA</td>\n",
       "      <td>4</td>\n",
       "      <td>2</td>\n",
       "      <td>1685</td>\n",
       "      <td>Residential</td>\n",
       "      <td>2008-05-15</td>\n",
       "      <td>235301</td>\n",
       "      <td>15</td>\n",
       "      <td>5</td>\n",
       "    </tr>\n",
       "    <tr>\n",
       "      <th>811</th>\n",
       "      <td>3882 YELLOWSTONE LN</td>\n",
       "      <td>EL DORADO HILLS</td>\n",
       "      <td>95762</td>\n",
       "      <td>CA</td>\n",
       "      <td>3</td>\n",
       "      <td>2</td>\n",
       "      <td>1362</td>\n",
       "      <td>Residential</td>\n",
       "      <td>2008-05-15</td>\n",
       "      <td>235738</td>\n",
       "      <td>15</td>\n",
       "      <td>5</td>\n",
       "    </tr>\n",
       "  </tbody>\n",
       "</table>\n",
       "<p>812 rows × 12 columns</p>\n",
       "</div>"
      ],
      "text/plain": [
       "                  street             city    zip state  beds  baths  sq__ft  \\\n",
       "0           3526 HIGH ST       SACRAMENTO  95838    CA     2      1     836   \n",
       "1            51 OMAHA CT       SACRAMENTO  95823    CA     3      1    1167   \n",
       "2         2796 BRANCH ST       SACRAMENTO  95815    CA     2      1     796   \n",
       "3       2805 JANETTE WAY       SACRAMENTO  95815    CA     2      1     852   \n",
       "4        6001 MCMAHON DR       SACRAMENTO  95824    CA     2      1     797   \n",
       "..                   ...              ...    ...   ...   ...    ...     ...   \n",
       "807   9169 GARLINGTON CT       SACRAMENTO  95829    CA     4      3    2280   \n",
       "808      6932 RUSKUT WAY       SACRAMENTO  95823    CA     3      2    1477   \n",
       "809    7933 DAFFODIL WAY   CITRUS HEIGHTS  95610    CA     3      2    1216   \n",
       "810     8304 RED FOX WAY        ELK GROVE  95758    CA     4      2    1685   \n",
       "811  3882 YELLOWSTONE LN  EL DORADO HILLS  95762    CA     3      2    1362   \n",
       "\n",
       "            type  sale_date   price  day  month  \n",
       "0    Residential 2008-05-21   59222   21      5  \n",
       "1    Residential 2008-05-21   68212   21      5  \n",
       "2    Residential 2008-05-21   68880   21      5  \n",
       "3    Residential 2008-05-21   69307   21      5  \n",
       "4    Residential 2008-05-21   81900   21      5  \n",
       "..           ...        ...     ...  ...    ...  \n",
       "807  Residential 2008-05-15  232425   15      5  \n",
       "808  Residential 2008-05-15  234000   15      5  \n",
       "809  Residential 2008-05-15  235000   15      5  \n",
       "810  Residential 2008-05-15  235301   15      5  \n",
       "811  Residential 2008-05-15  235738   15      5  \n",
       "\n",
       "[812 rows x 12 columns]"
      ]
     },
     "execution_count": 115,
     "metadata": {},
     "output_type": "execute_result"
    }
   ],
   "source": [
    "clean\n"
   ]
  },
  {
   "cell_type": "code",
   "execution_count": 116,
   "metadata": {},
   "outputs": [],
   "source": [
    "# Remove price outliers\n",
    "upperlimit = clean[\"price\"].mean() + 3*np.std(clean[\"price\"])\n",
    "remove = clean[clean[\"price\"]<upperlimit]\n",
    "\n",
    "# Remove sq outliers\n",
    "upperlimit2 = clean[\"sq__ft\"].mean() + 3*np.std(clean[\"sq__ft\"])\n",
    "remove = remove[remove[\"sq__ft\"]<upperlimit2]"
   ]
  },
  {
   "cell_type": "code",
   "execution_count": 117,
   "metadata": {},
   "outputs": [
    {
     "data": {
      "text/html": [
       "<div>\n",
       "<style scoped>\n",
       "    .dataframe tbody tr th:only-of-type {\n",
       "        vertical-align: middle;\n",
       "    }\n",
       "\n",
       "    .dataframe tbody tr th {\n",
       "        vertical-align: top;\n",
       "    }\n",
       "\n",
       "    .dataframe thead th {\n",
       "        text-align: right;\n",
       "    }\n",
       "</style>\n",
       "<table border=\"1\" class=\"dataframe\">\n",
       "  <thead>\n",
       "    <tr style=\"text-align: right;\">\n",
       "      <th></th>\n",
       "      <th>zip</th>\n",
       "      <th>beds</th>\n",
       "      <th>baths</th>\n",
       "      <th>sq__ft</th>\n",
       "      <th>price</th>\n",
       "      <th>day</th>\n",
       "      <th>month</th>\n",
       "    </tr>\n",
       "  </thead>\n",
       "  <tbody>\n",
       "    <tr>\n",
       "      <th>count</th>\n",
       "      <td>786.000000</td>\n",
       "      <td>786.000000</td>\n",
       "      <td>786.000000</td>\n",
       "      <td>786.000000</td>\n",
       "      <td>786.000000</td>\n",
       "      <td>786.000000</td>\n",
       "      <td>786.0</td>\n",
       "    </tr>\n",
       "    <tr>\n",
       "      <th>mean</th>\n",
       "      <td>95762.590331</td>\n",
       "      <td>3.201018</td>\n",
       "      <td>1.921120</td>\n",
       "      <td>1530.314249</td>\n",
       "      <td>218499.337150</td>\n",
       "      <td>18.176845</td>\n",
       "      <td>5.0</td>\n",
       "    </tr>\n",
       "    <tr>\n",
       "      <th>std</th>\n",
       "      <td>85.264191</td>\n",
       "      <td>0.810944</td>\n",
       "      <td>0.629538</td>\n",
       "      <td>556.765005</td>\n",
       "      <td>99143.992062</td>\n",
       "      <td>2.204922</td>\n",
       "      <td>0.0</td>\n",
       "    </tr>\n",
       "    <tr>\n",
       "      <th>min</th>\n",
       "      <td>95603.000000</td>\n",
       "      <td>1.000000</td>\n",
       "      <td>1.000000</td>\n",
       "      <td>484.000000</td>\n",
       "      <td>30000.000000</td>\n",
       "      <td>15.000000</td>\n",
       "      <td>5.0</td>\n",
       "    </tr>\n",
       "    <tr>\n",
       "      <th>25%</th>\n",
       "      <td>95670.000000</td>\n",
       "      <td>3.000000</td>\n",
       "      <td>2.000000</td>\n",
       "      <td>1139.000000</td>\n",
       "      <td>146437.500000</td>\n",
       "      <td>16.000000</td>\n",
       "      <td>5.0</td>\n",
       "    </tr>\n",
       "    <tr>\n",
       "      <th>50%</th>\n",
       "      <td>95820.000000</td>\n",
       "      <td>3.000000</td>\n",
       "      <td>2.000000</td>\n",
       "      <td>1406.500000</td>\n",
       "      <td>205000.000000</td>\n",
       "      <td>19.000000</td>\n",
       "      <td>5.0</td>\n",
       "    </tr>\n",
       "    <tr>\n",
       "      <th>75%</th>\n",
       "      <td>95828.750000</td>\n",
       "      <td>4.000000</td>\n",
       "      <td>2.000000</td>\n",
       "      <td>1799.750000</td>\n",
       "      <td>275000.000000</td>\n",
       "      <td>20.000000</td>\n",
       "      <td>5.0</td>\n",
       "    </tr>\n",
       "    <tr>\n",
       "      <th>max</th>\n",
       "      <td>95864.000000</td>\n",
       "      <td>6.000000</td>\n",
       "      <td>4.000000</td>\n",
       "      <td>3516.000000</td>\n",
       "      <td>582000.000000</td>\n",
       "      <td>21.000000</td>\n",
       "      <td>5.0</td>\n",
       "    </tr>\n",
       "  </tbody>\n",
       "</table>\n",
       "</div>"
      ],
      "text/plain": [
       "                zip        beds       baths       sq__ft          price  \\\n",
       "count    786.000000  786.000000  786.000000   786.000000     786.000000   \n",
       "mean   95762.590331    3.201018    1.921120  1530.314249  218499.337150   \n",
       "std       85.264191    0.810944    0.629538   556.765005   99143.992062   \n",
       "min    95603.000000    1.000000    1.000000   484.000000   30000.000000   \n",
       "25%    95670.000000    3.000000    2.000000  1139.000000  146437.500000   \n",
       "50%    95820.000000    3.000000    2.000000  1406.500000  205000.000000   \n",
       "75%    95828.750000    4.000000    2.000000  1799.750000  275000.000000   \n",
       "max    95864.000000    6.000000    4.000000  3516.000000  582000.000000   \n",
       "\n",
       "              day  month  \n",
       "count  786.000000  786.0  \n",
       "mean    18.176845    5.0  \n",
       "std      2.204922    0.0  \n",
       "min     15.000000    5.0  \n",
       "25%     16.000000    5.0  \n",
       "50%     19.000000    5.0  \n",
       "75%     20.000000    5.0  \n",
       "max     21.000000    5.0  "
      ]
     },
     "execution_count": 117,
     "metadata": {},
     "output_type": "execute_result"
    }
   ],
   "source": [
    "remove.describe()"
   ]
  },
  {
   "cell_type": "code",
   "execution_count": 118,
   "metadata": {},
   "outputs": [
    {
     "data": {
      "image/png": "[encoded data removed]",
      "text/plain": [
       "<Figure size 360x360 with 1 Axes>"
      ]
     },
     "metadata": {
      "needs_background": "light"
     },
     "output_type": "display_data"
    }
   ],
   "source": [
    "sns.lmplot(x = \"sq__ft\", y = \"price\", data = remove);"
   ]
  },
  {
   "cell_type": "code",
   "execution_count": 119,
   "metadata": {},
   "outputs": [
    {
     "data": {
      "text/html": [
       "<div>\n",
       "<style scoped>\n",
       "    .dataframe tbody tr th:only-of-type {\n",
       "        vertical-align: middle;\n",
       "    }\n",
       "\n",
       "    .dataframe tbody tr th {\n",
       "        vertical-align: top;\n",
       "    }\n",
       "\n",
       "    .dataframe thead th {\n",
       "        text-align: right;\n",
       "    }\n",
       "</style>\n",
       "<table border=\"1\" class=\"dataframe\">\n",
       "  <thead>\n",
       "    <tr style=\"text-align: right;\">\n",
       "      <th></th>\n",
       "      <th>zip</th>\n",
       "      <th>beds</th>\n",
       "      <th>baths</th>\n",
       "      <th>sq__ft</th>\n",
       "      <th>price</th>\n",
       "      <th>day</th>\n",
       "      <th>month</th>\n",
       "    </tr>\n",
       "  </thead>\n",
       "  <tbody>\n",
       "    <tr>\n",
       "      <th>count</th>\n",
       "      <td>786.000000</td>\n",
       "      <td>786.000000</td>\n",
       "      <td>786.000000</td>\n",
       "      <td>786.000000</td>\n",
       "      <td>786.000000</td>\n",
       "      <td>786.000000</td>\n",
       "      <td>786.0</td>\n",
       "    </tr>\n",
       "    <tr>\n",
       "      <th>mean</th>\n",
       "      <td>95762.590331</td>\n",
       "      <td>3.201018</td>\n",
       "      <td>1.921120</td>\n",
       "      <td>1530.314249</td>\n",
       "      <td>218499.337150</td>\n",
       "      <td>18.176845</td>\n",
       "      <td>5.0</td>\n",
       "    </tr>\n",
       "    <tr>\n",
       "      <th>std</th>\n",
       "      <td>85.264191</td>\n",
       "      <td>0.810944</td>\n",
       "      <td>0.629538</td>\n",
       "      <td>556.765005</td>\n",
       "      <td>99143.992062</td>\n",
       "      <td>2.204922</td>\n",
       "      <td>0.0</td>\n",
       "    </tr>\n",
       "    <tr>\n",
       "      <th>min</th>\n",
       "      <td>95603.000000</td>\n",
       "      <td>1.000000</td>\n",
       "      <td>1.000000</td>\n",
       "      <td>484.000000</td>\n",
       "      <td>30000.000000</td>\n",
       "      <td>15.000000</td>\n",
       "      <td>5.0</td>\n",
       "    </tr>\n",
       "    <tr>\n",
       "      <th>25%</th>\n",
       "      <td>95670.000000</td>\n",
       "      <td>3.000000</td>\n",
       "      <td>2.000000</td>\n",
       "      <td>1139.000000</td>\n",
       "      <td>146437.500000</td>\n",
       "      <td>16.000000</td>\n",
       "      <td>5.0</td>\n",
       "    </tr>\n",
       "    <tr>\n",
       "      <th>50%</th>\n",
       "      <td>95820.000000</td>\n",
       "      <td>3.000000</td>\n",
       "      <td>2.000000</td>\n",
       "      <td>1406.500000</td>\n",
       "      <td>205000.000000</td>\n",
       "      <td>19.000000</td>\n",
       "      <td>5.0</td>\n",
       "    </tr>\n",
       "    <tr>\n",
       "      <th>75%</th>\n",
       "      <td>95828.750000</td>\n",
       "      <td>4.000000</td>\n",
       "      <td>2.000000</td>\n",
       "      <td>1799.750000</td>\n",
       "      <td>275000.000000</td>\n",
       "      <td>20.000000</td>\n",
       "      <td>5.0</td>\n",
       "    </tr>\n",
       "    <tr>\n",
       "      <th>max</th>\n",
       "      <td>95864.000000</td>\n",
       "      <td>6.000000</td>\n",
       "      <td>4.000000</td>\n",
       "      <td>3516.000000</td>\n",
       "      <td>582000.000000</td>\n",
       "      <td>21.000000</td>\n",
       "      <td>5.0</td>\n",
       "    </tr>\n",
       "  </tbody>\n",
       "</table>\n",
       "</div>"
      ],
      "text/plain": [
       "                zip        beds       baths       sq__ft          price  \\\n",
       "count    786.000000  786.000000  786.000000   786.000000     786.000000   \n",
       "mean   95762.590331    3.201018    1.921120  1530.314249  218499.337150   \n",
       "std       85.264191    0.810944    0.629538   556.765005   99143.992062   \n",
       "min    95603.000000    1.000000    1.000000   484.000000   30000.000000   \n",
       "25%    95670.000000    3.000000    2.000000  1139.000000  146437.500000   \n",
       "50%    95820.000000    3.000000    2.000000  1406.500000  205000.000000   \n",
       "75%    95828.750000    4.000000    2.000000  1799.750000  275000.000000   \n",
       "max    95864.000000    6.000000    4.000000  3516.000000  582000.000000   \n",
       "\n",
       "              day  month  \n",
       "count  786.000000  786.0  \n",
       "mean    18.176845    5.0  \n",
       "std      2.204922    0.0  \n",
       "min     15.000000    5.0  \n",
       "25%     16.000000    5.0  \n",
       "50%     19.000000    5.0  \n",
       "75%     20.000000    5.0  \n",
       "max     21.000000    5.0  "
      ]
     },
     "execution_count": 119,
     "metadata": {},
     "output_type": "execute_result"
    }
   ],
   "source": [
    "remove.describe()"
   ]
  },
  {
   "cell_type": "code",
   "execution_count": 120,
   "metadata": {},
   "outputs": [
    {
     "data": {
      "text/html": [
       "<table class=\"simpletable\">\n",
       "<caption>OLS Regression Results</caption>\n",
       "<tr>\n",
       "  <th>Dep. Variable:</th>          <td>price</td>      <th>  R-squared:         </th> <td>   0.602</td> \n",
       "</tr>\n",
       "<tr>\n",
       "  <th>Model:</th>                   <td>OLS</td>       <th>  Adj. R-squared:    </th> <td>   0.582</td> \n",
       "</tr>\n",
       "<tr>\n",
       "  <th>Method:</th>             <td>Least Squares</td>  <th>  F-statistic:       </th> <td>   29.76</td> \n",
       "</tr>\n",
       "<tr>\n",
       "  <th>Date:</th>             <td>Sun, 18 Sep 2022</td> <th>  Prob (F-statistic):</th> <td>1.68e-123</td>\n",
       "</tr>\n",
       "<tr>\n",
       "  <th>Time:</th>                 <td>23:07:56</td>     <th>  Log-Likelihood:    </th> <td> -9794.9</td> \n",
       "</tr>\n",
       "<tr>\n",
       "  <th>No. Observations:</th>      <td>   786</td>      <th>  AIC:               </th> <td>1.967e+04</td>\n",
       "</tr>\n",
       "<tr>\n",
       "  <th>Df Residuals:</th>          <td>   747</td>      <th>  BIC:               </th> <td>1.985e+04</td>\n",
       "</tr>\n",
       "<tr>\n",
       "  <th>Df Model:</th>              <td>    38</td>      <th>                     </th>     <td> </td>    \n",
       "</tr>\n",
       "<tr>\n",
       "  <th>Covariance Type:</th>      <td>nonrobust</td>    <th>                     </th>     <td> </td>    \n",
       "</tr>\n",
       "</table>\n",
       "<table class=\"simpletable\">\n",
       "<tr>\n",
       "            <td></td>              <th>coef</th>     <th>std err</th>      <th>t</th>      <th>P>|t|</th>  <th>[0.025</th>    <th>0.975]</th>  \n",
       "</tr>\n",
       "<tr>\n",
       "  <th>const</th>                <td> 3.699e+04</td> <td> 1.69e+04</td> <td>    2.195</td> <td> 0.028</td> <td> 3904.429</td> <td> 7.01e+04</td>\n",
       "</tr>\n",
       "<tr>\n",
       "  <th>sq__ft</th>               <td>  131.9099</td> <td>    7.320</td> <td>   18.019</td> <td> 0.000</td> <td>  117.539</td> <td>  146.281</td>\n",
       "</tr>\n",
       "<tr>\n",
       "  <th>beds</th>                 <td>-1.926e+04</td> <td> 4495.561</td> <td>   -4.284</td> <td> 0.000</td> <td>-2.81e+04</td> <td>-1.04e+04</td>\n",
       "</tr>\n",
       "<tr>\n",
       "  <th>baths</th>                <td>-3533.8564</td> <td> 5637.227</td> <td>   -0.627</td> <td> 0.531</td> <td>-1.46e+04</td> <td> 7532.837</td>\n",
       "</tr>\n",
       "<tr>\n",
       "  <th>type_Multi-Family</th>    <td> 1.552e+04</td> <td> 2.27e+04</td> <td>    0.683</td> <td> 0.495</td> <td>-2.91e+04</td> <td> 6.01e+04</td>\n",
       "</tr>\n",
       "<tr>\n",
       "  <th>type_Residential</th>     <td> 4.296e+04</td> <td> 1.12e+04</td> <td>    3.850</td> <td> 0.000</td> <td> 2.11e+04</td> <td> 6.49e+04</td>\n",
       "</tr>\n",
       "<tr>\n",
       "  <th>city_AUBURN</th>          <td> 1.274e+05</td> <td> 3.94e+04</td> <td>    3.234</td> <td> 0.001</td> <td> 5.01e+04</td> <td> 2.05e+05</td>\n",
       "</tr>\n",
       "<tr>\n",
       "  <th>city_CAMERON PARK</th>    <td>  1.18e+05</td> <td> 6.52e+04</td> <td>    1.810</td> <td> 0.071</td> <td>-9994.315</td> <td> 2.46e+05</td>\n",
       "</tr>\n",
       "<tr>\n",
       "  <th>city_CARMICHAEL</th>      <td> 7.465e+04</td> <td> 1.86e+04</td> <td>    4.021</td> <td> 0.000</td> <td> 3.82e+04</td> <td> 1.11e+05</td>\n",
       "</tr>\n",
       "<tr>\n",
       "  <th>city_CITRUS HEIGHTS</th>  <td> 6836.1840</td> <td> 1.58e+04</td> <td>    0.432</td> <td> 0.666</td> <td>-2.43e+04</td> <td> 3.79e+04</td>\n",
       "</tr>\n",
       "<tr>\n",
       "  <th>city_COOL</th>            <td>  9.27e+04</td> <td> 6.51e+04</td> <td>    1.424</td> <td> 0.155</td> <td>-3.51e+04</td> <td>  2.2e+05</td>\n",
       "</tr>\n",
       "<tr>\n",
       "  <th>city_DIAMOND SPRINGS</th> <td> 2.944e+04</td> <td> 6.51e+04</td> <td>    0.452</td> <td> 0.651</td> <td>-9.84e+04</td> <td> 1.57e+05</td>\n",
       "</tr>\n",
       "<tr>\n",
       "  <th>city_EL DORADO</th>       <td> 4.479e+04</td> <td> 4.68e+04</td> <td>    0.957</td> <td> 0.339</td> <td>-4.71e+04</td> <td> 1.37e+05</td>\n",
       "</tr>\n",
       "<tr>\n",
       "  <th>city_EL DORADO HILLS</th> <td> 6.107e+04</td> <td> 3.87e+04</td> <td>    1.578</td> <td> 0.115</td> <td>-1.49e+04</td> <td> 1.37e+05</td>\n",
       "</tr>\n",
       "<tr>\n",
       "  <th>city_ELK GROVE</th>       <td> 1.129e+04</td> <td> 1.29e+04</td> <td>    0.878</td> <td> 0.380</td> <td>-1.39e+04</td> <td> 3.65e+04</td>\n",
       "</tr>\n",
       "<tr>\n",
       "  <th>city_ELVERTA</th>         <td> -4.12e+04</td> <td> 3.41e+04</td> <td>   -1.210</td> <td> 0.227</td> <td>-1.08e+05</td> <td> 2.57e+04</td>\n",
       "</tr>\n",
       "<tr>\n",
       "  <th>city_FAIR OAKS</th>       <td> 4.118e+04</td> <td> 2.54e+04</td> <td>    1.620</td> <td> 0.106</td> <td>-8714.768</td> <td> 9.11e+04</td>\n",
       "</tr>\n",
       "<tr>\n",
       "  <th>city_FOLSOM</th>          <td> 1.124e+05</td> <td> 2.06e+04</td> <td>    5.458</td> <td> 0.000</td> <td>  7.2e+04</td> <td> 1.53e+05</td>\n",
       "</tr>\n",
       "<tr>\n",
       "  <th>city_GALT</th>            <td> 1.254e+04</td> <td> 1.85e+04</td> <td>    0.677</td> <td> 0.499</td> <td>-2.38e+04</td> <td> 4.89e+04</td>\n",
       "</tr>\n",
       "<tr>\n",
       "  <th>city_GOLD RIVER</th>      <td> 7.475e+04</td> <td>  3.9e+04</td> <td>    1.918</td> <td> 0.055</td> <td>-1751.205</td> <td> 1.51e+05</td>\n",
       "</tr>\n",
       "<tr>\n",
       "  <th>city_GREENWOOD</th>       <td> 4474.9121</td> <td> 6.58e+04</td> <td>    0.068</td> <td> 0.946</td> <td>-1.25e+05</td> <td> 1.34e+05</td>\n",
       "</tr>\n",
       "<tr>\n",
       "  <th>city_LINCOLN</th>         <td>  3.97e+04</td> <td> 2.85e+04</td> <td>    1.395</td> <td> 0.164</td> <td>-1.62e+04</td> <td> 9.56e+04</td>\n",
       "</tr>\n",
       "<tr>\n",
       "  <th>city_LOOMIS</th>          <td>  1.24e+05</td> <td> 6.52e+04</td> <td>    1.900</td> <td> 0.058</td> <td>-4119.129</td> <td> 2.52e+05</td>\n",
       "</tr>\n",
       "<tr>\n",
       "  <th>city_MATHER</th>          <td> -5.34e+04</td> <td> 6.52e+04</td> <td>   -0.819</td> <td> 0.413</td> <td>-1.81e+05</td> <td> 7.46e+04</td>\n",
       "</tr>\n",
       "<tr>\n",
       "  <th>city_MEADOW VISTA</th>    <td> 5.095e+04</td> <td> 6.53e+04</td> <td>    0.780</td> <td> 0.435</td> <td>-7.72e+04</td> <td> 1.79e+05</td>\n",
       "</tr>\n",
       "<tr>\n",
       "  <th>city_NORTH HIGHLANDS</th> <td>-3.179e+04</td> <td> 1.82e+04</td> <td>   -1.748</td> <td> 0.081</td> <td>-6.75e+04</td> <td> 3920.742</td>\n",
       "</tr>\n",
       "<tr>\n",
       "  <th>city_ORANGEVALE</th>      <td> 5.375e+04</td> <td> 2.23e+04</td> <td>    2.405</td> <td> 0.016</td> <td> 9882.224</td> <td> 9.76e+04</td>\n",
       "</tr>\n",
       "<tr>\n",
       "  <th>city_PENRYN</th>          <td> 3.175e+05</td> <td> 6.51e+04</td> <td>    4.876</td> <td> 0.000</td> <td>  1.9e+05</td> <td> 4.45e+05</td>\n",
       "</tr>\n",
       "<tr>\n",
       "  <th>city_PLACERVILLE</th>     <td> 1.128e+05</td> <td>  3.4e+04</td> <td>    3.323</td> <td> 0.001</td> <td> 4.62e+04</td> <td> 1.79e+05</td>\n",
       "</tr>\n",
       "<tr>\n",
       "  <th>city_POLLOCK PINES</th>   <td> 4.242e+04</td> <td> 3.87e+04</td> <td>    1.095</td> <td> 0.274</td> <td>-3.36e+04</td> <td> 1.18e+05</td>\n",
       "</tr>\n",
       "<tr>\n",
       "  <th>city_RANCHO CORDOVA</th>  <td>-4417.3266</td> <td> 1.82e+04</td> <td>   -0.243</td> <td> 0.808</td> <td>-4.01e+04</td> <td> 3.13e+04</td>\n",
       "</tr>\n",
       "<tr>\n",
       "  <th>city_RANCHO MURIETA</th>  <td> 1.282e+04</td> <td> 4.72e+04</td> <td>    0.271</td> <td> 0.786</td> <td>-7.99e+04</td> <td> 1.06e+05</td>\n",
       "</tr>\n",
       "<tr>\n",
       "  <th>city_RIO LINDA</th>       <td> 6513.7840</td> <td> 2.18e+04</td> <td>    0.299</td> <td> 0.765</td> <td>-3.62e+04</td> <td> 4.93e+04</td>\n",
       "</tr>\n",
       "<tr>\n",
       "  <th>city_ROCKLIN</th>         <td> 8.251e+04</td> <td> 2.53e+04</td> <td>    3.261</td> <td> 0.001</td> <td> 3.28e+04</td> <td> 1.32e+05</td>\n",
       "</tr>\n",
       "<tr>\n",
       "  <th>city_ROSEVILLE</th>       <td>  4.78e+04</td> <td> 1.69e+04</td> <td>    2.833</td> <td> 0.005</td> <td> 1.47e+04</td> <td> 8.09e+04</td>\n",
       "</tr>\n",
       "<tr>\n",
       "  <th>city_SACRAMENTO</th>      <td>-7425.4293</td> <td> 1.17e+04</td> <td>   -0.632</td> <td> 0.528</td> <td>-3.05e+04</td> <td> 1.56e+04</td>\n",
       "</tr>\n",
       "<tr>\n",
       "  <th>city_WALNUT GROVE</th>    <td> 1.335e+05</td> <td> 6.54e+04</td> <td>    2.042</td> <td> 0.042</td> <td> 5130.367</td> <td> 2.62e+05</td>\n",
       "</tr>\n",
       "<tr>\n",
       "  <th>city_WEST SACRAMENTO</th> <td>-7509.5691</td> <td> 6.53e+04</td> <td>   -0.115</td> <td> 0.908</td> <td>-1.36e+05</td> <td> 1.21e+05</td>\n",
       "</tr>\n",
       "<tr>\n",
       "  <th>city_WILTON</th>          <td> 7.856e+04</td> <td> 6.52e+04</td> <td>    1.205</td> <td> 0.229</td> <td>-4.95e+04</td> <td> 2.07e+05</td>\n",
       "</tr>\n",
       "</table>\n",
       "<table class=\"simpletable\">\n",
       "<tr>\n",
       "  <th>Omnibus:</th>       <td>211.275</td> <th>  Durbin-Watson:     </th> <td>   1.275</td> \n",
       "</tr>\n",
       "<tr>\n",
       "  <th>Prob(Omnibus):</th> <td> 0.000</td>  <th>  Jarque-Bera (JB):  </th> <td> 691.771</td> \n",
       "</tr>\n",
       "<tr>\n",
       "  <th>Skew:</th>          <td> 1.278</td>  <th>  Prob(JB):          </th> <td>6.08e-151</td>\n",
       "</tr>\n",
       "<tr>\n",
       "  <th>Kurtosis:</th>      <td> 6.820</td>  <th>  Cond. No.          </th> <td>5.90e+04</td> \n",
       "</tr>\n",
       "</table><br/><br/>Notes:<br/>[1] Standard Errors assume that the covariance matrix of the errors is correctly specified.<br/>[2] The condition number is large, 5.9e+04. This might indicate that there are<br/>strong multicollinearity or other numerical problems."
      ],
      "text/plain": [
       "<class 'statsmodels.iolib.summary.Summary'>\n",
       "\"\"\"\n",
       "                            OLS Regression Results                            \n",
       "==============================================================================\n",
       "Dep. Variable:                  price   R-squared:                       0.602\n",
       "Model:                            OLS   Adj. R-squared:                  0.582\n",
       "Method:                 Least Squares   F-statistic:                     29.76\n",
       "Date:                Sun, 18 Sep 2022   Prob (F-statistic):          1.68e-123\n",
       "Time:                        23:07:56   Log-Likelihood:                -9794.9\n",
       "No. Observations:                 786   AIC:                         1.967e+04\n",
       "Df Residuals:                     747   BIC:                         1.985e+04\n",
       "Df Model:                          38                                         \n",
       "Covariance Type:            nonrobust                                         \n",
       "========================================================================================\n",
       "                           coef    std err          t      P>|t|      [0.025      0.975]\n",
       "----------------------------------------------------------------------------------------\n",
       "const                 3.699e+04   1.69e+04      2.195      0.028    3904.429    7.01e+04\n",
       "sq__ft                 131.9099      7.320     18.019      0.000     117.539     146.281\n",
       "beds                 -1.926e+04   4495.561     -4.284      0.000   -2.81e+04   -1.04e+04\n",
       "baths                -3533.8564   5637.227     -0.627      0.531   -1.46e+04    7532.837\n",
       "type_Multi-Family     1.552e+04   2.27e+04      0.683      0.495   -2.91e+04    6.01e+04\n",
       "type_Residential      4.296e+04   1.12e+04      3.850      0.000    2.11e+04    6.49e+04\n",
       "city_AUBURN           1.274e+05   3.94e+04      3.234      0.001    5.01e+04    2.05e+05\n",
       "city_CAMERON PARK      1.18e+05   6.52e+04      1.810      0.071   -9994.315    2.46e+05\n",
       "city_CARMICHAEL       7.465e+04   1.86e+04      4.021      0.000    3.82e+04    1.11e+05\n",
       "city_CITRUS HEIGHTS   6836.1840   1.58e+04      0.432      0.666   -2.43e+04    3.79e+04\n",
       "city_COOL              9.27e+04   6.51e+04      1.424      0.155   -3.51e+04     2.2e+05\n",
       "city_DIAMOND SPRINGS  2.944e+04   6.51e+04      0.452      0.651   -9.84e+04    1.57e+05\n",
       "city_EL DORADO        4.479e+04   4.68e+04      0.957      0.339   -4.71e+04    1.37e+05\n",
       "city_EL DORADO HILLS  6.107e+04   3.87e+04      1.578      0.115   -1.49e+04    1.37e+05\n",
       "city_ELK GROVE        1.129e+04   1.29e+04      0.878      0.380   -1.39e+04    3.65e+04\n",
       "city_ELVERTA          -4.12e+04   3.41e+04     -1.210      0.227   -1.08e+05    2.57e+04\n",
       "city_FAIR OAKS        4.118e+04   2.54e+04      1.620      0.106   -8714.768    9.11e+04\n",
       "city_FOLSOM           1.124e+05   2.06e+04      5.458      0.000     7.2e+04    1.53e+05\n",
       "city_GALT             1.254e+04   1.85e+04      0.677      0.499   -2.38e+04    4.89e+04\n",
       "city_GOLD RIVER       7.475e+04    3.9e+04      1.918      0.055   -1751.205    1.51e+05\n",
       "city_GREENWOOD        4474.9121   6.58e+04      0.068      0.946   -1.25e+05    1.34e+05\n",
       "city_LINCOLN           3.97e+04   2.85e+04      1.395      0.164   -1.62e+04    9.56e+04\n",
       "city_LOOMIS            1.24e+05   6.52e+04      1.900      0.058   -4119.129    2.52e+05\n",
       "city_MATHER           -5.34e+04   6.52e+04     -0.819      0.413   -1.81e+05    7.46e+04\n",
       "city_MEADOW VISTA     5.095e+04   6.53e+04      0.780      0.435   -7.72e+04    1.79e+05\n",
       "city_NORTH HIGHLANDS -3.179e+04   1.82e+04     -1.748      0.081   -6.75e+04    3920.742\n",
       "city_ORANGEVALE       5.375e+04   2.23e+04      2.405      0.016    9882.224    9.76e+04\n",
       "city_PENRYN           3.175e+05   6.51e+04      4.876      0.000     1.9e+05    4.45e+05\n",
       "city_PLACERVILLE      1.128e+05    3.4e+04      3.323      0.001    4.62e+04    1.79e+05\n",
       "city_POLLOCK PINES    4.242e+04   3.87e+04      1.095      0.274   -3.36e+04    1.18e+05\n",
       "city_RANCHO CORDOVA  -4417.3266   1.82e+04     -0.243      0.808   -4.01e+04    3.13e+04\n",
       "city_RANCHO MURIETA   1.282e+04   4.72e+04      0.271      0.786   -7.99e+04    1.06e+05\n",
       "city_RIO LINDA        6513.7840   2.18e+04      0.299      0.765   -3.62e+04    4.93e+04\n",
       "city_ROCKLIN          8.251e+04   2.53e+04      3.261      0.001    3.28e+04    1.32e+05\n",
       "city_ROSEVILLE         4.78e+04   1.69e+04      2.833      0.005    1.47e+04    8.09e+04\n",
       "city_SACRAMENTO      -7425.4293   1.17e+04     -0.632      0.528   -3.05e+04    1.56e+04\n",
       "city_WALNUT GROVE     1.335e+05   6.54e+04      2.042      0.042    5130.367    2.62e+05\n",
       "city_WEST SACRAMENTO -7509.5691   6.53e+04     -0.115      0.908   -1.36e+05    1.21e+05\n",
       "city_WILTON           7.856e+04   6.52e+04      1.205      0.229   -4.95e+04    2.07e+05\n",
       "==============================================================================\n",
       "Omnibus:                      211.275   Durbin-Watson:                   1.275\n",
       "Prob(Omnibus):                  0.000   Jarque-Bera (JB):              691.771\n",
       "Skew:                           1.278   Prob(JB):                    6.08e-151\n",
       "Kurtosis:                       6.820   Cond. No.                     5.90e+04\n",
       "==============================================================================\n",
       "\n",
       "Notes:\n",
       "[1] Standard Errors assume that the covariance matrix of the errors is correctly specified.\n",
       "[2] The condition number is large, 5.9e+04. This might indicate that there are\n",
       "strong multicollinearity or other numerical problems.\n",
       "\"\"\""
      ]
     },
     "execution_count": 120,
     "metadata": {},
     "output_type": "execute_result"
    }
   ],
   "source": [
    "X_vars2 = remove[['sq__ft', 'beds', 'baths', 'type','city']]\n",
    "X_vars2 = sm.add_constant(X_vars2)\n",
    "y2 = remove['price']\n",
    "dummy2 = pd.get_dummies(X_vars2, drop_first=True)\n",
    "ols2 = sm.OLS(y2, dummy2).fit()\n",
    "ols2.summary()"
   ]
  },
  {
   "cell_type": "markdown",
   "metadata": {},
   "source": [
    "### 19. Bias vs. Variance\n",
    "\n",
    "_(To be completed after the bias-variance tradeoff lecture.)_ At this point, do you think your model is high bias, high variance or in the sweet spot?"
   ]
  },
  {
   "cell_type": "markdown",
   "metadata": {},
   "source": [
    "I think the model with square feet, beds, baths, type of house and city variables is in the sweet spot as the model have high R2 while the RMSE is low. Yet, the model needs to be cross validate with new data to confirm and adjust of bias or variance."
   ]
  }
 ],
 "metadata": {
  "anaconda-cloud": {},
  "kernelspec": {
   "display_name": "Python 3 (ipykernel)",
   "language": "python",
   "name": "python3"
  },
  "language_info": {
   "codemirror_mode": {
    "name": "ipython",
    "version": 3
   },
   "file_extension": ".py",
   "mimetype": "text/x-python",
   "name": "python",
   "nbconvert_exporter": "python",
   "pygments_lexer": "ipython3",
   "version": "3.9.12"
  }
 },
 "nbformat": 4,
 "nbformat_minor": 4
}
